{
 "cells": [
  {
   "cell_type": "code",
   "execution_count": null,
   "id": "6c6912f2",
   "metadata": {},
   "outputs": [],
   "source": [
    "import geopandas as gpd\n",
    "\n",
    "# Charger le shapefile\n",
    "gdf = gpd.read_file(\"input.shp\")\n",
    "\n",
    "# Sauvegarder en GeoJSON\n",
    "gdf.to_file(\"output.geojson\", driver=\"GeoJSON\")"
   ]
  },
  {
   "cell_type": "code",
   "execution_count": null,
   "id": "db947d3f",
   "metadata": {},
   "outputs": [],
   "source": [
    "import geopandas as gpd\n",
    "from shapely.geometry import box\n",
    "\n",
    "# 1. Supposons que ton GeoDataFrame s'appelle dept\n",
    "# et est déjà en Lambert 93 (EPSG:2154)\n",
    "\n",
    "# 2. Délimitation :\n",
    "bounds = dept.total_bounds  # (xmin, ymin, xmax, ymax)\n",
    "xmin, ymin, xmax, ymax = bounds\n",
    "\n",
    "# 3. Définir taille tuile (exemple 5km x 5km)\n",
    "step = 5000 # mètres\n",
    "\n",
    "# 4. Construire les tuiles et les découper au département\n",
    "tiles = []\n",
    "x = xmin\n",
    "while x < xmax:\n",
    "    y = ymin\n",
    "    while y < ymax:\n",
    "        tile_geom = box(x, y, x + step, y + step)\n",
    "        # Découpe la tuile au shape du département\n",
    "        tile_clip = tile_geom.intersection(dept.unary_union)\n",
    "        if not tile_clip.is_empty:\n",
    "            tiles.append(tile_clip)\n",
    "        y += step\n",
    "    x += step\n",
    "\n",
    "# 5. Reprojeter vers WGS84 (EPSG:4326)\n",
    "tiles_wgs84 = [gpd.GeoSeries([t], crs=\"EPSG:2154\").to_crs(epsg=4326).values[0] for t in tiles]\n",
    "\n",
    "# 6. Boucle de traitement\n",
    "for i, tile_geom in enumerate(tiles_wgs84):\n",
    "    download_tile(tile_geom, tile_id=i)\n",
    "    # Si besoin : print(tile_geom)"
   ]
  }
 ],
 "metadata": {
  "kernelspec": {
   "display_name": "Python 3",
   "language": "python",
   "name": "python3"
  },
  "language_info": {
   "codemirror_mode": {
    "name": "ipython",
    "version": 3
   },
   "file_extension": ".py",
   "mimetype": "text/x-python",
   "name": "python",
   "nbconvert_exporter": "python",
   "pygments_lexer": "ipython3",
   "version": "3.13.5"
  }
 },
 "nbformat": 4,
 "nbformat_minor": 5
}
