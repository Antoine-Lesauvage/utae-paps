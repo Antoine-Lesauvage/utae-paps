{
 "cells": [
  {
   "cell_type": "code",
   "execution_count": 1,
   "id": "efa2270c",
   "metadata": {},
   "outputs": [],
   "source": [
    "import ee\n",
    "#ee.Authenticate()\n",
    "ee.Initialize()"
   ]
  },
  {
   "cell_type": "code",
   "execution_count": null,
   "id": "644837c5",
   "metadata": {},
   "outputs": [
    {
     "name": "stdout",
     "output_type": "stream",
     "text": [
      "📦 Téléchargement de la tuile 0/1038\n"
     ]
    },
    {
     "name": "stderr",
     "output_type": "stream",
     "text": [
      "Tile 0: 100%|██████████| 21/21 [01:01<00:00,  2.93s/it]\n"
     ]
    },
    {
     "name": "stdout",
     "output_type": "stream",
     "text": [
      "📦 Téléchargement de la tuile 1/1038\n"
     ]
    },
    {
     "name": "stderr",
     "output_type": "stream",
     "text": [
      "Tile 1: 100%|██████████| 21/21 [00:59<00:00,  2.84s/it]\n"
     ]
    },
    {
     "name": "stdout",
     "output_type": "stream",
     "text": [
      "📦 Téléchargement de la tuile 2/1038\n"
     ]
    },
    {
     "name": "stderr",
     "output_type": "stream",
     "text": [
      "Tile 2: 100%|██████████| 21/21 [00:56<00:00,  2.68s/it]\n"
     ]
    },
    {
     "name": "stdout",
     "output_type": "stream",
     "text": [
      "📦 Téléchargement de la tuile 3/1038\n"
     ]
    },
    {
     "name": "stderr",
     "output_type": "stream",
     "text": [
      "Tile 3: 100%|██████████| 21/21 [01:13<00:00,  3.51s/it]\n"
     ]
    },
    {
     "name": "stdout",
     "output_type": "stream",
     "text": [
      "📦 Téléchargement de la tuile 4/1038\n"
     ]
    },
    {
     "name": "stderr",
     "output_type": "stream",
     "text": [
      "Tile 4: 100%|██████████| 21/21 [01:14<00:00,  3.55s/it]\n"
     ]
    },
    {
     "name": "stdout",
     "output_type": "stream",
     "text": [
      "📦 Téléchargement de la tuile 5/1038\n"
     ]
    },
    {
     "name": "stderr",
     "output_type": "stream",
     "text": [
      "Tile 5: 100%|██████████| 21/21 [01:20<00:00,  3.81s/it]\n"
     ]
    },
    {
     "name": "stdout",
     "output_type": "stream",
     "text": [
      "📦 Téléchargement de la tuile 6/1038\n"
     ]
    },
    {
     "name": "stderr",
     "output_type": "stream",
     "text": [
      "Tile 6: 100%|██████████| 21/21 [00:56<00:00,  2.71s/it]\n"
     ]
    },
    {
     "name": "stdout",
     "output_type": "stream",
     "text": [
      "📦 Téléchargement de la tuile 7/1038\n"
     ]
    },
    {
     "name": "stderr",
     "output_type": "stream",
     "text": [
      "Tile 7: 100%|██████████| 21/21 [00:57<00:00,  2.74s/it]\n"
     ]
    },
    {
     "name": "stdout",
     "output_type": "stream",
     "text": [
      "📦 Téléchargement de la tuile 8/1038\n"
     ]
    },
    {
     "name": "stderr",
     "output_type": "stream",
     "text": [
      "Tile 8: 100%|██████████| 21/21 [00:56<00:00,  2.69s/it]\n"
     ]
    },
    {
     "name": "stdout",
     "output_type": "stream",
     "text": [
      "📦 Téléchargement de la tuile 9/1038\n"
     ]
    },
    {
     "name": "stderr",
     "output_type": "stream",
     "text": [
      "Tile 9: 100%|██████████| 21/21 [00:55<00:00,  2.62s/it]\n"
     ]
    },
    {
     "name": "stdout",
     "output_type": "stream",
     "text": [
      "📦 Téléchargement de la tuile 10/1038\n"
     ]
    },
    {
     "name": "stderr",
     "output_type": "stream",
     "text": [
      "Tile 10: 100%|██████████| 21/21 [01:01<00:00,  2.92s/it]\n"
     ]
    },
    {
     "name": "stdout",
     "output_type": "stream",
     "text": [
      "📦 Téléchargement de la tuile 11/1038\n"
     ]
    },
    {
     "name": "stderr",
     "output_type": "stream",
     "text": [
      "Tile 11: 100%|██████████| 21/21 [01:07<00:00,  3.21s/it]\n"
     ]
    },
    {
     "name": "stdout",
     "output_type": "stream",
     "text": [
      "📦 Téléchargement de la tuile 12/1038\n"
     ]
    },
    {
     "name": "stderr",
     "output_type": "stream",
     "text": [
      "Tile 12: 100%|██████████| 21/21 [00:58<00:00,  2.80s/it]\n"
     ]
    },
    {
     "name": "stdout",
     "output_type": "stream",
     "text": [
      "📦 Téléchargement de la tuile 13/1038\n"
     ]
    },
    {
     "name": "stderr",
     "output_type": "stream",
     "text": [
      "Tile 13: 100%|██████████| 21/21 [00:59<00:00,  2.83s/it]\n"
     ]
    },
    {
     "name": "stdout",
     "output_type": "stream",
     "text": [
      "📦 Téléchargement de la tuile 14/1038\n"
     ]
    },
    {
     "name": "stderr",
     "output_type": "stream",
     "text": [
      "Tile 14: 100%|██████████| 21/21 [01:04<00:00,  3.09s/it]\n"
     ]
    },
    {
     "name": "stdout",
     "output_type": "stream",
     "text": [
      "📦 Téléchargement de la tuile 15/1038\n"
     ]
    },
    {
     "name": "stderr",
     "output_type": "stream",
     "text": [
      "Tile 15: 100%|██████████| 21/21 [01:01<00:00,  2.94s/it]\n"
     ]
    },
    {
     "name": "stdout",
     "output_type": "stream",
     "text": [
      "📦 Téléchargement de la tuile 16/1038\n"
     ]
    },
    {
     "name": "stderr",
     "output_type": "stream",
     "text": [
      "Tile 16: 100%|██████████| 21/21 [01:08<00:00,  3.28s/it]\n"
     ]
    },
    {
     "name": "stdout",
     "output_type": "stream",
     "text": [
      "📦 Téléchargement de la tuile 17/1038\n"
     ]
    },
    {
     "name": "stderr",
     "output_type": "stream",
     "text": [
      "Tile 17: 100%|██████████| 21/21 [01:00<00:00,  2.87s/it]\n"
     ]
    },
    {
     "name": "stdout",
     "output_type": "stream",
     "text": [
      "📦 Téléchargement de la tuile 18/1038\n"
     ]
    },
    {
     "name": "stderr",
     "output_type": "stream",
     "text": [
      "Tile 18: 100%|██████████| 21/21 [00:56<00:00,  2.70s/it]\n"
     ]
    },
    {
     "name": "stdout",
     "output_type": "stream",
     "text": [
      "📦 Téléchargement de la tuile 19/1038\n"
     ]
    },
    {
     "name": "stderr",
     "output_type": "stream",
     "text": [
      "Tile 19: 100%|██████████| 21/21 [00:55<00:00,  2.65s/it]\n"
     ]
    },
    {
     "name": "stdout",
     "output_type": "stream",
     "text": [
      "📦 Téléchargement de la tuile 20/1038\n"
     ]
    },
    {
     "name": "stderr",
     "output_type": "stream",
     "text": [
      "Tile 20: 100%|██████████| 21/21 [00:56<00:00,  2.67s/it]\n"
     ]
    },
    {
     "name": "stdout",
     "output_type": "stream",
     "text": [
      "📦 Téléchargement de la tuile 21/1038\n"
     ]
    },
    {
     "name": "stderr",
     "output_type": "stream",
     "text": [
      "Tile 21: 100%|██████████| 21/21 [00:58<00:00,  2.80s/it]\n"
     ]
    },
    {
     "name": "stdout",
     "output_type": "stream",
     "text": [
      "📦 Téléchargement de la tuile 22/1038\n"
     ]
    },
    {
     "name": "stderr",
     "output_type": "stream",
     "text": [
      "Tile 22: 100%|██████████| 21/21 [00:56<00:00,  2.69s/it]\n"
     ]
    },
    {
     "name": "stdout",
     "output_type": "stream",
     "text": [
      "📦 Téléchargement de la tuile 23/1038\n"
     ]
    },
    {
     "name": "stderr",
     "output_type": "stream",
     "text": [
      "Tile 23: 100%|██████████| 21/21 [00:59<00:00,  2.85s/it]\n"
     ]
    },
    {
     "name": "stdout",
     "output_type": "stream",
     "text": [
      "📦 Téléchargement de la tuile 24/1038\n"
     ]
    },
    {
     "name": "stderr",
     "output_type": "stream",
     "text": [
      "Tile 24: 100%|██████████| 21/21 [00:58<00:00,  2.80s/it]\n"
     ]
    },
    {
     "name": "stdout",
     "output_type": "stream",
     "text": [
      "📦 Téléchargement de la tuile 25/1038\n"
     ]
    },
    {
     "name": "stderr",
     "output_type": "stream",
     "text": [
      "Tile 25: 100%|██████████| 21/21 [00:55<00:00,  2.67s/it]\n"
     ]
    },
    {
     "name": "stdout",
     "output_type": "stream",
     "text": [
      "📦 Téléchargement de la tuile 26/1038\n"
     ]
    },
    {
     "name": "stderr",
     "output_type": "stream",
     "text": [
      "Tile 26: 100%|██████████| 21/21 [00:54<00:00,  2.59s/it]\n"
     ]
    },
    {
     "name": "stdout",
     "output_type": "stream",
     "text": [
      "📦 Téléchargement de la tuile 27/1038\n"
     ]
    },
    {
     "name": "stderr",
     "output_type": "stream",
     "text": [
      "Tile 27: 100%|██████████| 21/21 [00:57<00:00,  2.73s/it]\n"
     ]
    },
    {
     "name": "stdout",
     "output_type": "stream",
     "text": [
      "📦 Téléchargement de la tuile 28/1038\n"
     ]
    },
    {
     "name": "stderr",
     "output_type": "stream",
     "text": [
      "Tile 28: 100%|██████████| 21/21 [01:02<00:00,  2.98s/it]\n"
     ]
    },
    {
     "name": "stdout",
     "output_type": "stream",
     "text": [
      "📦 Téléchargement de la tuile 29/1038\n"
     ]
    },
    {
     "name": "stderr",
     "output_type": "stream",
     "text": [
      "Tile 29: 100%|██████████| 21/21 [01:10<00:00,  3.35s/it]\n"
     ]
    },
    {
     "name": "stdout",
     "output_type": "stream",
     "text": [
      "📦 Téléchargement de la tuile 30/1038\n"
     ]
    },
    {
     "name": "stderr",
     "output_type": "stream",
     "text": [
      "Tile 30: 100%|██████████| 21/21 [01:11<00:00,  3.42s/it]\n"
     ]
    },
    {
     "name": "stdout",
     "output_type": "stream",
     "text": [
      "📦 Téléchargement de la tuile 31/1038\n"
     ]
    },
    {
     "name": "stderr",
     "output_type": "stream",
     "text": [
      "Tile 31: 100%|██████████| 21/21 [01:21<00:00,  3.86s/it]\n"
     ]
    },
    {
     "name": "stdout",
     "output_type": "stream",
     "text": [
      "📦 Téléchargement de la tuile 32/1038\n"
     ]
    },
    {
     "name": "stderr",
     "output_type": "stream",
     "text": [
      "Tile 32: 100%|██████████| 21/21 [01:02<00:00,  2.96s/it]\n"
     ]
    },
    {
     "name": "stdout",
     "output_type": "stream",
     "text": [
      "📦 Téléchargement de la tuile 33/1038\n"
     ]
    },
    {
     "name": "stderr",
     "output_type": "stream",
     "text": [
      "Tile 33: 100%|██████████| 21/21 [01:17<00:00,  3.70s/it]\n"
     ]
    },
    {
     "name": "stdout",
     "output_type": "stream",
     "text": [
      "📦 Téléchargement de la tuile 34/1038\n"
     ]
    },
    {
     "name": "stderr",
     "output_type": "stream",
     "text": [
      "Tile 34: 100%|██████████| 21/21 [01:04<00:00,  3.06s/it]\n"
     ]
    },
    {
     "name": "stdout",
     "output_type": "stream",
     "text": [
      "📦 Téléchargement de la tuile 35/1038\n"
     ]
    },
    {
     "name": "stderr",
     "output_type": "stream",
     "text": [
      "Tile 35: 100%|██████████| 21/21 [00:59<00:00,  2.85s/it]\n"
     ]
    },
    {
     "name": "stdout",
     "output_type": "stream",
     "text": [
      "📦 Téléchargement de la tuile 36/1038\n"
     ]
    },
    {
     "name": "stderr",
     "output_type": "stream",
     "text": [
      "Tile 36: 100%|██████████| 21/21 [01:01<00:00,  2.95s/it]\n"
     ]
    },
    {
     "name": "stdout",
     "output_type": "stream",
     "text": [
      "📦 Téléchargement de la tuile 37/1038\n"
     ]
    },
    {
     "name": "stderr",
     "output_type": "stream",
     "text": [
      "Tile 37: 100%|██████████| 21/21 [00:55<00:00,  2.66s/it]\n"
     ]
    },
    {
     "name": "stdout",
     "output_type": "stream",
     "text": [
      "📦 Téléchargement de la tuile 38/1038\n"
     ]
    },
    {
     "name": "stderr",
     "output_type": "stream",
     "text": [
      "Tile 38: 100%|██████████| 21/21 [01:01<00:00,  2.93s/it]\n"
     ]
    },
    {
     "name": "stdout",
     "output_type": "stream",
     "text": [
      "📦 Téléchargement de la tuile 39/1038\n"
     ]
    },
    {
     "name": "stderr",
     "output_type": "stream",
     "text": [
      "Tile 39: 100%|██████████| 21/21 [00:59<00:00,  2.82s/it]\n"
     ]
    },
    {
     "name": "stdout",
     "output_type": "stream",
     "text": [
      "📦 Téléchargement de la tuile 40/1038\n"
     ]
    },
    {
     "name": "stderr",
     "output_type": "stream",
     "text": [
      "Tile 40: 100%|██████████| 21/21 [01:21<00:00,  3.89s/it]\n"
     ]
    },
    {
     "name": "stdout",
     "output_type": "stream",
     "text": [
      "📦 Téléchargement de la tuile 41/1038\n"
     ]
    },
    {
     "name": "stderr",
     "output_type": "stream",
     "text": [
      "Tile 41: 100%|██████████| 21/21 [01:01<00:00,  2.93s/it]\n"
     ]
    },
    {
     "name": "stdout",
     "output_type": "stream",
     "text": [
      "📦 Téléchargement de la tuile 42/1038\n"
     ]
    },
    {
     "name": "stderr",
     "output_type": "stream",
     "text": [
      "Tile 42: 100%|██████████| 21/21 [01:00<00:00,  2.90s/it]\n"
     ]
    },
    {
     "name": "stdout",
     "output_type": "stream",
     "text": [
      "📦 Téléchargement de la tuile 43/1038\n"
     ]
    },
    {
     "name": "stderr",
     "output_type": "stream",
     "text": [
      "Tile 43: 100%|██████████| 21/21 [01:10<00:00,  3.35s/it]\n"
     ]
    },
    {
     "name": "stdout",
     "output_type": "stream",
     "text": [
      "📦 Téléchargement de la tuile 44/1038\n"
     ]
    },
    {
     "name": "stderr",
     "output_type": "stream",
     "text": [
      "Tile 44: 100%|██████████| 21/21 [01:08<00:00,  3.28s/it]\n"
     ]
    },
    {
     "name": "stdout",
     "output_type": "stream",
     "text": [
      "📦 Téléchargement de la tuile 45/1038\n"
     ]
    },
    {
     "name": "stderr",
     "output_type": "stream",
     "text": [
      "Tile 45: 100%|██████████| 21/21 [01:02<00:00,  2.95s/it]\n"
     ]
    },
    {
     "name": "stdout",
     "output_type": "stream",
     "text": [
      "📦 Téléchargement de la tuile 46/1038\n"
     ]
    },
    {
     "name": "stderr",
     "output_type": "stream",
     "text": [
      "Tile 46: 100%|██████████| 21/21 [00:56<00:00,  2.69s/it]\n"
     ]
    },
    {
     "name": "stdout",
     "output_type": "stream",
     "text": [
      "📦 Téléchargement de la tuile 47/1038\n"
     ]
    },
    {
     "name": "stderr",
     "output_type": "stream",
     "text": [
      "Tile 47:  38%|███▊      | 8/21 [00:24<00:37,  2.89s/it]"
     ]
    }
   ],
   "source": [
    "import ee\n",
    "import numpy as np\n",
    "import os\n",
    "from tqdm import tqdm\n",
    "from datetime import datetime, timezone, timedelta\n",
    "import geopandas as gpd\n",
    "from shapely.geometry import box\n",
    "from shapely.geometry import Polygon, MultiPolygon, mapping\n",
    "import json\n",
    "\n",
    "# 🟩 Paramètres\n",
    "BANDS = ['B2', 'B3', 'B4', 'B5', 'B6', 'B7', 'B8', 'B8A', 'B11', 'B12']  # bandes utilisées à l'entraînement\n",
    "START_DATE = '2018-01-01'\n",
    "END_DATE = '2018-12-31'\n",
    "SCALE = 10  # mètres\n",
    "PATCH_SIZE = 1280  # 128 pixels à 10m\n",
    "EXPORT_DIR = \"/home/onyxia/work/data/patches_2018\"  # modifie selon ton cas\n",
    "\n",
    "# Charger la grille localement\n",
    "grid = gpd.read_file(\"grid_indre_loire.geojson\")\n",
    "\n",
    "# Convertir en liste de géométries Earth Engine\n",
    "tiles = [ee.Geometry(mapping[\"geometry\"]) for mapping in grid.iterfeatures()]\n",
    "\n",
    "\n",
    "# ⬇️ Fonction de téléchargement\n",
    "def download_tile(region, tile_id):\n",
    "\n",
    "\n",
    "    collection = ee.ImageCollection(\"COPERNICUS/S2_SR_HARMONIZED\") \\\n",
    "        .filterDate(START_DATE, END_DATE) \\\n",
    "        .filterBounds(region) \\\n",
    "        .filter(ee.Filter.lt('CLOUDY_PIXEL_PERCENTAGE', 20)) \\\n",
    "        .select(BANDS)\n",
    "\n",
    "\n",
    "\n",
    "    dates = collection.aggregate_array(\"system:time_start\").getInfo()\n",
    "    dates = sorted(set(datetime.fromtimestamp(t / 1000, tz=timezone.utc).strftime('%Y%m%d') for t in dates))\n",
    "\n",
    "    os.makedirs(os.path.join(EXPORT_DIR, f\"tile_{tile_id}\"), exist_ok=True)\n",
    "\n",
    "    for date in tqdm(dates, desc=f\"Tile {tile_id}\"):\n",
    "        try:\n",
    "            npy_path = os.path.join(tile_dir, f\"{date}.npy\")\n",
    "\n",
    "            if os.path.exists(npy_path):\n",
    "                print(f\"✅ {npy_path} existe déjà, on passe.\")\n",
    "                continue\n",
    "            date_obj = datetime.strptime(date, \"%Y%m%d\")\n",
    "            start = (date_obj - timedelta(days=2)).strftime(\"%Y-%m-%d\")\n",
    "            end = (date_obj + timedelta(days=2)).strftime(\"%Y-%m-%d\")\n",
    "            image = collection.filterDate(start, end).median()\n",
    "            if image.bandNames().size().getInfo() == 0:\n",
    "                print(f\"⚠️ Pas d’image pour {date} autour de {tile_id}\")\n",
    "                continue\n",
    "            patch = image.clip(region).resample('bicubic').reproject(crs='EPSG:4326', scale=SCALE)\n",
    "\n",
    "            url = patch.getDownloadURL({\n",
    "                'scale': SCALE,\n",
    "                'region': region,\n",
    "                'format': 'NPY'\n",
    "            })\n",
    "\n",
    "            # Téléchargement direct via requests\n",
    "            import requests\n",
    "            npy_path = os.path.join(EXPORT_DIR, f\"tile_{tile_id}\", f\"{date}.npy\")\n",
    "            r = requests.get(url)\n",
    "            with open(npy_path, 'wb') as f:\n",
    "                f.write(r.content)\n",
    "        except Exception as e:\n",
    "            print(f\"⚠️ {date} failed for tile {tile_id}: {e}\")\n",
    "\n",
    "# 🚀 Lancement pour toutes les tuiles\n",
    "for i, tile in enumerate(tiles):\n",
    "    print(f\"📦 Téléchargement de la tuile {i}/{len(tiles)}\")\n",
    "    try:\n",
    "        download_tile(tile, tile_id=i)  # ← à adapter à ton API\n",
    "    except Exception as e:\n",
    "        print(f\"⚠️ Échec tuile {i} : {e}\")"
   ]
  },
  {
   "cell_type": "code",
   "execution_count": null,
   "id": "fd40c718",
   "metadata": {},
   "outputs": [],
   "source": [
    "import os\n",
    "import numpy as np\n",
    "from tqdm import tqdm\n",
    "\n",
    "# 📁 Répertoire où sont stockés les .npy par tile et par date\n",
    "BASE_DIR = \"/home/onyxia/work/patches_2018\"\n",
    "OUTPUT_DIR = \"/home/onyxia/work/patches_formatted\"\n",
    "os.makedirs(OUTPUT_DIR, exist_ok=True)\n",
    "\n",
    "# 🔄 Pour chaque tile (tile_0, tile_1, ...)\n",
    "for tile_folder in tqdm(sorted(os.listdir(BASE_DIR))):\n",
    "    tile_path = os.path.join(BASE_DIR, tile_folder)\n",
    "    if not os.path.isdir(tile_path):\n",
    "        continue\n",
    "\n",
    "    # 📂 Charger tous les fichiers .npy\n",
    "    npy_files = sorted([\n",
    "        f for f in os.listdir(tile_path)\n",
    "        if f.endswith(\".npy\")\n",
    "    ])\n",
    "\n",
    "    # 🧱 Empilement temporel (T, C, H, W)\n",
    "    images = []\n",
    "    for file in npy_files:\n",
    "        path = os.path.join(tile_path, file)\n",
    "        try:\n",
    "            array = np.load(path)\n",
    "            if array.ndim == 3:  # format (C, H, W)\n",
    "                images.append(array)\n",
    "            else:\n",
    "                print(f\"❌ Format inattendu pour {file} : shape={array.shape}\")\n",
    "        except Exception as e:\n",
    "            print(f\"⚠️ Erreur lors du chargement de {file} : {e}\")\n",
    "\n",
    "    if not images:\n",
    "        print(f\"⚠️ Aucune image valide pour {tile_folder}\")\n",
    "        continue\n",
    "\n",
    "    # 📏 Conversion en (T, C, H, W)\n",
    "    images_array = np.stack(images, axis=0)\n",
    "\n",
    "    # 💾 Sauvegarde\n",
    "    output_path = os.path.join(OUTPUT_DIR, f\"{tile_folder}.npy\")\n",
    "    np.save(output_path, images_array)\n",
    "    print(f\"✅ Sauvegardé : {output_path} → shape={images_array.shape}\")"
   ]
  },
  {
   "cell_type": "code",
   "execution_count": null,
   "id": "7153cd26",
   "metadata": {},
   "outputs": [
    {
     "ename": "AttributeError",
     "evalue": "'function' object has no attribute 'intersects'",
     "output_type": "error",
     "traceback": [
      "\u001b[31m---------------------------------------------------------------------------\u001b[39m",
      "\u001b[31mAttributeError\u001b[39m                            Traceback (most recent call last)",
      "\u001b[36mCell\u001b[39m\u001b[36m \u001b[39m\u001b[32mIn[3]\u001b[39m\u001b[32m, line 29\u001b[39m\n\u001b[32m     27\u001b[39m     grid = gpd.GeoDataFrame({\u001b[33m'\u001b[39m\u001b[33mgeometry\u001b[39m\u001b[33m'\u001b[39m: tiles}, crs=dept_utm.crs).to_crs(\u001b[33m\"\u001b[39m\u001b[33mEPSG:4326\u001b[39m\u001b[33m\"\u001b[39m)\n\u001b[32m     28\u001b[39m     \u001b[38;5;28;01mreturn\u001b[39;00m grid\n\u001b[32m---> \u001b[39m\u001b[32m29\u001b[39m grid = \u001b[43mgenerate_tiles_from_geojson\u001b[49m\u001b[43m(\u001b[49m\u001b[33;43m\"\u001b[39;49m\u001b[33;43mdepartement-37-indre-et-loire.geojson\u001b[39;49m\u001b[33;43m\"\u001b[39;49m\u001b[43m)\u001b[49m\n\u001b[32m     30\u001b[39m grid.to_file(\u001b[33m\"\u001b[39m\u001b[33mgrid_indre_loire.geojson\u001b[39m\u001b[33m\"\u001b[39m, driver=\u001b[33m\"\u001b[39m\u001b[33mGeoJSON\u001b[39m\u001b[33m\"\u001b[39m)\n",
      "\u001b[36mCell\u001b[39m\u001b[36m \u001b[39m\u001b[32mIn[3]\u001b[39m\u001b[32m, line 24\u001b[39m, in \u001b[36mgenerate_tiles_from_geojson\u001b[39m\u001b[34m(geojson_path, tile_size, resolution)\u001b[39m\n\u001b[32m     22\u001b[39m     \u001b[38;5;28;01mfor\u001b[39;00m y \u001b[38;5;129;01min\u001b[39;00m y_coords:\n\u001b[32m     23\u001b[39m         tile = box(x, y, x + tile_size_m, y + tile_size_m)\n\u001b[32m---> \u001b[39m\u001b[32m24\u001b[39m         \u001b[38;5;28;01mif\u001b[39;00m \u001b[43mdept_utm\u001b[49m\u001b[43m.\u001b[49m\u001b[43mgeometry\u001b[49m\u001b[43m.\u001b[49m\u001b[43munion_all\u001b[49m\u001b[43m.\u001b[49m\u001b[43mintersects\u001b[49m(tile):\n\u001b[32m     25\u001b[39m             tiles.append(tile)\n\u001b[32m     27\u001b[39m grid = gpd.GeoDataFrame({\u001b[33m'\u001b[39m\u001b[33mgeometry\u001b[39m\u001b[33m'\u001b[39m: tiles}, crs=dept_utm.crs).to_crs(\u001b[33m\"\u001b[39m\u001b[33mEPSG:4326\u001b[39m\u001b[33m\"\u001b[39m)\n",
      "\u001b[31mAttributeError\u001b[39m: 'function' object has no attribute 'intersects'"
     ]
    }
   ],
   "source": [
    "import geopandas as gpd\n",
    "import shapely\n",
    "import numpy as np\n",
    "from shapely.geometry import box\n",
    "\n",
    "def generate_tiles_from_geojson(geojson_path, tile_size=256, resolution=10):\n",
    "    # Lire le fichier GeoJSON\n",
    "    dept = gpd.read_file(geojson_path).to_crs(\"EPSG:4326\")\n",
    "    bounds = dept.total_bounds  # [minx, miny, maxx, maxy]\n",
    "\n",
    "    # Convertir en mètres via projection UTM\n",
    "    dept_utm = dept.to_crs(dept.estimate_utm_crs())\n",
    "    bounds_utm = dept_utm.total_bounds\n",
    "\n",
    "    tile_size_m = tile_size * resolution\n",
    "    xmin, ymin, xmax, ymax = bounds_utm\n",
    "    x_coords = np.arange(xmin, xmax, tile_size_m)\n",
    "    y_coords = np.arange(ymin, ymax, tile_size_m)\n",
    "\n",
    "    tiles = []\n",
    "    for x in x_coords:\n",
    "        for y in y_coords:\n",
    "            tile = box(x, y, x + tile_size_m, y + tile_size_m)\n",
    "            if dept_utm.geometry.unary_union.intersects(tile):\n",
    "                tiles.append(tile)\n",
    "\n",
    "    grid = gpd.GeoDataFrame({'geometry': tiles}, crs=dept_utm.crs).to_crs(\"EPSG:4326\")\n",
    "    return grid\n",
    "grid = generate_tiles_from_geojson(\"departement-37-indre-et-loire.geojson\")\n",
    "grid.to_file(\"grid_indre_loire.geojson\", driver=\"GeoJSON\")"
   ]
  }
  
    
     }]]