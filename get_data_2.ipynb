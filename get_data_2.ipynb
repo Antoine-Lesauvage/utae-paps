{
 "cells": [
  {
   "cell_type": "code",
   "execution_count": 1,
   "id": "f7b893b6",
   "metadata": {},
   "outputs": [
    {
     "data": {
      "text/html": [
       "<p>To authorize access needed by Earth Engine, open the following\n",
       "        URL in a web browser and follow the instructions:</p>\n",
       "        <p><a href=https://code.earthengine.google.com/client-auth?scopes=https%3A//www.googleapis.com/auth/earthengine%20https%3A//www.googleapis.com/auth/cloud-platform%20https%3A//www.googleapis.com/auth/drive%20https%3A//www.googleapis.com/auth/devstorage.full_control&request_id=GuTgbpHnJnCges4aOT1WS93_LA0hSCiBJ672Fl7q6Rg&tc=89fhnq6JxLIsrl6RcjdQng0T56M2MQ3rasraaLyN--g&cc=O8CoeoITTp47u3G6gUEM-nsKa2NKel6HL048SqaI5DI>https://code.earthengine.google.com/client-auth?scopes=https%3A//www.googleapis.com/auth/earthengine%20https%3A//www.googleapis.com/auth/cloud-platform%20https%3A//www.googleapis.com/auth/drive%20https%3A//www.googleapis.com/auth/devstorage.full_control&request_id=GuTgbpHnJnCges4aOT1WS93_LA0hSCiBJ672Fl7q6Rg&tc=89fhnq6JxLIsrl6RcjdQng0T56M2MQ3rasraaLyN--g&cc=O8CoeoITTp47u3G6gUEM-nsKa2NKel6HL048SqaI5DI</a></p>\n",
       "        <p>The authorization workflow will generate a code, which you should paste in the box below.</p>\n",
       "        "
      ],
      "text/plain": [
       "<IPython.core.display.HTML object>"
      ]
     },
     "metadata": {},
     "output_type": "display_data"
    },
    {
     "name": "stdout",
     "output_type": "stream",
     "text": [
      "\n",
      "Successfully saved authorization token.\n"
     ]
    },
    {
     "data": {
      "text/plain": [
       "<function ee.Initialize(credentials: Optional[Any] = 'persistent', url: Optional[str] = None, cloud_api_key: Optional[str] = None, http_transport: Optional[Any] = None, project: Union[int, str, NoneType] = None) -> None>"
      ]
     },
     "execution_count": 1,
     "metadata": {},
     "output_type": "execute_result"
    }
   ],
   "source": [
    "import ee\n",
    "ee.Authenticate()\n",
    "ee.Initialize"
   ]
  },
  {
   "cell_type": "code",
   "execution_count": null,
   "id": "83c4940b",
   "metadata": {},
   "outputs": [
    {
     "name": "stderr",
     "output_type": "stream",
     "text": [
      "Tuiles traitées:   0%|          | 0/1038 [00:00<?, ?it/s]"
     ]
    },
    {
     "name": "stdout",
     "output_type": "stream",
     "text": [
      "⏭️  Déjà présent sur S3 : 2_20180208.npy\n",
      "⏭️  Déjà présent sur S3 : 5_20180208.npy\n",
      "⏭️  Déjà présent sur S3 : 4_20180208.npy\n",
      "⏭️  Déjà présent sur S3 : 2_20180320.npy\n",
      "⏭️  Déjà présent sur S3 : 0_20180208.npy\n",
      "⏭️  Déjà présent sur S3 : 3_20180208.npy\n",
      "⏭️  Déjà présent sur S3 : 4_20180320.npy\n",
      "⏭️  Déjà présent sur S3 : 2_20180419.npy\n",
      "⏭️  Déjà présent sur S3 : 5_20180320.npy\n",
      "⏭️  Déjà présent sur S3 : 0_20180320.npy\n",
      "⏭️  Déjà présent sur S3 : 3_20180320.npy\n",
      "⏭️  Déjà présent sur S3 : 1_20180208.npy\n",
      "⏭️  Déjà présent sur S3 : 5_20180419.npy\n",
      "⏭️  Déjà présent sur S3 : 2_20180424.npy\n",
      "⏭️  Déjà présent sur S3 : 4_20180419.npy\n",
      "⏭️  Déjà présent sur S3 : 0_20180419.npy\n",
      "⏭️  Déjà présent sur S3 : 3_20180419.npy\n",
      "⏭️  Déjà présent sur S3 : 1_20180320.npy\n",
      "⏭️  Déjà présent sur S3 : 4_20180424.npy\n",
      "⏭️  Déjà présent sur S3 : 0_20180424.npy\n",
      "⏭️  Déjà présent sur S3 : 0_20180504.npy\n",
      "⏭️  Déjà présent sur S3 : 3_20180424.npy\n",
      "⏭️  Déjà présent sur S3 : 2_20180504.npy\n",
      "⏭️  Déjà présent sur S3 : 0_20180519.npy\n",
      "⏭️  Déjà présent sur S3 : 0_20180623.npy\n",
      "⏭️  Déjà présent sur S3 : 3_20180504.npy\n",
      "⏭️  Déjà présent sur S3 : 2_20180519.npy\n",
      "⏭️  Déjà présent sur S3 : 0_20180628.npy\n",
      "⏭️  Déjà présent sur S3 : 0_20180703.npy\n",
      "⏭️  Déjà présent sur S3 : 5_20180424.npy\n",
      "⏭️  Déjà présent sur S3 : 1_20180419.npy\n",
      "⏭️  Déjà présent sur S3 : 3_20180519.npy\n",
      "⏭️  Déjà présent sur S3 : 2_20180623.npy\n",
      "⏭️  Déjà présent sur S3 : 4_20180504.npy\n",
      "⏭️  Déjà présent sur S3 : 0_20180708.npy\n",
      "⏭️  Déjà présent sur S3 : 5_20180504.npy\n",
      "⏭️  Déjà présent sur S3 : 1_20180424.npy\n",
      "⏭️  Déjà présent sur S3 : 3_20180623.npy\n",
      "⏭️  Déjà présent sur S3 : 4_20180519.npy\n",
      "⏭️  Déjà présent sur S3 : 2_20180628.npy\n",
      "⏭️  Déjà présent sur S3 : 5_20180519.npy\n",
      "⏭️  Déjà présent sur S3 : 1_20180504.npy\n",
      "⏭️  Déjà présent sur S3 : 4_20180623.npy\n",
      "⏭️  Déjà présent sur S3 : 3_20180628.npy\n",
      "⏭️  Déjà présent sur S3 : 0_20180723.npy\n",
      "⏭️  Déjà présent sur S3 : 2_20180703.npy\n",
      "⏭️  Déjà présent sur S3 : 3_20180703.npy\n",
      "⏭️  Déjà présent sur S3 : 1_20180519.npy\n",
      "⏭️  Déjà présent sur S3 : 4_20180628.npy\n",
      "⏭️  Déjà présent sur S3 : 0_20180802.npy\n",
      "⏭️  Déjà présent sur S3 : 2_20180708.npy\n",
      "⏭️  Déjà présent sur S3 : 5_20180623.npy\n",
      "⏭️  Déjà présent sur S3 : 0_20180822.npy\n",
      "⏭️  Déjà présent sur S3 : 3_20180708.npy\n",
      "⏭️  Déjà présent sur S3 : 1_20180623.npy\n",
      "⏭️  Déjà présent sur S3 : 4_20180703.npy\n",
      "⏭️  Déjà présent sur S3 : 2_20180723.npy\n",
      "⏭️  Déjà présent sur S3 : 5_20180628.npy\n",
      "⏭️  Déjà présent sur S3 : 0_20180901.npy\n",
      "⏭️  Déjà présent sur S3 : 3_20180723.npy\n",
      "⏭️  Déjà présent sur S3 : 2_20180802.npy\n",
      "⏭️  Déjà présent sur S3 : 4_20180708.npy\n",
      "⏭️  Déjà présent sur S3 : 1_20180628.npy\n",
      "⏭️  Déjà présent sur S3 : 0_20180911.npy\n",
      "⏭️  Déjà présent sur S3 : 5_20180703.npy\n",
      "⏭️  Déjà présent sur S3 : 3_20180802.npy\n",
      "⏭️  Déjà présent sur S3 : 2_20180822.npy\n",
      "⏭️  Déjà présent sur S3 : 1_20180703.npy\n",
      "⏭️  Déjà présent sur S3 : 0_20180926.npy\n",
      "⏭️  Déjà présent sur S3 : 3_20180822.npy\n",
      "⏭️  Déjà présent sur S3 : 4_20180723.npy\n",
      "⏭️  Déjà présent sur S3 : 5_20180708.npy\n",
      "⏭️  Déjà présent sur S3 : 2_20180901.npy\n",
      "⏭️  Déjà présent sur S3 : 0_20181021.npy\n",
      "⏭️  Déjà présent sur S3 : 1_20180708.npy\n",
      "⏭️  Déjà présent sur S3 : 4_20180802.npy\n",
      "⏭️  Déjà présent sur S3 : 5_20180723.npy\n"
     ]
    },
    {
     "name": "stderr",
     "output_type": "stream",
     "text": [
      "Tuiles traitées:   0%|          | 1/1038 [00:01<22:29,  1.30s/it]"
     ]
    },
    {
     "name": "stdout",
     "output_type": "stream",
     "text": [
      "⏭️  Déjà présent sur S3 : 3_20180901.npy\n",
      "⏭️  Déjà présent sur S3 : 4_20180822.npy\n",
      "⏭️  Déjà présent sur S3 : 1_20180723.npy\n",
      "⏭️  Déjà présent sur S3 : 2_20180911.npy\n",
      "⏭️  Déjà présent sur S3 : 0_20181130.npy\n",
      "⏭️  Déjà présent sur S3 : 5_20180802.npy\n",
      "⏭️  Déjà présent sur S3 : 4_20180901.npy\n",
      "⏭️  Déjà présent sur S3 : 3_20180911.npy\n",
      "⏭️  Déjà présent sur S3 : 2_20180926.npy\n",
      "⏭️  Déjà présent sur S3 : 0_20181210.npy\n",
      "⏭️  Déjà présent sur S3 : 1_20180802.npy\n",
      "⏭️  Déjà présent sur S3 : 4_20180911.npy\n",
      "⏭️  Déjà présent sur S3 : 5_20180822.npy\n",
      "⏭️  Déjà présent sur S3 : 3_20180926.npy\n",
      "⏭️  Déjà présent sur S3 : 2_20181021.npy\n",
      "⏭️  Déjà présent sur S3 : 1_20180822.npy\n",
      "⏭️  Déjà présent sur S3 : 0_20181220.npy\n",
      "⏭️  Déjà présent sur S3 : 4_20180926.npy\n",
      "⏭️  Déjà présent sur S3 : 5_20180901.npy\n",
      "⏭️  Déjà présent sur S3 : 1_20180901.npy\n",
      "⏭️  Déjà présent sur S3 : 3_20181021.npy\n",
      "⏭️  Déjà présent sur S3 : 2_20181130.npy\n",
      "⏭️  Déjà présent sur S3 : 0_20181225.npy\n",
      "✅ Tuile 0 terminée.\n",
      "⏭️  Déjà présent sur S3 : 5_20180911.npy\n",
      "⏭️  Déjà présent sur S3 : 4_20181021.npy\n",
      "⏭️  Déjà présent sur S3 : 3_20181130.npy\n",
      "⏭️  Déjà présent sur S3 : 2_20181210.npy\n",
      "⏭️  Déjà présent sur S3 : 1_20180911.npy\n",
      "⏭️  Déjà présent sur S3 : 5_20180926.npy\n",
      "⏭️  Déjà présent sur S3 : 3_20181210.npy\n",
      "⏭️  Déjà présent sur S3 : 4_20181130.npy\n",
      "⏭️  Déjà présent sur S3 : 2_20181220.npy\n",
      "⏭️  Déjà présent sur S3 : 1_20180926.npy\n",
      "⏭️  Déjà présent sur S3 : 5_20181021.npy\n",
      "⏭️  Déjà présent sur S3 : 3_20181220.npy\n",
      "⏭️  Déjà présent sur S3 : 2_20181225.npy\n",
      "✅ Tuile 2 terminée.\n",
      "⏭️  Déjà présent sur S3 : 1_20181021.npy\n",
      "⏭️  Déjà présent sur S3 : 4_20181210.npy\n"
     ]
    },
    {
     "name": "stderr",
     "output_type": "stream",
     "text": [
      "Tuiles traitées:   0%|          | 5/1038 [00:01<03:26,  5.00it/s]"
     ]
    },
    {
     "name": "stdout",
     "output_type": "stream",
     "text": [
      "⏭️  Déjà présent sur S3 : 3_20181225.npy\n",
      "✅ Tuile 3 terminée.\n",
      "⏭️  Déjà présent sur S3 : 4_20181220.npy\n",
      "⏭️  Déjà présent sur S3 : 1_20181130.npy\n",
      "⏭️  Déjà présent sur S3 : 5_20181130.npy\n",
      "⏭️  Déjà présent sur S3 : 4_20181225.npy\n",
      "✅ Tuile 4 terminée.\n",
      "⏭️  Déjà présent sur S3 : 1_20181210.npy\n",
      "⏭️  Déjà présent sur S3 : 5_20181210.npy\n",
      "⏭️  Déjà présent sur S3 : 1_20181220.npy\n",
      "⏭️  Déjà présent sur S3 : 5_20181220.npy\n",
      "⏭️  Déjà présent sur S3 : 1_20181225.npy\n",
      "✅ Tuile 1 terminée.\n",
      "⏭️  Déjà présent sur S3 : 5_20181225.npy\n",
      "✅ Tuile 5 terminée.\n",
      "⏭️  Déjà présent sur S3 : 6_20180208.npy\n",
      "⏭️  Déjà présent sur S3 : 6_20180320.npy\n",
      "⏭️  Déjà présent sur S3 : 7_20180208.npy\n",
      "⏭️  Déjà présent sur S3 : 6_20180419.npy\n",
      "⏭️  Déjà présent sur S3 : 6_20180424.npy\n",
      "⏭️  Déjà présent sur S3 : 7_20180320.npy\n",
      "⏭️  Déjà présent sur S3 : 6_20180504.npy\n",
      "⏭️  Déjà présent sur S3 : 7_20180419.npy\n",
      "⏭️  Déjà présent sur S3 : 7_20180424.npy\n",
      "⏭️  Déjà présent sur S3 : 6_20180519.npy\n",
      "⏭️  Déjà présent sur S3 : 9_20180208.npy\n",
      "⏭️  Déjà présent sur S3 : 6_20180623.npy\n",
      "⏭️  Déjà présent sur S3 : 7_20180504.npy\n",
      "⏭️  Déjà présent sur S3 : 9_20180320.npy\n",
      "⏭️  Déjà présent sur S3 : 8_20180208.npy\n",
      "⏭️  Déjà présent sur S3 : 6_20180628.npy\n",
      "⏭️  Déjà présent sur S3 : 7_20180519.npy\n",
      "⏭️  Déjà présent sur S3 : 10_20180208.npy\n",
      "⏭️  Déjà présent sur S3 : 9_20180419.npy\n",
      "⏭️  Déjà présent sur S3 : 8_20180320.npy\n",
      "⏭️  Déjà présent sur S3 : 7_20180623.npy\n",
      "⏭️  Déjà présent sur S3 : 10_20180320.npy\n",
      "⏭️  Déjà présent sur S3 : 8_20180419.npy\n",
      "⏭️  Déjà présent sur S3 : 9_20180424.npy\n",
      "⏭️  Déjà présent sur S3 : 7_20180628.npy\n",
      "⏭️  Déjà présent sur S3 : 6_20180703.npy\n",
      "⏭️  Déjà présent sur S3 : 8_20180424.npy\n",
      "⏭️  Déjà présent sur S3 : 9_20180504.npy\n",
      "⏭️  Déjà présent sur S3 : 6_20180708.npy\n",
      "⏭️  Déjà présent sur S3 : 7_20180703.npy\n",
      "⏭️  Déjà présent sur S3 : 10_20180419.npy\n",
      "⏭️  Déjà présent sur S3 : 9_20180519.npy\n",
      "⏭️  Déjà présent sur S3 : 8_20180504.npy\n",
      "⏭️  Déjà présent sur S3 : 6_20180723.npy\n",
      "⏭️  Déjà présent sur S3 : 7_20180708.npy\n",
      "⏭️  Déjà présent sur S3 : 11_20180208.npy\n",
      "⏭️  Déjà présent sur S3 : 10_20180424.npy\n",
      "⏭️  Déjà présent sur S3 : 8_20180519.npy\n",
      "⏭️  Déjà présent sur S3 : 6_20180802.npy\n",
      "⏭️  Déjà présent sur S3 : 7_20180723.npy\n",
      "⏭️  Déjà présent sur S3 : 9_20180623.npy\n",
      "⏭️  Déjà présent sur S3 : 11_20180320.npy\n",
      "⏭️  Déjà présent sur S3 : 10_20180504.npy\n",
      "⏭️  Déjà présent sur S3 : 8_20180623.npy\n",
      "⏭️  Déjà présent sur S3 : 7_20180802.npy\n",
      "⏭️  Déjà présent sur S3 : 9_20180628.npy\n",
      "⏭️  Déjà présent sur S3 : 6_20180822.npy\n",
      "⏭️  Déjà présent sur S3 : 11_20180419.npy\n",
      "⏭️  Déjà présent sur S3 : 10_20180519.npy\n",
      "⏭️  Déjà présent sur S3 : 8_20180628.npy\n",
      "⏭️  Déjà présent sur S3 : 7_20180822.npy\n",
      "⏭️  Déjà présent sur S3 : 9_20180703.npy\n",
      "⏭️  Déjà présent sur S3 : 11_20180424.npy\n",
      "⏭️  Déjà présent sur S3 : 6_20180901.npy\n",
      "⏭️  Déjà présent sur S3 : 8_20180703.npy\n",
      "⏭️  Déjà présent sur S3 : 7_20180901.npy\n",
      "⏭️  Déjà présent sur S3 : 9_20180708.npy\n",
      "⏭️  Déjà présent sur S3 : 6_20180911.npy\n",
      "⏭️  Déjà présent sur S3 : 11_20180504.npy\n",
      "⏭️  Déjà présent sur S3 : 8_20180708.npy\n",
      "⏭️  Déjà présent sur S3 : 10_20180623.npy\n",
      "⏭️  Déjà présent sur S3 : 9_20180723.npy\n",
      "⏭️  Déjà présent sur S3 : 6_20180926.npy\n",
      "⏭️  Déjà présent sur S3 : 11_20180519.npy\n",
      "⏭️  Déjà présent sur S3 : 7_20180911.npy\n",
      "⏭️  Déjà présent sur S3 : 9_20180802.npy\n",
      "⏭️  Déjà présent sur S3 : 8_20180723.npy\n",
      "⏭️  Déjà présent sur S3 : 6_20181021.npy\n",
      "⏭️  Déjà présent sur S3 : 10_20180628.npy\n",
      "⏭️  Déjà présent sur S3 : 11_20180623.npy\n",
      "⏭️  Déjà présent sur S3 : 7_20180926.npy\n",
      "⏭️  Déjà présent sur S3 : 9_20180822.npy\n",
      "⏭️  Déjà présent sur S3 : 10_20180703.npy\n",
      "⏭️  Déjà présent sur S3 : 11_20180628.npy\n",
      "⏭️  Déjà présent sur S3 : 6_20181130.npy\n",
      "⏭️  Déjà présent sur S3 : 8_20180802.npy\n",
      "⏭️  Déjà présent sur S3 : 9_20180901.npy\n"
     ]
    },
    {
     "name": "stderr",
     "output_type": "stream",
     "text": [
      "Tuiles traitées:   1%|          | 7/1038 [00:02<05:20,  3.22it/s]"
     ]
    },
    {
     "name": "stdout",
     "output_type": "stream",
     "text": [
      "⏭️  Déjà présent sur S3 : 6_20181210.npy\n",
      "⏭️  Déjà présent sur S3 : 11_20180703.npy\n",
      "⏭️  Déjà présent sur S3 : 7_20181021.npy\n",
      "⏭️  Déjà présent sur S3 : 6_20181220.npy\n",
      "⏭️  Déjà présent sur S3 : 9_20180911.npy\n",
      "⏭️  Déjà présent sur S3 : 8_20180822.npy\n",
      "⏭️  Déjà présent sur S3 : 11_20180708.npy\n",
      "⏭️  Déjà présent sur S3 : 9_20180926.npy\n",
      "⏭️  Déjà présent sur S3 : 10_20180708.npy\n",
      "⏭️  Déjà présent sur S3 : 11_20180723.npy\n",
      "⏭️  Déjà présent sur S3 : 7_20181130.npy\n",
      "⏭️  Déjà présent sur S3 : 10_20180723.npy\n",
      "⏭️  Déjà présent sur S3 : 7_20181210.npy\n",
      "⏭️  Déjà présent sur S3 : 6_20181225.npy\n",
      "✅ Tuile 6 terminée.\n",
      "⏭️  Déjà présent sur S3 : 7_20181220.npy\n",
      "⏭️  Déjà présent sur S3 : 9_20181021.npy\n",
      "⏭️  Déjà présent sur S3 : 8_20180901.npy\n",
      "⏭️  Déjà présent sur S3 : 10_20180802.npy\n",
      "⏭️  Déjà présent sur S3 : 11_20180802.npy\n",
      "⏭️  Déjà présent sur S3 : 9_20181130.npy\n",
      "⏭️  Déjà présent sur S3 : 7_20181225.npy\n",
      "✅ Tuile 7 terminée.\n",
      "⏭️  Déjà présent sur S3 : 10_20180822.npy\n"
     ]
    },
    {
     "name": "stderr",
     "output_type": "stream",
     "text": [
      "Tuiles traitées:   1%|          | 9/1038 [00:02<04:15,  4.03it/s]"
     ]
    },
    {
     "name": "stdout",
     "output_type": "stream",
     "text": [
      "⏭️  Déjà présent sur S3 : 9_20181210.npy\n",
      "⏭️  Déjà présent sur S3 : 11_20180822.npy\n",
      "⏭️  Déjà présent sur S3 : 8_20180911.npy\n",
      "⏭️  Déjà présent sur S3 : 9_20181220.npy\n",
      "⏭️  Déjà présent sur S3 : 10_20180901.npy\n",
      "⏭️  Déjà présent sur S3 : 11_20180901.npy\n",
      "⏭️  Déjà présent sur S3 : 9_20181225.npy\n",
      "✅ Tuile 9 terminée.\n",
      "⏭️  Déjà présent sur S3 : 11_20180911.npy\n",
      "⏭️  Déjà présent sur S3 : 10_20180911.npy\n",
      "⏭️  Déjà présent sur S3 : 11_20180926.npy\n",
      "⏭️  Déjà présent sur S3 : 10_20180926.npy\n",
      "⏭️  Déjà présent sur S3 : 12_20180208.npy\n",
      "⏭️  Déjà présent sur S3 : 11_20181021.npy\n",
      "⏭️  Déjà présent sur S3 : 12_20180320.npy\n",
      "⏭️  Déjà présent sur S3 : 10_20181021.npy\n",
      "⏭️  Déjà présent sur S3 : 12_20180419.npy\n",
      "⏭️  Déjà présent sur S3 : 11_20181130.npy\n",
      "⏭️  Déjà présent sur S3 : 13_20180208.npy\n",
      "⏭️  Déjà présent sur S3 : 11_20181210.npy\n",
      "⏭️  Déjà présent sur S3 : 12_20180424.npy\n",
      "⏭️  Déjà présent sur S3 : 13_20180320.npy\n"
     ]
    },
    {
     "name": "stderr",
     "output_type": "stream",
     "text": [
      "Tuiles traitées:   1%|          | 10/1038 [00:03<04:50,  3.54it/s]"
     ]
    },
    {
     "name": "stdout",
     "output_type": "stream",
     "text": [
      "⏭️  Déjà présent sur S3 : 10_20181130.npy\n",
      "⏭️  Déjà présent sur S3 : 11_20181220.npy\n",
      "⏭️  Déjà présent sur S3 : 12_20180504.npy\n",
      "⏭️  Déjà présent sur S3 : 13_20180419.npy\n",
      "⏭️  Déjà présent sur S3 : 10_20181210.npy\n",
      "⏭️  Déjà présent sur S3 : 12_20180519.npy\n",
      "⏭️  Déjà présent sur S3 : 10_20181220.npy\n",
      "⏭️  Déjà présent sur S3 : 13_20180424.npy\n",
      "⏭️  Déjà présent sur S3 : 12_20180623.npy\n",
      "⏭️  Déjà présent sur S3 : 13_20180504.npy\n",
      "⏭️  Déjà présent sur S3 : 13_20180519.npy\n",
      "⏭️  Déjà présent sur S3 : 10_20181225.npy\n",
      "✅ Tuile 10 terminée.\n",
      "⏭️  Déjà présent sur S3 : 13_20180623.npy\n",
      "⏭️  Déjà présent sur S3 : 14_20180208.npy⏭️  Déjà présent sur S3 : 11_20181225.npy\n",
      "✅ Tuile 11 terminée.\n",
      "⏭️  Déjà présent sur S3 : 12_20180628.npy\n",
      "\n",
      "⏭️  Déjà présent sur S3 : 13_20180628.npy\n",
      "⏭️  Déjà présent sur S3 : 14_20180320.npy\n",
      "⏭️  Déjà présent sur S3 : 12_20180703.npy\n",
      "⏭️  Déjà présent sur S3 : 13_20180703.npy\n",
      "⏭️  Déjà présent sur S3 : 14_20180419.npy\n",
      "⏭️  Déjà présent sur S3 : 14_20180424.npy\n",
      "⏭️  Déjà présent sur S3 : 13_20180708.npy\n",
      "⏭️  Déjà présent sur S3 : 12_20180708.npy\n",
      "⏭️  Déjà présent sur S3 : 12_20180723.npy\n",
      "⏭️  Déjà présent sur S3 : 13_20180723.npy\n",
      "⏭️  Déjà présent sur S3 : 14_20180504.npy\n",
      "⏭️  Déjà présent sur S3 : 12_20180802.npy\n",
      "⏭️  Déjà présent sur S3 : 13_20180802.npy\n",
      "⏭️  Déjà présent sur S3 : 14_20180519.npy\n",
      "⏭️  Déjà présent sur S3 : 12_20180822.npy\n",
      "⏭️  Déjà présent sur S3 : 14_20180623.npy\n",
      "⏭️  Déjà présent sur S3 : 12_20180901.npy\n",
      "⏭️  Déjà présent sur S3 : 13_20180822.npy\n",
      "⏭️  Déjà présent sur S3 : 14_20180628.npy\n",
      "⏭️  Déjà présent sur S3 : 12_20180911.npy\n",
      "⏭️  Déjà présent sur S3 : 13_20180901.npy\n",
      "⏭️  Déjà présent sur S3 : 12_20180926.npy\n",
      "⏭️  Déjà présent sur S3 : 14_20180703.npy\n",
      "⏭️  Déjà présent sur S3 : 13_20180911.npy\n",
      "⏭️  Déjà présent sur S3 : 12_20181021.npy\n",
      "⏭️  Déjà présent sur S3 : 12_20181130.npy\n",
      "⏭️  Déjà présent sur S3 : 14_20180708.npy\n",
      "⏭️  Déjà présent sur S3 : 13_20180926.npy\n",
      "⏭️  Déjà présent sur S3 : 16_20180208.npy\n",
      "⏭️  Déjà présent sur S3 : 15_20180208.npy\n",
      "⏭️  Déjà présent sur S3 : 14_20180723.npy\n",
      "⏭️  Déjà présent sur S3 : 12_20181210.npy\n",
      "⏭️  Déjà présent sur S3 : 13_20181021.npy\n",
      "⏭️  Déjà présent sur S3 : 16_20180320.npy\n",
      "⏭️  Déjà présent sur S3 : 14_20180802.npy\n",
      "⏭️  Déjà présent sur S3 : 15_20180320.npy\n",
      "⏭️  Déjà présent sur S3 : 12_20181220.npy\n",
      "⏭️  Déjà présent sur S3 : 13_20181130.npy\n"
     ]
    },
    {
     "name": "stderr",
     "output_type": "stream",
     "text": [
      "Tuiles traitées:   1%|          | 12/1038 [00:03<04:50,  3.53it/s]"
     ]
    },
    {
     "name": "stdout",
     "output_type": "stream",
     "text": [
      "⏭️  Déjà présent sur S3 : 14_20180822.npy\n",
      "⏭️  Déjà présent sur S3 : 15_20180419.npy\n",
      "⏭️  Déjà présent sur S3 : 14_20180901.npy\n",
      "⏭️  Déjà présent sur S3 : 13_20181210.npy\n",
      "⏭️  Déjà présent sur S3 : 15_20180424.npy\n",
      "⏭️  Déjà présent sur S3 : 14_20180911.npy\n",
      "⏭️  Déjà présent sur S3 : 13_20181220.npy\n",
      "⏭️  Déjà présent sur S3 : 14_20180926.npy\n",
      "⏭️  Déjà présent sur S3 : 12_20181225.npy\n",
      "✅ Tuile 12 terminée.\n",
      "⏭️  Déjà présent sur S3 : 16_20180419.npy\n",
      "⏭️  Déjà présent sur S3 : 13_20181225.npy\n",
      "✅ Tuile 13 terminée.\n",
      "⏭️  Déjà présent sur S3 : 15_20180504.npy\n",
      "⏭️  Déjà présent sur S3 : 16_20180424.npy\n",
      "⏭️  Déjà présent sur S3 : 14_20181021.npy\n",
      "⏭️  Déjà présent sur S3 : 16_20180504.npy\n",
      "⏭️  Déjà présent sur S3 : 15_20180519.npy\n",
      "⏭️  Déjà présent sur S3 : 14_20181130.npy\n",
      "⏭️  Déjà présent sur S3 : 16_20180519.npy\n",
      "⏭️  Déjà présent sur S3 : 15_20180623.npy\n",
      "⏭️  Déjà présent sur S3 : 14_20181210.npy\n"
     ]
    },
    {
     "name": "stderr",
     "output_type": "stream",
     "text": [
      "Tuiles traitées:   1%|▏         | 14/1038 [00:03<03:33,  4.79it/s]"
     ]
    },
    {
     "name": "stdout",
     "output_type": "stream",
     "text": [
      "⏭️  Déjà présent sur S3 : 15_20180628.npy\n",
      "⏭️  Déjà présent sur S3 : 14_20181220.npy\n",
      "⏭️  Déjà présent sur S3 : 16_20180623.npy\n",
      "⏭️  Déjà présent sur S3 : 15_20180703.npy\n",
      "⏭️  Déjà présent sur S3 : 14_20181225.npy\n",
      "✅ Tuile 14 terminée.\n",
      "⏭️  Déjà présent sur S3 : 16_20180628.npy\n",
      "⏭️  Déjà présent sur S3 : 15_20180708.npy\n",
      "⏭️  Déjà présent sur S3 : 16_20180703.npy\n",
      "⏭️  Déjà présent sur S3 : 15_20180723.npy\n",
      "⏭️  Déjà présent sur S3 : 16_20180708.npy\n",
      "⏭️  Déjà présent sur S3 : 15_20180802.npy\n",
      "⏭️  Déjà présent sur S3 : 16_20180723.npy\n",
      "⏭️  Déjà présent sur S3 : 16_20180802.npy\n",
      "⏭️  Déjà présent sur S3 : 15_20180822.npy\n",
      "⏭️  Déjà présent sur S3 : 18_20180208.npy\n",
      "⏭️  Déjà présent sur S3 : 15_20180901.npy\n",
      "⏭️  Déjà présent sur S3 : 18_20180320.npy\n",
      "⏭️  Déjà présent sur S3 : 16_20180822.npy\n",
      "⏭️  Déjà présent sur S3 : 17_20180208.npy\n",
      "⏭️  Déjà présent sur S3 : 15_20180911.npy\n",
      "⏭️  Déjà présent sur S3 : 15_20180926.npy\n",
      "⏭️  Déjà présent sur S3 : 16_20180901.npy\n",
      "⏭️  Déjà présent sur S3 : 18_20180419.npy\n",
      "⏭️  Déjà présent sur S3 : 17_20180320.npy\n",
      "⏭️  Déjà présent sur S3 : 19_20180208.npy\n",
      "⏭️  Déjà présent sur S3 : 17_20180419.npy\n",
      "⏭️  Déjà présent sur S3 : 15_20181021.npy\n",
      "⏭️  Déjà présent sur S3 : 16_20180911.npy\n",
      "⏭️  Déjà présent sur S3 : 18_20180424.npy\n",
      "⏭️  Déjà présent sur S3 : 19_20180320.npy\n",
      "⏭️  Déjà présent sur S3 : 15_20181130.npy\n",
      "⏭️  Déjà présent sur S3 : 16_20180926.npy\n"
     ]
    },
    {
     "name": "stderr",
     "output_type": "stream",
     "text": [
      "Tuiles traitées:   1%|▏         | 15/1038 [00:04<04:41,  3.64it/s]"
     ]
    },
    {
     "name": "stdout",
     "output_type": "stream",
     "text": [
      "⏭️  Déjà présent sur S3 : 17_20180424.npy\n",
      "⏭️  Déjà présent sur S3 : 18_20180504.npy\n",
      "⏭️  Déjà présent sur S3 : 19_20180419.npy\n",
      "⏭️  Déjà présent sur S3 : 15_20181210.npy\n",
      "⏭️  Déjà présent sur S3 : 17_20180504.npy\n",
      "⏭️  Déjà présent sur S3 : 16_20181021.npy\n",
      "⏭️  Déjà présent sur S3 : 18_20180519.npy\n",
      "⏭️  Déjà présent sur S3 : 15_20181220.npy\n",
      "⏭️  Déjà présent sur S3 : 16_20181130.npy\n",
      "⏭️  Déjà présent sur S3 : 18_20180623.npy\n",
      "⏭️  Déjà présent sur S3 : 19_20180424.npy\n",
      "⏭️  Déjà présent sur S3 : 17_20180519.npy\n",
      "⏭️  Déjà présent sur S3 : 16_20181210.npy\n",
      "⏭️  Déjà présent sur S3 : 15_20181225.npy\n",
      "✅ Tuile 15 terminée.\n",
      "⏭️  Déjà présent sur S3 : 18_20180628.npy\n",
      "⏭️  Déjà présent sur S3 : 16_20181220.npy\n",
      "⏭️  Déjà présent sur S3 : 19_20180504.npy\n",
      "⏭️  Déjà présent sur S3 : 17_20180623.npy\n",
      "⏭️  Déjà présent sur S3 : 18_20180703.npy\n",
      "⏭️  Déjà présent sur S3 : 19_20180519.npy\n",
      "⏭️  Déjà présent sur S3 : 16_20181225.npy⏭️  Déjà présent sur S3 : 17_20180628.npy\n",
      "\n",
      "✅ Tuile 16 terminée.\n",
      "⏭️  Déjà présent sur S3 : 19_20180623.npy\n",
      "⏭️  Déjà présent sur S3 : 18_20180708.npy\n",
      "⏭️  Déjà présent sur S3 : 17_20180703.npy\n",
      "⏭️  Déjà présent sur S3 : 18_20180723.npy\n",
      "⏭️  Déjà présent sur S3 : 19_20180628.npy\n",
      "⏭️  Déjà présent sur S3 : 19_20180703.npy\n",
      "⏭️  Déjà présent sur S3 : 17_20180708.npy\n",
      "⏭️  Déjà présent sur S3 : 19_20180708.npy\n",
      "⏭️  Déjà présent sur S3 : 18_20180802.npy\n",
      "⏭️  Déjà présent sur S3 : 19_20180723.npy\n",
      "⏭️  Déjà présent sur S3 : 17_20180723.npy\n",
      "⏭️  Déjà présent sur S3 : 19_20180802.npy\n",
      "⏭️  Déjà présent sur S3 : 17_20180802.npy\n",
      "⏭️  Déjà présent sur S3 : 18_20180822.npy\n",
      "⏭️  Déjà présent sur S3 : 17_20180822.npy\n",
      "⏭️  Déjà présent sur S3 : 18_20180901.npy\n",
      "⏭️  Déjà présent sur S3 : 17_20180901.npy\n",
      "⏭️  Déjà présent sur S3 : 19_20180822.npy\n",
      "⏭️  Déjà présent sur S3 : 18_20180911.npy\n",
      "⏭️  Déjà présent sur S3 : 20_20180208.npy\n",
      "⏭️  Déjà présent sur S3 : 19_20180901.npy\n",
      "⏭️  Déjà présent sur S3 : 18_20180926.npy\n",
      "⏭️  Déjà présent sur S3 : 20_20180320.npy\n",
      "⏭️  Déjà présent sur S3 : 17_20180911.npy\n",
      "⏭️  Déjà présent sur S3 : 19_20180911.npy\n",
      "⏭️  Déjà présent sur S3 : 17_20180926.npy\n",
      "⏭️  Déjà présent sur S3 : 17_20181021.npy\n",
      "⏭️  Déjà présent sur S3 : 19_20180926.npy\n"
     ]
    },
    {
     "name": "stderr",
     "output_type": "stream",
     "text": [
      "Tuiles traitées:   2%|▏         | 17/1038 [00:05<04:54,  3.47it/s]"
     ]
    },
    {
     "name": "stdout",
     "output_type": "stream",
     "text": [
      "⏭️  Déjà présent sur S3 : 20_20180419.npy\n",
      "⏭️  Déjà présent sur S3 : 18_20181021.npy\n",
      "⏭️  Déjà présent sur S3 : 21_20180208.npy\n",
      "⏭️  Déjà présent sur S3 : 19_20181021.npy\n",
      "⏭️  Déjà présent sur S3 : 17_20181130.npy\n",
      "⏭️  Déjà présent sur S3 : 21_20180320.npy\n",
      "⏭️  Déjà présent sur S3 : 20_20180424.npy\n",
      "⏭️  Déjà présent sur S3 : 18_20181130.npy\n",
      "⏭️  Déjà présent sur S3 : 19_20181130.npy\n",
      "⏭️  Déjà présent sur S3 : 17_20181210.npy\n",
      "⏭️  Déjà présent sur S3 : 21_20180419.npy\n",
      "⏭️  Déjà présent sur S3 : 20_20180504.npy\n",
      "⏭️  Déjà présent sur S3 : 18_20181210.npy\n",
      "⏭️  Déjà présent sur S3 : 17_20181220.npy\n",
      "⏭️  Déjà présent sur S3 : 19_20181210.npy\n",
      "⏭️  Déjà présent sur S3 : 17_20181225.npy\n",
      "✅ Tuile 17 terminée.\n",
      "⏭️  Déjà présent sur S3 : 20_20180519.npy\n",
      "⏭️  Déjà présent sur S3 : 21_20180424.npy\n",
      "⏭️  Déjà présent sur S3 : 18_20181220.npy\n",
      "⏭️  Déjà présent sur S3 : 19_20181220.npy\n",
      "⏭️  Déjà présent sur S3 : 20_20180623.npy\n",
      "⏭️  Déjà présent sur S3 : 21_20180504.npy\n"
     ]
    },
    {
     "name": "stderr",
     "output_type": "stream",
     "text": [
      "Tuiles traitées:   2%|▏         | 18/1038 [00:05<04:16,  3.98it/s]"
     ]
    },
    {
     "name": "stdout",
     "output_type": "stream",
     "text": [
      "⏭️  Déjà présent sur S3 : 18_20181225.npy⏭️  Déjà présent sur S3 : 19_20181225.npy\n",
      "✅ Tuile 19 terminée.\n",
      "\n",
      "✅ Tuile 18 terminée.\n",
      "⏭️  Déjà présent sur S3 : 21_20180519.npy\n",
      "⏭️  Déjà présent sur S3 : 20_20180628.npy\n",
      "⏭️  Déjà présent sur S3 : 21_20180623.npy\n",
      "⏭️  Déjà présent sur S3 : 20_20180703.npy\n",
      "⏭️  Déjà présent sur S3 : 20_20180708.npy\n",
      "⏭️  Déjà présent sur S3 : 21_20180628.npy\n",
      "⏭️  Déjà présent sur S3 : 20_20180723.npy\n",
      "⏭️  Déjà présent sur S3 : 21_20180703.npy\n",
      "⏭️  Déjà présent sur S3 : 20_20180802.npy\n",
      "⏭️  Déjà présent sur S3 : 21_20180708.npy\n",
      "⏭️  Déjà présent sur S3 : 21_20180723.npy\n",
      "⏭️  Déjà présent sur S3 : 20_20180822.npy\n",
      "⏭️  Déjà présent sur S3 : 20_20180901.npy\n",
      "⏭️  Déjà présent sur S3 : 20_20180911.npy\n",
      "⏭️  Déjà présent sur S3 : 21_20180802.npy\n",
      "⏭️  Déjà présent sur S3 : 20_20180926.npy\n",
      "⏭️  Déjà présent sur S3 : 20_20181021.npy\n",
      "⏭️  Déjà présent sur S3 : 21_20180822.npy\n",
      "⏭️  Déjà présent sur S3 : 22_20180208.npy\n",
      "⏭️  Déjà présent sur S3 : 21_20180901.npy\n",
      "⏭️  Déjà présent sur S3 : 20_20181130.npy\n",
      "⏭️  Déjà présent sur S3 : 22_20180320.npy\n",
      "⏭️  Déjà présent sur S3 : 21_20180911.npy\n",
      "⏭️  Déjà présent sur S3 : 24_20180208.npy\n",
      "⏭️  Déjà présent sur S3 : 20_20181210.npy\n",
      "⏭️  Déjà présent sur S3 : 24_20180320.npy\n",
      "⏭️  Déjà présent sur S3 : 20_20181220.npy\n",
      "⏭️  Déjà présent sur S3 : 23_20180208.npy\n",
      "⏭️  Déjà présent sur S3 : 21_20180926.npy\n",
      "⏭️  Déjà présent sur S3 : 22_20180419.npy\n"
     ]
    },
    {
     "name": "stderr",
     "output_type": "stream",
     "text": [
      "Tuiles traitées:   2%|▏         | 20/1038 [00:05<04:17,  3.96it/s]"
     ]
    },
    {
     "name": "stdout",
     "output_type": "stream",
     "text": [
      "⏭️  Déjà présent sur S3 : 23_20180320.npy\n",
      "⏭️  Déjà présent sur S3 : 22_20180424.npy\n",
      "⏭️  Déjà présent sur S3 : 24_20180419.npy\n",
      "⏭️  Déjà présent sur S3 : 23_20180419.npy\n",
      "⏭️  Déjà présent sur S3 : 20_20181225.npy\n",
      "✅ Tuile 20 terminée.\n",
      "⏭️  Déjà présent sur S3 : 22_20180504.npy\n",
      "⏭️  Déjà présent sur S3 : 23_20180424.npy\n",
      "⏭️  Déjà présent sur S3 : 24_20180424.npy\n",
      "⏭️  Déjà présent sur S3 : 22_20180519.npy\n",
      "⏭️  Déjà présent sur S3 : 21_20181021.npy\n",
      "⏭️  Déjà présent sur S3 : 23_20180504.npy\n",
      "⏭️  Déjà présent sur S3 : 24_20180504.npy\n",
      "⏭️  Déjà présent sur S3 : 21_20181130.npy\n",
      "⏭️  Déjà présent sur S3 : 22_20180623.npy\n",
      "⏭️  Déjà présent sur S3 : 24_20180519.npy\n",
      "⏭️  Déjà présent sur S3 : 21_20181210.npy\n",
      "⏭️  Déjà présent sur S3 : 23_20180519.npy\n",
      "⏭️  Déjà présent sur S3 : 24_20180623.npy\n",
      "⏭️  Déjà présent sur S3 : 21_20181220.npy\n"
     ]
    },
    {
     "name": "stderr",
     "output_type": "stream",
     "text": [
      "Tuiles traitées:   2%|▏         | 21/1038 [00:05<04:03,  4.18it/s]"
     ]
    },
    {
     "name": "stdout",
     "output_type": "stream",
     "text": [
      "⏭️  Déjà présent sur S3 : 22_20180628.npy\n",
      "⏭️  Déjà présent sur S3 : 24_20180628.npy\n",
      "⏭️  Déjà présent sur S3 : 21_20181225.npy\n",
      "✅ Tuile 21 terminée.\n",
      "⏭️  Déjà présent sur S3 : 23_20180623.npy\n",
      "⏭️  Déjà présent sur S3 : 24_20180703.npy\n",
      "⏭️  Déjà présent sur S3 : 22_20180703.npy\n",
      "⏭️  Déjà présent sur S3 : 24_20180708.npy\n",
      "⏭️  Déjà présent sur S3 : 23_20180628.npy\n",
      "⏭️  Déjà présent sur S3 : 22_20180708.npy\n",
      "⏭️  Déjà présent sur S3 : 24_20180723.npy\n",
      "⏭️  Déjà présent sur S3 : 24_20180802.npy\n",
      "⏭️  Déjà présent sur S3 : 24_20180822.npy\n",
      "⏭️  Déjà présent sur S3 : 25_20180208.npy\n",
      "⏭️  Déjà présent sur S3 : 23_20180703.npy\n",
      "⏭️  Déjà présent sur S3 : 22_20180723.npy\n",
      "⏭️  Déjà présent sur S3 : 24_20180901.npy\n",
      "⏭️  Déjà présent sur S3 : 25_20180320.npy\n",
      "⏭️  Déjà présent sur S3 : 23_20180708.npy\n",
      "⏭️  Déjà présent sur S3 : 22_20180802.npy\n",
      "⏭️  Déjà présent sur S3 : 24_20180911.npy\n",
      "⏭️  Déjà présent sur S3 : 22_20180822.npy\n",
      "⏭️  Déjà présent sur S3 : 23_20180723.npy\n",
      "⏭️  Déjà présent sur S3 : 25_20180419.npy\n",
      "⏭️  Déjà présent sur S3 : 24_20180926.npy\n",
      "⏭️  Déjà présent sur S3 : 22_20180901.npy\n",
      "⏭️  Déjà présent sur S3 : 23_20180802.npy\n",
      "⏭️  Déjà présent sur S3 : 24_20181021.npy\n",
      "⏭️  Déjà présent sur S3 : 25_20180424.npy\n",
      "⏭️  Déjà présent sur S3 : 22_20180911.npy\n",
      "⏭️  Déjà présent sur S3 : 23_20180822.npy\n",
      "⏭️  Déjà présent sur S3 : 26_20180208.npy\n",
      "⏭️  Déjà présent sur S3 : 24_20181130.npy\n",
      "⏭️  Déjà présent sur S3 : 25_20180504.npy\n",
      "⏭️  Déjà présent sur S3 : 22_20180926.npy\n",
      "⏭️  Déjà présent sur S3 : 23_20180901.npy\n",
      "⏭️  Déjà présent sur S3 : 24_20181210.npy\n",
      "⏭️  Déjà présent sur S3 : 22_20181021.npy\n",
      "⏭️  Déjà présent sur S3 : 26_20180320.npy\n",
      "⏭️  Déjà présent sur S3 : 23_20180911.npy\n",
      "⏭️  Déjà présent sur S3 : 24_20181220.npy\n",
      "⏭️  Déjà présent sur S3 : 25_20180519.npy\n",
      "⏭️  Déjà présent sur S3 : 26_20180419.npy\n"
     ]
    },
    {
     "name": "stderr",
     "output_type": "stream",
     "text": [
      "Tuiles traitées:   2%|▏         | 23/1038 [00:06<04:14,  3.99it/s]"
     ]
    },
    {
     "name": "stdout",
     "output_type": "stream",
     "text": [
      "⏭️  Déjà présent sur S3 : 24_20181225.npy\n",
      "✅ Tuile 24 terminée.\n",
      "⏭️  Déjà présent sur S3 : 26_20180424.npy\n",
      "⏭️  Déjà présent sur S3 : 22_20181130.npy\n",
      "⏭️  Déjà présent sur S3 : 23_20180926.npy\n",
      "⏭️  Déjà présent sur S3 : 26_20180504.npy\n",
      "⏭️  Déjà présent sur S3 : 26_20180519.npy\n",
      "⏭️  Déjà présent sur S3 : 25_20180623.npy\n",
      "⏭️  Déjà présent sur S3 : 26_20180623.npy\n",
      "⏭️  Déjà présent sur S3 : 23_20181021.npy\n",
      "⏭️  Déjà présent sur S3 : 22_20181210.npy\n",
      "⏭️  Déjà présent sur S3 : 25_20180628.npy\n",
      "⏭️  Déjà présent sur S3 : 22_20181220.npy\n",
      "⏭️  Déjà présent sur S3 : 23_20181130.npy\n",
      "⏭️  Déjà présent sur S3 : 25_20180703.npy\n",
      "⏭️  Déjà présent sur S3 : 26_20180628.npy\n",
      "⏭️  Déjà présent sur S3 : 23_20181210.npy\n",
      "⏭️  Déjà présent sur S3 : 22_20181225.npy\n",
      "✅ Tuile 22 terminée.\n",
      "⏭️  Déjà présent sur S3 : 25_20180708.npy\n",
      "⏭️  Déjà présent sur S3 : 26_20180703.npy\n",
      "⏭️  Déjà présent sur S3 : 23_20181220.npy\n",
      "⏭️  Déjà présent sur S3 : 25_20180723.npy\n",
      "⏭️  Déjà présent sur S3 : 26_20180708.npy\n",
      "⏭️  Déjà présent sur S3 : 8_20181021.npy\n",
      "⏭️  Déjà présent sur S3 : 23_20181225.npy\n",
      "✅ Tuile 23 terminée.\n",
      "⏭️  Déjà présent sur S3 : 25_20180802.npy\n",
      "⏭️  Déjà présent sur S3 : 25_20180822.npy\n",
      "⏭️  Déjà présent sur S3 : 8_20181130.npy\n",
      "⏭️  Déjà présent sur S3 : 26_20180723.npy\n",
      "⏭️  Déjà présent sur S3 : 25_20180901.npy\n",
      "⏭️  Déjà présent sur S3 : 8_20181210.npy\n",
      "⏭️  Déjà présent sur S3 : 27_20180208.npy\n",
      "⏭️  Déjà présent sur S3 : 26_20180802.npy\n",
      "⏭️  Déjà présent sur S3 : 25_20180911.npy\n",
      "⏭️  Déjà présent sur S3 : 27_20180320.npy\n",
      "⏭️  Déjà présent sur S3 : 26_20180822.npy\n"
     ]
    },
    {
     "name": "stderr",
     "output_type": "stream",
     "text": [
      "Tuiles traitées:   2%|▏         | 25/1038 [00:06<03:35,  4.71it/s]"
     ]
    },
    {
     "name": "stdout",
     "output_type": "stream",
     "text": [
      "⏭️  Déjà présent sur S3 : 8_20181220.npy\n",
      "⏭️  Déjà présent sur S3 : 26_20180901.npy\n",
      "⏭️  Déjà présent sur S3 : 27_20180419.npy\n",
      "⏭️  Déjà présent sur S3 : 25_20180926.npy\n",
      "⏭️  Déjà présent sur S3 : 26_20180911.npy\n",
      "⏭️  Déjà présent sur S3 : 8_20181225.npy\n",
      "✅ Tuile 8 terminée.\n",
      "⏭️  Déjà présent sur S3 : 26_20180926.npy\n",
      "⏭️  Déjà présent sur S3 : 25_20181021.npy\n",
      "⏭️  Déjà présent sur S3 : 27_20180424.npy\n",
      "⏭️  Déjà présent sur S3 : 25_20181130.npy\n",
      "⏭️  Déjà présent sur S3 : 27_20180504.npy\n",
      "⏭️  Déjà présent sur S3 : 28_20180208.npy\n",
      "⏭️  Déjà présent sur S3 : 25_20181210.npy\n",
      "⏭️  Déjà présent sur S3 : 27_20180519.npy\n",
      "⏭️  Déjà présent sur S3 : 28_20180320.npy\n",
      "⏭️  Déjà présent sur S3 : 26_20181021.npy\n",
      "⏭️  Déjà présent sur S3 : 25_20181220.npy\n",
      "⏭️  Déjà présent sur S3 : 27_20180623.npy\n",
      "⏭️  Déjà présent sur S3 : 28_20180419.npy\n"
     ]
    },
    {
     "name": "stderr",
     "output_type": "stream",
     "text": [
      "Tuiles traitées:   3%|▎         | 27/1038 [00:07<03:09,  5.34it/s]"
     ]
    },
    {
     "name": "stdout",
     "output_type": "stream",
     "text": [
      "⏭️  Déjà présent sur S3 : 26_20181130.npy\n",
      "⏭️  Déjà présent sur S3 : 28_20180424.npy\n",
      "⏭️  Déjà présent sur S3 : 27_20180628.npy\n",
      "⏭️  Déjà présent sur S3 : 25_20181225.npy\n",
      "✅ Tuile 25 terminée.\n",
      "⏭️  Déjà présent sur S3 : 29_20180208.npy\n",
      "⏭️  Déjà présent sur S3 : 27_20180703.npy\n",
      "⏭️  Déjà présent sur S3 : 28_20180504.npy\n",
      "⏭️  Déjà présent sur S3 : 27_20180708.npy\n",
      "⏭️  Déjà présent sur S3 : 29_20180320.npy\n",
      "⏭️  Déjà présent sur S3 : 28_20180519.npy\n",
      "⏭️  Déjà présent sur S3 : 27_20180723.npy\n",
      "⏭️  Déjà présent sur S3 : 29_20180419.npy\n",
      "⏭️  Déjà présent sur S3 : 26_20181210.npy\n",
      "⏭️  Déjà présent sur S3 : 28_20180623.npy\n",
      "⏭️  Déjà présent sur S3 : 26_20181220.npy\n",
      "⏭️  Déjà présent sur S3 : 29_20180424.npy\n",
      "⏭️  Déjà présent sur S3 : 26_20181225.npy\n",
      "✅ Tuile 26 terminée.\n",
      "⏭️  Déjà présent sur S3 : 28_20180628.npy\n",
      "⏭️  Déjà présent sur S3 : 27_20180802.npy\n",
      "⏭️  Déjà présent sur S3 : 29_20180504.npy\n",
      "⏭️  Déjà présent sur S3 : 28_20180703.npy\n",
      "⏭️  Déjà présent sur S3 : 27_20180822.npy\n",
      "⏭️  Déjà présent sur S3 : 29_20180519.npy\n",
      "⏭️  Déjà présent sur S3 : 30_20180208.npy\n",
      "⏭️  Déjà présent sur S3 : 28_20180708.npy\n",
      "⏭️  Déjà présent sur S3 : 27_20180901.npy\n",
      "⏭️  Déjà présent sur S3 : 29_20180623.npy\n",
      "⏭️  Déjà présent sur S3 : 28_20180723.npy\n",
      "⏭️  Déjà présent sur S3 : 30_20180320.npy\n",
      "⏭️  Déjà présent sur S3 : 27_20180911.npy\n",
      "⏭️  Déjà présent sur S3 : 28_20180802.npy\n",
      "⏭️  Déjà présent sur S3 : 27_20180926.npy\n",
      "⏭️  Déjà présent sur S3 : 29_20180628.npy\n",
      "⏭️  Déjà présent sur S3 : 30_20180419.npy\n",
      "⏭️  Déjà présent sur S3 : 27_20181021.npy\n",
      "⏭️  Déjà présent sur S3 : 28_20180822.npy\n",
      "⏭️  Déjà présent sur S3 : 29_20180703.npy\n",
      "⏭️  Déjà présent sur S3 : 30_20180424.npy\n",
      "⏭️  Déjà présent sur S3 : 27_20181130.npy\n",
      "⏭️  Déjà présent sur S3 : 28_20180901.npy\n",
      "⏭️  Déjà présent sur S3 : 29_20180708.npy\n",
      "⏭️  Déjà présent sur S3 : 30_20180504.npy\n",
      "⏭️  Déjà présent sur S3 : 27_20181210.npy\n",
      "⏭️  Déjà présent sur S3 : 28_20180911.npy\n",
      "⏭️  Déjà présent sur S3 : 29_20180723.npy\n",
      "⏭️  Déjà présent sur S3 : 29_20180802.npy\n",
      "⏭️  Déjà présent sur S3 : 30_20180519.npy\n"
     ]
    },
    {
     "name": "stderr",
     "output_type": "stream",
     "text": [
      "Tuiles traitées:   3%|▎         | 29/1038 [00:07<03:15,  5.15it/s]"
     ]
    },
    {
     "name": "stdout",
     "output_type": "stream",
     "text": [
      "⏭️  Déjà présent sur S3 : 27_20181220.npy\n",
      "⏭️  Déjà présent sur S3 : 28_20180926.npy\n",
      "⏭️  Déjà présent sur S3 : 29_20180822.npy\n",
      "⏭️  Déjà présent sur S3 : 30_20180623.npy\n",
      "⏭️  Déjà présent sur S3 : 31_20180208.npy\n",
      "⏭️  Déjà présent sur S3 : 27_20181225.npy\n",
      "✅ Tuile 27 terminée.\n",
      "⏭️  Déjà présent sur S3 : 28_20181021.npy\n",
      "⏭️  Déjà présent sur S3 : 30_20180628.npy\n",
      "⏭️  Déjà présent sur S3 : 31_20180320.npy\n",
      "⏭️  Déjà présent sur S3 : 30_20180703.npy\n",
      "⏭️  Déjà présent sur S3 : 28_20181130.npy\n",
      "⏭️  Déjà présent sur S3 : 29_20180901.npy\n",
      "⏭️  Déjà présent sur S3 : 31_20180419.npy\n",
      "⏭️  Déjà présent sur S3 : 28_20181210.npy\n",
      "⏭️  Déjà présent sur S3 : 30_20180708.npy\n",
      "⏭️  Déjà présent sur S3 : 29_20180911.npy\n",
      "⏭️  Déjà présent sur S3 : 30_20180723.npy\n",
      "⏭️  Déjà présent sur S3 : 29_20180926.npy\n",
      "⏭️  Déjà présent sur S3 : 28_20181220.npy\n",
      "⏭️  Déjà présent sur S3 : 30_20180802.npy\n",
      "⏭️  Déjà présent sur S3 : 31_20180424.npy\n",
      "⏭️  Déjà présent sur S3 : 29_20181021.npy\n",
      "⏭️  Déjà présent sur S3 : 32_20180208.npy\n",
      "⏭️  Déjà présent sur S3 : 28_20181225.npy\n",
      "✅ Tuile 28 terminée.\n",
      "⏭️  Déjà présent sur S3 : 30_20180822.npy\n",
      "⏭️  Déjà présent sur S3 : 29_20181130.npy\n",
      "⏭️  Déjà présent sur S3 : 32_20180320.npy\n"
     ]
    },
    {
     "name": "stderr",
     "output_type": "stream",
     "text": [
      "Tuiles traitées:   3%|▎         | 30/1038 [00:07<02:54,  5.77it/s]"
     ]
    },
    {
     "name": "stdout",
     "output_type": "stream",
     "text": [
      "⏭️  Déjà présent sur S3 : 32_20180419.npy\n",
      "⏭️  Déjà présent sur S3 : 31_20180504.npy\n",
      "⏭️  Déjà présent sur S3 : 29_20181210.npy\n",
      "⏭️  Déjà présent sur S3 : 31_20180519.npy\n",
      "⏭️  Déjà présent sur S3 : 30_20180901.npy\n",
      "⏭️  Déjà présent sur S3 : 29_20181220.npy\n",
      "⏭️  Déjà présent sur S3 : 31_20180623.npy\n",
      "⏭️  Déjà présent sur S3 : 29_20181225.npy\n",
      "✅ Tuile 29 terminée.\n",
      "⏭️  Déjà présent sur S3 : 32_20180424.npy\n",
      "⏭️  Déjà présent sur S3 : 31_20180628.npy\n",
      "⏭️  Déjà présent sur S3 : 30_20180911.npy\n",
      "⏭️  Déjà présent sur S3 : 32_20180504.npy\n",
      "⏭️  Déjà présent sur S3 : 30_20180926.npy\n",
      "⏭️  Déjà présent sur S3 : 31_20180703.npy\n",
      "⏭️  Déjà présent sur S3 : 32_20180519.npy\n",
      "⏭️  Déjà présent sur S3 : 30_20181021.npy\n",
      "⏭️  Déjà présent sur S3 : 30_20181130.npy\n",
      "⏭️  Déjà présent sur S3 : 31_20180708.npy\n",
      "⏭️  Déjà présent sur S3 : 32_20180623.npy\n"
     ]
    },
    {
     "name": "stderr",
     "output_type": "stream",
     "text": [
      "Tuiles traitées:   3%|▎         | 31/1038 [00:07<03:18,  5.06it/s]"
     ]
    },
    {
     "name": "stdout",
     "output_type": "stream",
     "text": [
      "⏭️  Déjà présent sur S3 : 30_20181210.npy\n",
      "⏭️  Déjà présent sur S3 : 31_20180723.npy\n",
      "⏭️  Déjà présent sur S3 : 31_20180802.npy\n",
      "⏭️  Déjà présent sur S3 : 33_20180208.npy\n",
      "⏭️  Déjà présent sur S3 : 32_20180628.npy\n",
      "⏭️  Déjà présent sur S3 : 31_20180822.npy\n",
      "⏭️  Déjà présent sur S3 : 33_20180320.npy\n",
      "⏭️  Déjà présent sur S3 : 30_20181220.npy\n",
      "⏭️  Déjà présent sur S3 : 32_20180703.npy\n",
      "⏭️  Déjà présent sur S3 : 31_20180901.npy\n",
      "⏭️  Déjà présent sur S3 : 33_20180419.npy\n",
      "⏭️  Déjà présent sur S3 : 30_20181225.npy\n",
      "✅ Tuile 30 terminée.\n",
      "⏭️  Déjà présent sur S3 : 32_20180708.npy\n",
      "⏭️  Déjà présent sur S3 : 31_20180911.npy\n",
      "⏭️  Déjà présent sur S3 : 33_20180424.npy\n",
      "⏭️  Déjà présent sur S3 : 32_20180723.npy\n",
      "⏭️  Déjà présent sur S3 : 31_20180926.npy\n",
      "⏭️  Déjà présent sur S3 : 33_20180504.npy\n",
      "⏭️  Déjà présent sur S3 : 31_20181021.npy\n",
      "⏭️  Déjà présent sur S3 : 33_20180519.npy\n",
      "⏭️  Déjà présent sur S3 : 32_20180802.npy\n",
      "⏭️  Déjà présent sur S3 : 34_20180208.npy\n"
     ]
    },
    {
     "name": "stderr",
     "output_type": "stream",
     "text": [
      "Tuiles traitées:   3%|▎         | 32/1038 [00:08<03:52,  4.32it/s]"
     ]
    },
    {
     "name": "stdout",
     "output_type": "stream",
     "text": [
      "⏭️  Déjà présent sur S3 : 31_20181130.npy\n",
      "⏭️  Déjà présent sur S3 : 33_20180623.npy\n",
      "⏭️  Déjà présent sur S3 : 32_20180822.npy\n",
      "⏭️  Déjà présent sur S3 : 31_20181210.npy\n",
      "⏭️  Déjà présent sur S3 : 33_20180628.npy\n",
      "⏭️  Déjà présent sur S3 : 32_20180901.npy\n",
      "⏭️  Déjà présent sur S3 : 35_20180208.npy\n",
      "⏭️  Déjà présent sur S3 : 35_20180320.npy\n",
      "⏭️  Déjà présent sur S3 : 34_20180320.npy\n",
      "⏭️  Déjà présent sur S3 : 34_20180419.npy\n",
      "⏭️  Déjà présent sur S3 : 33_20180703.npy\n",
      "⏭️  Déjà présent sur S3 : 34_20180424.npy\n",
      "⏭️  Déjà présent sur S3 : 31_20181220.npy\n",
      "⏭️  Déjà présent sur S3 : 32_20180911.npy\n",
      "⏭️  Déjà présent sur S3 : 33_20180708.npy\n",
      "⏭️  Déjà présent sur S3 : 35_20180419.npy\n",
      "⏭️  Déjà présent sur S3 : 32_20180926.npy\n",
      "⏭️  Déjà présent sur S3 : 31_20181225.npy\n",
      "✅ Tuile 31 terminée.\n",
      "⏭️  Déjà présent sur S3 : 34_20180504.npy\n"
     ]
    },
    {
     "name": "stderr",
     "output_type": "stream",
     "text": [
      "Tuiles traitées:   3%|▎         | 33/1038 [00:08<03:30,  4.77it/s]"
     ]
    },
    {
     "name": "stdout",
     "output_type": "stream",
     "text": [
      "⏭️  Déjà présent sur S3 : 35_20180424.npy\n",
      "⏭️  Déjà présent sur S3 : 32_20181021.npy\n",
      "⏭️  Déjà présent sur S3 : 33_20180723.npy\n",
      "⏭️  Déjà présent sur S3 : 35_20180504.npy\n",
      "⏭️  Déjà présent sur S3 : 34_20180519.npy\n",
      "⏭️  Déjà présent sur S3 : 32_20181130.npy\n",
      "⏭️  Déjà présent sur S3 : 33_20180802.npy\n",
      "⏭️  Déjà présent sur S3 : 35_20180519.npy\n",
      "⏭️  Déjà présent sur S3 : 34_20180623.npy\n",
      "⏭️  Déjà présent sur S3 : 36_20180208.npy\n",
      "⏭️  Déjà présent sur S3 : 32_20181210.npy\n",
      "⏭️  Déjà présent sur S3 : 35_20180623.npy\n",
      "⏭️  Déjà présent sur S3 : 33_20180822.npy\n",
      "⏭️  Déjà présent sur S3 : 36_20180320.npy\n",
      "⏭️  Déjà présent sur S3 : 34_20180628.npy\n",
      "⏭️  Déjà présent sur S3 : 35_20180628.npy\n",
      "⏭️  Déjà présent sur S3 : 33_20180901.npy\n",
      "⏭️  Déjà présent sur S3 : 32_20181220.npy\n",
      "⏭️  Déjà présent sur S3 : 36_20180419.npy\n",
      "⏭️  Déjà présent sur S3 : 35_20180703.npy\n",
      "⏭️  Déjà présent sur S3 : 33_20180911.npy\n",
      "⏭️  Déjà présent sur S3 : 32_20181225.npy\n",
      "✅ Tuile 32 terminée.\n",
      "⏭️  Déjà présent sur S3 : 35_20180708.npy\n",
      "⏭️  Déjà présent sur S3 : 36_20180424.npy\n",
      "⏭️  Déjà présent sur S3 : 33_20180926.npy\n",
      "⏭️  Déjà présent sur S3 : 34_20180703.npy\n",
      "⏭️  Déjà présent sur S3 : 36_20180504.npy\n",
      "⏭️  Déjà présent sur S3 : 36_20180519.npy\n",
      "⏭️  Déjà présent sur S3 : 34_20180708.npy\n",
      "⏭️  Déjà présent sur S3 : 35_20180723.npy\n",
      "⏭️  Déjà présent sur S3 : 34_20180723.npy\n",
      "⏭️  Déjà présent sur S3 : 33_20181021.npy\n",
      "⏭️  Déjà présent sur S3 : 34_20180802.npy\n",
      "⏭️  Déjà présent sur S3 : 34_20180822.npy\n",
      "⏭️  Déjà présent sur S3 : 34_20180901.npy\n",
      "⏭️  Déjà présent sur S3 : 37_20180208.npy\n",
      "⏭️  Déjà présent sur S3 : 34_20180911.npy\n",
      "⏭️  Déjà présent sur S3 : 34_20180926.npy\n",
      "⏭️  Déjà présent sur S3 : 38_20180208.npy\n",
      "⏭️  Déjà présent sur S3 : 33_20181130.npy\n",
      "⏭️  Déjà présent sur S3 : 35_20180802.npy\n"
     ]
    },
    {
     "name": "stderr",
     "output_type": "stream",
     "text": [
      "Tuiles traitées:   3%|▎         | 34/1038 [00:08<05:42,  2.93it/s]"
     ]
    },
    {
     "name": "stdout",
     "output_type": "stream",
     "text": [
      "⏭️  Déjà présent sur S3 : 37_20180320.npy⏭️  Déjà présent sur S3 : 34_20181021.npy\n",
      "\n",
      "⏭️  Déjà présent sur S3 : 36_20180623.npy\n",
      "⏭️  Déjà présent sur S3 : 33_20181210.npy\n",
      "⏭️  Déjà présent sur S3 : 35_20180822.npy\n",
      "⏭️  Déjà présent sur S3 : 38_20180320.npy\n",
      "⏭️  Déjà présent sur S3 : 35_20180901.npy\n",
      "⏭️  Déjà présent sur S3 : 33_20181220.npy\n",
      "⏭️  Déjà présent sur S3 : 35_20180911.npy\n",
      "⏭️  Déjà présent sur S3 : 34_20181130.npy\n",
      "⏭️  Déjà présent sur S3 : 37_20180419.npy\n",
      "⏭️  Déjà présent sur S3 : 38_20180419.npy\n",
      "⏭️  Déjà présent sur S3 : 36_20180628.npy\n",
      "⏭️  Déjà présent sur S3 : 33_20181225.npy\n",
      "✅ Tuile 33 terminée.\n",
      "⏭️  Déjà présent sur S3 : 35_20180926.npy\n",
      "⏭️  Déjà présent sur S3 : 37_20180424.npy\n",
      "⏭️  Déjà présent sur S3 : 34_20181210.npy\n",
      "⏭️  Déjà présent sur S3 : 38_20180424.npy\n",
      "⏭️  Déjà présent sur S3 : 36_20180703.npy\n",
      "⏭️  Déjà présent sur S3 : 35_20181021.npy\n",
      "⏭️  Déjà présent sur S3 : 37_20180504.npy\n",
      "⏭️  Déjà présent sur S3 : 34_20181220.npy\n",
      "⏭️  Déjà présent sur S3 : 38_20180504.npy\n",
      "⏭️  Déjà présent sur S3 : 36_20180708.npy\n",
      "⏭️  Déjà présent sur S3 : 37_20180519.npy\n",
      "⏭️  Déjà présent sur S3 : 34_20181225.npy\n",
      "✅ Tuile 34 terminée.\n",
      "⏭️  Déjà présent sur S3 : 38_20180519.npy\n",
      "⏭️  Déjà présent sur S3 : 36_20180723.npy\n",
      "⏭️  Déjà présent sur S3 : 35_20181130.npy\n",
      "⏭️  Déjà présent sur S3 : 38_20180623.npy\n",
      "⏭️  Déjà présent sur S3 : 37_20180623.npy⏭️  Déjà présent sur S3 : 36_20180802.npy\n",
      "\n",
      "⏭️  Déjà présent sur S3 : 38_20180628.npy\n",
      "⏭️  Déjà présent sur S3 : 37_20180628.npy\n",
      "⏭️  Déjà présent sur S3 : 36_20180822.npy\n",
      "⏭️  Déjà présent sur S3 : 38_20180703.npy\n",
      "⏭️  Déjà présent sur S3 : 37_20180703.npy\n",
      "⏭️  Déjà présent sur S3 : 36_20180901.npy\n"
     ]
    },
    {
     "name": "stderr",
     "output_type": "stream",
     "text": [
      "Tuiles traitées:   3%|▎         | 36/1038 [00:09<05:04,  3.29it/s]"
     ]
    },
    {
     "name": "stdout",
     "output_type": "stream",
     "text": [
      "⏭️  Déjà présent sur S3 : 35_20181210.npy\n",
      "⏭️  Déjà présent sur S3 : 36_20180911.npy\n",
      "⏭️  Déjà présent sur S3 : 37_20180708.npy\n",
      "⏭️  Déjà présent sur S3 : 38_20180708.npy\n",
      "⏭️  Déjà présent sur S3 : 35_20181220.npy\n",
      "⏭️  Déjà présent sur S3 : 36_20180926.npy\n",
      "⏭️  Déjà présent sur S3 : 40_20180208.npy\n",
      "⏭️  Déjà présent sur S3 : 38_20180723.npy\n",
      "⏭️  Déjà présent sur S3 : 37_20180723.npy\n",
      "⏭️  Déjà présent sur S3 : 39_20180208.npy\n",
      "⏭️  Déjà présent sur S3 : 35_20181225.npy\n",
      "✅ Tuile 35 terminée.\n",
      "⏭️  Déjà présent sur S3 : 36_20181021.npy\n",
      "⏭️  Déjà présent sur S3 : 37_20180802.npy\n",
      "⏭️  Déjà présent sur S3 : 38_20180802.npy\n"
     ]
    },
    {
     "name": "stderr",
     "output_type": "stream",
     "text": [
      "Tuiles traitées:   4%|▎         | 37/1038 [00:09<04:32,  3.67it/s]"
     ]
    },
    {
     "name": "stdout",
     "output_type": "stream",
     "text": [
      "⏭️  Déjà présent sur S3 : 40_20180320.npy\n",
      "⏭️  Déjà présent sur S3 : 36_20181130.npy\n",
      "⏭️  Déjà présent sur S3 : 37_20180822.npy\n",
      "⏭️  Déjà présent sur S3 : 38_20180822.npy\n",
      "⏭️  Déjà présent sur S3 : 39_20180320.npy\n",
      "⏭️  Déjà présent sur S3 : 36_20181210.npy\n",
      "⏭️  Déjà présent sur S3 : 37_20180901.npy\n",
      "⏭️  Déjà présent sur S3 : 40_20180419.npy\n",
      "⏭️  Déjà présent sur S3 : 38_20180901.npy\n",
      "⏭️  Déjà présent sur S3 : 36_20181220.npy\n",
      "⏭️  Déjà présent sur S3 : 37_20180911.npy\n",
      "⏭️  Déjà présent sur S3 : 38_20180911.npy\n",
      "⏭️  Déjà présent sur S3 : 39_20180419.npy\n",
      "⏭️  Déjà présent sur S3 : 40_20180424.npy\n",
      "⏭️  Déjà présent sur S3 : 40_20180504.npy\n",
      "⏭️  Déjà présent sur S3 : 36_20181225.npy\n",
      "✅ Tuile 36 terminée.\n",
      "⏭️  Déjà présent sur S3 : 37_20180926.npy\n",
      "⏭️  Déjà présent sur S3 : 40_20180519.npy\n",
      "⏭️  Déjà présent sur S3 : 38_20180926.npy\n",
      "⏭️  Déjà présent sur S3 : 37_20181021.npy\n",
      "⏭️  Déjà présent sur S3 : 40_20180623.npy\n",
      "⏭️  Déjà présent sur S3 : 38_20181021.npy\n",
      "⏭️  Déjà présent sur S3 : 39_20180424.npy\n"
     ]
    },
    {
     "name": "stderr",
     "output_type": "stream",
     "text": [
      "Tuiles traitées:   4%|▎         | 38/1038 [00:09<04:08,  4.02it/s]"
     ]
    },
    {
     "name": "stdout",
     "output_type": "stream",
     "text": [
      "⏭️  Déjà présent sur S3 : 40_20180628.npy\n",
      "⏭️  Déjà présent sur S3 : 37_20181130.npy\n",
      "⏭️  Déjà présent sur S3 : 39_20180504.npy\n",
      "⏭️  Déjà présent sur S3 : 38_20181130.npy\n",
      "⏭️  Déjà présent sur S3 : 37_20181210.npy\n",
      "⏭️  Déjà présent sur S3 : 39_20180519.npy\n",
      "⏭️  Déjà présent sur S3 : 38_20181210.npy\n",
      "⏭️  Déjà présent sur S3 : 37_20181220.npy\n",
      "⏭️  Déjà présent sur S3 : 39_20180623.npy\n",
      "⏭️  Déjà présent sur S3 : 40_20180703.npy\n",
      "⏭️  Déjà présent sur S3 : 38_20181220.npy\n",
      "⏭️  Déjà présent sur S3 : 37_20181225.npy\n",
      "✅ Tuile 37 terminée.\n",
      "⏭️  Déjà présent sur S3 : 39_20180628.npy\n",
      "⏭️  Déjà présent sur S3 : 40_20180708.npy\n",
      "⏭️  Déjà présent sur S3 : 38_20181225.npy\n",
      "✅ Tuile 38 terminée.\n",
      "⏭️  Déjà présent sur S3 : 40_20180723.npy\n",
      "⏭️  Déjà présent sur S3 : 40_20180802.npy\n",
      "⏭️  Déjà présent sur S3 : 41_20180208.npy\n",
      "⏭️  Déjà présent sur S3 : 39_20180703.npy\n",
      "⏭️  Déjà présent sur S3 : 41_20180320.npy\n",
      "⏭️  Déjà présent sur S3 : 40_20180822.npy\n",
      "⏭️  Déjà présent sur S3 : 39_20180708.npy\n",
      "⏭️  Déjà présent sur S3 : 41_20180419.npy\n",
      "⏭️  Déjà présent sur S3 : 40_20180901.npy\n",
      "⏭️  Déjà présent sur S3 : 41_20180424.npy\n",
      "⏭️  Déjà présent sur S3 : 42_20180208.npy\n",
      "⏭️  Déjà présent sur S3 : 40_20180911.npy\n",
      "⏭️  Déjà présent sur S3 : 39_20180723.npy\n",
      "⏭️  Déjà présent sur S3 : 41_20180504.npy\n",
      "⏭️  Déjà présent sur S3 : 39_20180802.npy\n",
      "⏭️  Déjà présent sur S3 : 40_20180926.npy\n",
      "⏭️  Déjà présent sur S3 : 41_20180519.npy\n",
      "⏭️  Déjà présent sur S3 : 42_20180320.npy\n",
      "⏭️  Déjà présent sur S3 : 40_20181021.npy\n",
      "⏭️  Déjà présent sur S3 : 39_20180822.npy\n",
      "⏭️  Déjà présent sur S3 : 42_20180419.npy\n"
     ]
    },
    {
     "name": "stderr",
     "output_type": "stream",
     "text": [
      "Tuiles traitées:   4%|▍         | 40/1038 [00:10<04:08,  4.02it/s]"
     ]
    },
    {
     "name": "stdout",
     "output_type": "stream",
     "text": [
      "⏭️  Déjà présent sur S3 : 42_20180424.npy\n",
      "⏭️  Déjà présent sur S3 : 41_20180623.npy\n",
      "⏭️  Déjà présent sur S3 : 40_20181130.npy\n",
      "⏭️  Déjà présent sur S3 : 39_20180901.npy\n",
      "⏭️  Déjà présent sur S3 : 43_20180208.npy\n",
      "⏭️  Déjà présent sur S3 : 39_20180911.npy\n",
      "⏭️  Déjà présent sur S3 : 40_20181210.npy\n",
      "⏭️  Déjà présent sur S3 : 44_20180208.npy\n",
      "⏭️  Déjà présent sur S3 : 41_20180628.npy\n",
      "⏭️  Déjà présent sur S3 : 43_20180320.npy\n",
      "⏭️  Déjà présent sur S3 : 42_20180504.npy\n",
      "⏭️  Déjà présent sur S3 : 39_20180926.npy\n",
      "⏭️  Déjà présent sur S3 : 40_20181220.npy\n",
      "⏭️  Déjà présent sur S3 : 43_20180419.npy\n",
      "⏭️  Déjà présent sur S3 : 39_20181021.npy\n",
      "⏭️  Déjà présent sur S3 : 42_20180519.npy\n",
      "⏭️  Déjà présent sur S3 : 41_20180703.npy\n",
      "⏭️  Déjà présent sur S3 : 40_20181225.npy\n",
      "✅ Tuile 40 terminée.\n",
      "⏭️  Déjà présent sur S3 : 44_20180320.npy\n",
      "⏭️  Déjà présent sur S3 : 43_20180424.npy\n",
      "⏭️  Déjà présent sur S3 : 42_20180623.npy\n",
      "⏭️  Déjà présent sur S3 : 41_20180708.npy\n",
      "⏭️  Déjà présent sur S3 : 43_20180504.npy\n",
      "⏭️  Déjà présent sur S3 : 44_20180419.npy\n",
      "⏭️  Déjà présent sur S3 : 42_20180628.npy\n"
     ]
    },
    {
     "name": "stderr",
     "output_type": "stream",
     "text": [
      "Tuiles traitées:   4%|▍         | 41/1038 [00:10<03:54,  4.25it/s]"
     ]
    },
    {
     "name": "stdout",
     "output_type": "stream",
     "text": [
      "⏭️  Déjà présent sur S3 : 41_20180723.npy\n",
      "⏭️  Déjà présent sur S3 : 43_20180519.npy\n",
      "⏭️  Déjà présent sur S3 : 39_20181130.npy\n",
      "⏭️  Déjà présent sur S3 : 42_20180703.npy\n",
      "⏭️  Déjà présent sur S3 : 44_20180424.npy\n",
      "⏭️  Déjà présent sur S3 : 41_20180802.npy\n",
      "⏭️  Déjà présent sur S3 : 44_20180504.npy\n",
      "⏭️  Déjà présent sur S3 : 43_20180623.npy\n",
      "⏭️  Déjà présent sur S3 : 42_20180708.npy\n",
      "⏭️  Déjà présent sur S3 : 44_20180519.npy\n",
      "⏭️  Déjà présent sur S3 : 39_20181210.npy\n",
      "⏭️  Déjà présent sur S3 : 42_20180723.npy\n",
      "⏭️  Déjà présent sur S3 : 44_20180623.npy\n",
      "⏭️  Déjà présent sur S3 : 39_20181220.npy\n",
      "⏭️  Déjà présent sur S3 : 42_20180802.npy\n",
      "⏭️  Déjà présent sur S3 : 41_20180822.npy\n",
      "⏭️  Déjà présent sur S3 : 43_20180628.npy\n",
      "⏭️  Déjà présent sur S3 : 39_20181225.npy\n",
      "✅ Tuile 39 terminée.\n",
      "⏭️  Déjà présent sur S3 : 41_20180901.npy\n",
      "⏭️  Déjà présent sur S3 : 43_20180703.npy\n",
      "⏭️  Déjà présent sur S3 : 44_20180628.npy\n",
      "⏭️  Déjà présent sur S3 : 41_20180911.npy\n",
      "⏭️  Déjà présent sur S3 : 43_20180708.npy\n"
     ]
    },
    {
     "name": "stderr",
     "output_type": "stream",
     "text": [
      "Tuiles traitées:   4%|▍         | 42/1038 [00:10<04:00,  4.14it/s]"
     ]
    },
    {
     "name": "stdout",
     "output_type": "stream",
     "text": [
      "⏭️  Déjà présent sur S3 : 42_20180822.npy\n",
      "⏭️  Déjà présent sur S3 : 44_20180703.npy\n",
      "⏭️  Déjà présent sur S3 : 41_20180926.npy\n",
      "⏭️  Déjà présent sur S3 : 43_20180723.npy\n",
      "⏭️  Déjà présent sur S3 : 42_20180901.npy\n",
      "⏭️  Déjà présent sur S3 : 44_20180708.npy\n",
      "⏭️  Déjà présent sur S3 : 41_20181021.npy\n",
      "⏭️  Déjà présent sur S3 : 43_20180802.npy\n",
      "⏭️  Déjà présent sur S3 : 42_20180911.npy\n",
      "⏭️  Déjà présent sur S3 : 44_20180723.npy\n",
      "⏭️  Déjà présent sur S3 : 41_20181130.npy\n",
      "⏭️  Déjà présent sur S3 : 43_20180822.npy\n",
      "⏭️  Déjà présent sur S3 : 42_20180926.npy\n",
      "⏭️  Déjà présent sur S3 : 41_20181210.npy\n",
      "⏭️  Déjà présent sur S3 : 43_20180901.npy\n",
      "⏭️  Déjà présent sur S3 : 44_20180802.npy\n",
      "⏭️  Déjà présent sur S3 : 42_20181021.npy\n",
      "⏭️  Déjà présent sur S3 : 41_20181220.npy\n",
      "⏭️  Déjà présent sur S3 : 43_20180911.npy\n",
      "⏭️  Déjà présent sur S3 : 44_20180822.npy\n",
      "⏭️  Déjà présent sur S3 : 42_20181130.npy\n",
      "⏭️  Déjà présent sur S3 : 44_20180901.npy\n",
      "⏭️  Déjà présent sur S3 : 41_20181225.npy\n",
      "✅ Tuile 41 terminée.\n",
      "⏭️  Déjà présent sur S3 : 42_20181210.npy\n",
      "⏭️  Déjà présent sur S3 : 43_20180926.npy\n",
      "⏭️  Déjà présent sur S3 : 44_20180911.npy\n"
     ]
    },
    {
     "name": "stderr",
     "output_type": "stream",
     "text": [
      "Tuiles traitées:   4%|▍         | 44/1038 [00:11<03:01,  5.47it/s]"
     ]
    },
    {
     "name": "stdout",
     "output_type": "stream",
     "text": [
      "⏭️  Déjà présent sur S3 : 45_20180208.npy\n",
      "⏭️  Déjà présent sur S3 : 42_20181220.npy\n",
      "⏭️  Déjà présent sur S3 : 43_20181021.npy\n",
      "⏭️  Déjà présent sur S3 : 45_20180320.npy\n",
      "⏭️  Déjà présent sur S3 : 42_20181225.npy\n",
      "✅ Tuile 42 terminée.\n",
      "⏭️  Déjà présent sur S3 : 45_20180419.npy\n",
      "⏭️  Déjà présent sur S3 : 44_20180926.npy\n",
      "⏭️  Déjà présent sur S3 : 43_20181130.npy\n",
      "⏭️  Déjà présent sur S3 : 45_20180424.npy\n",
      "⏭️  Déjà présent sur S3 : 44_20181021.npy\n",
      "⏭️  Déjà présent sur S3 : 43_20181210.npy\n",
      "⏭️  Déjà présent sur S3 : 45_20180504.npy\n",
      "⏭️  Déjà présent sur S3 : 44_20181130.npy\n",
      "⏭️  Déjà présent sur S3 : 43_20181220.npy\n",
      "⏭️  Déjà présent sur S3 : 45_20180519.npy\n",
      "⏭️  Déjà présent sur S3 : 46_20180208.npy\n",
      "⏭️  Déjà présent sur S3 : 43_20181225.npy\n",
      "✅ Tuile 43 terminée.\n",
      "⏭️  Déjà présent sur S3 : 44_20181210.npy\n",
      "⏭️  Déjà présent sur S3 : 45_20180623.npy\n"
     ]
    },
    {
     "name": "stderr",
     "output_type": "stream",
     "text": [
      "Tuiles traitées:   4%|▍         | 45/1038 [00:11<02:49,  5.85it/s]"
     ]
    },
    {
     "name": "stdout",
     "output_type": "stream",
     "text": [
      "⏭️  Déjà présent sur S3 : 45_20180628.npy\n",
      "⏭️  Déjà présent sur S3 : 44_20181220.npy\n",
      "⏭️  Déjà présent sur S3 : 46_20180320.npy\n",
      "⏭️  Déjà présent sur S3 : 45_20180703.npy\n",
      "⏭️  Déjà présent sur S3 : 44_20181225.npy\n",
      "✅ Tuile 44 terminée.\n",
      "⏭️  Déjà présent sur S3 : 46_20180419.npy\n",
      "⏭️  Déjà présent sur S3 : 45_20180708.npy\n",
      "⏭️  Déjà présent sur S3 : 46_20180424.npy\n",
      "⏭️  Déjà présent sur S3 : 45_20180723.npy\n",
      "⏭️  Déjà présent sur S3 : 46_20180504.npy\n",
      "⏭️  Déjà présent sur S3 : 45_20180802.npy\n",
      "⏭️  Déjà présent sur S3 : 47_20180208.npy\n",
      "⏭️  Déjà présent sur S3 : 47_20180320.npy\n",
      "⏭️  Déjà présent sur S3 : 46_20180519.npy\n",
      "⏭️  Déjà présent sur S3 : 48_20180208.npy\n",
      "⏭️  Déjà présent sur S3 : 45_20180822.npy\n",
      "⏭️  Déjà présent sur S3 : 46_20180623.npy\n",
      "⏭️  Déjà présent sur S3 : 48_20180320.npy\n",
      "⏭️  Déjà présent sur S3 : 47_20180419.npy\n",
      "⏭️  Déjà présent sur S3 : 46_20180628.npy\n",
      "⏭️  Déjà présent sur S3 : 45_20180901.npy\n",
      "⏭️  Déjà présent sur S3 : 48_20180419.npy\n",
      "⏭️  Déjà présent sur S3 : 46_20180703.npy\n",
      "⏭️  Déjà présent sur S3 : 45_20180911.npy\n",
      "⏭️  Déjà présent sur S3 : 47_20180424.npy\n",
      "⏭️  Déjà présent sur S3 : 48_20180424.npy\n",
      "⏭️  Déjà présent sur S3 : 47_20180504.npy\n",
      "⏭️  Déjà présent sur S3 : 45_20180926.npy\n",
      "⏭️  Déjà présent sur S3 : 46_20180708.npy\n",
      "⏭️  Déjà présent sur S3 : 47_20180519.npy\n",
      "⏭️  Déjà présent sur S3 : 45_20181021.npy\n",
      "⏭️  Déjà présent sur S3 : 47_20180623.npy\n",
      "⏭️  Déjà présent sur S3 : 48_20180504.npy\n",
      "⏭️  Déjà présent sur S3 : 49_20180208.npy\n"
     ]
    },
    {
     "name": "stderr",
     "output_type": "stream",
     "text": [
      "Tuiles traitées:   4%|▍         | 46/1038 [00:11<04:19,  3.82it/s]"
     ]
    },
    {
     "name": "stdout",
     "output_type": "stream",
     "text": [
      "⏭️  Déjà présent sur S3 : 46_20180723.npy\n",
      "⏭️  Déjà présent sur S3 : 48_20180519.npy\n",
      "⏭️  Déjà présent sur S3 : 49_20180320.npy\n",
      "⏭️  Déjà présent sur S3 : 46_20180802.npy\n",
      "⏭️  Déjà présent sur S3 : 45_20181130.npy\n",
      "⏭️  Déjà présent sur S3 : 47_20180628.npy\n",
      "⏭️  Déjà présent sur S3 : 50_20180208.npy\n",
      "⏭️  Déjà présent sur S3 : 48_20180623.npy\n",
      "⏭️  Déjà présent sur S3 : 46_20180822.npy\n",
      "⏭️  Déjà présent sur S3 : 49_20180419.npy\n",
      "⏭️  Déjà présent sur S3 : 45_20181210.npy\n",
      "⏭️  Déjà présent sur S3 : 47_20180703.npy\n",
      "⏭️  Déjà présent sur S3 : 48_20180628.npy\n",
      "⏭️  Déjà présent sur S3 : 45_20181220.npy\n",
      "⏭️  Déjà présent sur S3 : 50_20180320.npy\n",
      "⏭️  Déjà présent sur S3 : 46_20180901.npy\n",
      "⏭️  Déjà présent sur S3 : 49_20180424.npy\n",
      "⏭️  Déjà présent sur S3 : 48_20180703.npy\n",
      "⏭️  Déjà présent sur S3 : 50_20180419.npy\n",
      "⏭️  Déjà présent sur S3 : 47_20180708.npy\n",
      "⏭️  Déjà présent sur S3 : 50_20180424.npy\n",
      "⏭️  Déjà présent sur S3 : 45_20181225.npy\n",
      "✅ Tuile 45 terminée.\n",
      "⏭️  Déjà présent sur S3 : 46_20180911.npy\n",
      "⏭️  Déjà présent sur S3 : 50_20180504.npy\n",
      "⏭️  Déjà présent sur S3 : 49_20180504.npy\n",
      "⏭️  Déjà présent sur S3 : 48_20180708.npy\n",
      "⏭️  Déjà présent sur S3 : 47_20180723.npy\n",
      "⏭️  Déjà présent sur S3 : 46_20180926.npy\n",
      "⏭️  Déjà présent sur S3 : 47_20180802.npy\n",
      "⏭️  Déjà présent sur S3 : 46_20181021.npy\n",
      "⏭️  Déjà présent sur S3 : 47_20180822.npy\n",
      "⏭️  Déjà présent sur S3 : 50_20180519.npy\n",
      "⏭️  Déjà présent sur S3 : 49_20180519.npy\n",
      "⏭️  Déjà présent sur S3 : 48_20180723.npy\n",
      "⏭️  Déjà présent sur S3 : 49_20180623.npy\n",
      "⏭️  Déjà présent sur S3 : 48_20180802.npy\n",
      "⏭️  Déjà présent sur S3 : 50_20180623.npy\n",
      "⏭️  Déjà présent sur S3 : 49_20180628.npy\n",
      "⏭️  Déjà présent sur S3 : 48_20180822.npy\n",
      "⏭️  Déjà présent sur S3 : 50_20180628.npy\n",
      "⏭️  Déjà présent sur S3 : 46_20181130.npy\n",
      "⏭️  Déjà présent sur S3 : 49_20180703.npy\n",
      "⏭️  Déjà présent sur S3 : 47_20180901.npy\n",
      "⏭️  Déjà présent sur S3 : 50_20180703.npy\n",
      "⏭️  Déjà présent sur S3 : 48_20180901.npy\n",
      "⏭️  Déjà présent sur S3 : 49_20180708.npy\n",
      "⏭️  Déjà présent sur S3 : 48_20180911.npy\n",
      "⏭️  Déjà présent sur S3 : 50_20180708.npy\n",
      "⏭️  Déjà présent sur S3 : 49_20180723.npy\n",
      "⏭️  Déjà présent sur S3 : 48_20180926.npy\n",
      "⏭️  Déjà présent sur S3 : 50_20180723.npy\n",
      "⏭️  Déjà présent sur S3 : 50_20180802.npy\n",
      "⏭️  Déjà présent sur S3 : 51_20180208.npy\n",
      "⏭️  Déjà présent sur S3 : 46_20181210.npy\n",
      "⏭️  Déjà présent sur S3 : 47_20180911.npy\n",
      "⏭️  Déjà présent sur S3 : 48_20181021.npy\n",
      "⏭️  Déjà présent sur S3 : 50_20180822.npy\n",
      "⏭️  Déjà présent sur S3 : 51_20180320.npy\n",
      "⏭️  Déjà présent sur S3 : 49_20180802.npy\n",
      "⏭️  Déjà présent sur S3 : 47_20180926.npy\n",
      "⏭️  Déjà présent sur S3 : 46_20181220.npy\n",
      "⏭️  Déjà présent sur S3 : 51_20180419.npy\n"
     ]
    },
    {
     "name": "stderr",
     "output_type": "stream",
     "text": [
      "Tuiles traitées:   5%|▍         | 48/1038 [00:12<04:14,  3.89it/s]"
     ]
    },
    {
     "name": "stdout",
     "output_type": "stream",
     "text": [
      "⏭️  Déjà présent sur S3 : 47_20181021.npy⏭️  Déjà présent sur S3 : 46_20181225.npy\n",
      "✅ Tuile 46 terminée.\n",
      "\n",
      "⏭️  Déjà présent sur S3 : 50_20180901.npy\n",
      "⏭️  Déjà présent sur S3 : 49_20180822.npy\n",
      "⏭️  Déjà présent sur S3 : 48_20181130.npy\n",
      "⏭️  Déjà présent sur S3 : 51_20180424.npy\n",
      "⏭️  Déjà présent sur S3 : 49_20180901.npy\n",
      "⏭️  Déjà présent sur S3 : 50_20180911.npy\n",
      "⏭️  Déjà présent sur S3 : 48_20181210.npy\n",
      "⏭️  Déjà présent sur S3 : 47_20181130.npy\n",
      "⏭️  Déjà présent sur S3 : 49_20180911.npy\n",
      "⏭️  Déjà présent sur S3 : 51_20180504.npy\n",
      "⏭️  Déjà présent sur S3 : 50_20180926.npy\n",
      "⏭️  Déjà présent sur S3 : 48_20181220.npy\n",
      "⏭️  Déjà présent sur S3 : 47_20181210.npy\n",
      "⏭️  Déjà présent sur S3 : 49_20180926.npy\n",
      "⏭️  Déjà présent sur S3 : 50_20181021.npy\n",
      "⏭️  Déjà présent sur S3 : 48_20181225.npy\n",
      "✅ Tuile 48 terminée.\n",
      "⏭️  Déjà présent sur S3 : 51_20180519.npy\n",
      "⏭️  Déjà présent sur S3 : 50_20181130.npy\n",
      "⏭️  Déjà présent sur S3 : 49_20181021.npy\n",
      "⏭️  Déjà présent sur S3 : 51_20180623.npy\n",
      "⏭️  Déjà présent sur S3 : 47_20181220.npy\n",
      "⏭️  Déjà présent sur S3 : 47_20181225.npy\n",
      "✅ Tuile 47 terminée.\n",
      "⏭️  Déjà présent sur S3 : 51_20180628.npy\n",
      "⏭️  Déjà présent sur S3 : 50_20181210.npy\n",
      "⏭️  Déjà présent sur S3 : 49_20181130.npy\n"
     ]
    },
    {
     "name": "stderr",
     "output_type": "stream",
     "text": [
      "Tuiles traitées:   5%|▍         | 50/1038 [00:12<03:00,  5.48it/s]"
     ]
    },
    {
     "name": "stdout",
     "output_type": "stream",
     "text": [
      "⏭️  Déjà présent sur S3 : 51_20180703.npy\n",
      "⏭️  Déjà présent sur S3 : 51_20180708.npy\n",
      "⏭️  Déjà présent sur S3 : 50_20181220.npy\n",
      "⏭️  Déjà présent sur S3 : 49_20181210.npy\n",
      "⏭️  Déjà présent sur S3 : 50_20181225.npy\n",
      "✅ Tuile 50 terminée.\n",
      "⏭️  Déjà présent sur S3 : 52_20180208.npy\n",
      "⏭️  Déjà présent sur S3 : 49_20181220.npy\n",
      "⏭️  Déjà présent sur S3 : 51_20180723.npy\n",
      "⏭️  Déjà présent sur S3 : 49_20181225.npy\n",
      "✅ Tuile 49 terminée.\n",
      "⏭️  Déjà présent sur S3 : 52_20180320.npy\n",
      "⏭️  Déjà présent sur S3 : 51_20180802.npy\n",
      "⏭️  Déjà présent sur S3 : 52_20180419.npy\n",
      "⏭️  Déjà présent sur S3 : 51_20180822.npy\n",
      "⏭️  Déjà présent sur S3 : 52_20180424.npy\n",
      "⏭️  Déjà présent sur S3 : 51_20180901.npy\n",
      "⏭️  Déjà présent sur S3 : 52_20180504.npy\n",
      "⏭️  Déjà présent sur S3 : 53_20180208.npy\n",
      "⏭️  Déjà présent sur S3 : 51_20180911.npy\n",
      "⏭️  Déjà présent sur S3 : 52_20180519.npy\n",
      "⏭️  Déjà présent sur S3 : 51_20180926.npy\n",
      "⏭️  Déjà présent sur S3 : 53_20180320.npy\n",
      "⏭️  Déjà présent sur S3 : 52_20180623.npy\n",
      "⏭️  Déjà présent sur S3 : 51_20181021.npy\n",
      "⏭️  Déjà présent sur S3 : 53_20180419.npy\n",
      "⏭️  Déjà présent sur S3 : 51_20181130.npy\n",
      "⏭️  Déjà présent sur S3 : 52_20180628.npy\n",
      "⏭️  Déjà présent sur S3 : 54_20180208.npy\n",
      "⏭️  Déjà présent sur S3 : 53_20180424.npy\n",
      "⏭️  Déjà présent sur S3 : 51_20181210.npy\n"
     ]
    },
    {
     "name": "stderr",
     "output_type": "stream",
     "text": [
      "Tuiles traitées:   5%|▌         | 52/1038 [00:12<03:26,  4.77it/s]"
     ]
    },
    {
     "name": "stdout",
     "output_type": "stream",
     "text": [
      "⏭️  Déjà présent sur S3 : 53_20180504.npy\n",
      "⏭️  Déjà présent sur S3 : 54_20180320.npy\n",
      "⏭️  Déjà présent sur S3 : 53_20180519.npy\n",
      "⏭️  Déjà présent sur S3 : 52_20180703.npy\n",
      "⏭️  Déjà présent sur S3 : 51_20181220.npy\n",
      "⏭️  Déjà présent sur S3 : 54_20180419.npy\n",
      "⏭️  Déjà présent sur S3 : 53_20180623.npy\n",
      "⏭️  Déjà présent sur S3 : 55_20180208.npy\n",
      "⏭️  Déjà présent sur S3 : 55_20180320.npy\n",
      "⏭️  Déjà présent sur S3 : 54_20180424.npy\n",
      "⏭️  Déjà présent sur S3 : 56_20180208.npy\n",
      "⏭️  Déjà présent sur S3 : 54_20180504.npy\n",
      "⏭️  Déjà présent sur S3 : 55_20180419.npy\n",
      "⏭️  Déjà présent sur S3 : 52_20180708.npy\n",
      "⏭️  Déjà présent sur S3 : 51_20181225.npy\n",
      "✅ Tuile 51 terminée.\n",
      "⏭️  Déjà présent sur S3 : 53_20180628.npy\n",
      "⏭️  Déjà présent sur S3 : 56_20180320.npy\n",
      "⏭️  Déjà présent sur S3 : 54_20180519.npy\n",
      "⏭️  Déjà présent sur S3 : 55_20180424.npy\n",
      "⏭️  Déjà présent sur S3 : 56_20180419.npy\n",
      "⏭️  Déjà présent sur S3 : 54_20180623.npy\n",
      "⏭️  Déjà présent sur S3 : 55_20180504.npy\n",
      "⏭️  Déjà présent sur S3 : 56_20180424.npy\n",
      "⏭️  Déjà présent sur S3 : 54_20180628.npy\n",
      "⏭️  Déjà présent sur S3 : 56_20180504.npy\n",
      "⏭️  Déjà présent sur S3 : 53_20180703.npy\n",
      "⏭️  Déjà présent sur S3 : 52_20180723.npy\n",
      "⏭️  Déjà présent sur S3 : 53_20180708.npy\n",
      "⏭️  Déjà présent sur S3 : 55_20180519.npy\n",
      "⏭️  Déjà présent sur S3 : 52_20180802.npy\n",
      "⏭️  Déjà présent sur S3 : 54_20180703.npy\n",
      "⏭️  Déjà présent sur S3 : 53_20180723.npy\n",
      "⏭️  Déjà présent sur S3 : 55_20180623.npy\n",
      "⏭️  Déjà présent sur S3 : 52_20180822.npy\n",
      "⏭️  Déjà présent sur S3 : 53_20180802.npy\n",
      "⏭️  Déjà présent sur S3 : 56_20180519.npy\n",
      "⏭️  Déjà présent sur S3 : 55_20180628.npy\n",
      "⏭️  Déjà présent sur S3 : 52_20180901.npy\n",
      "⏭️  Déjà présent sur S3 : 53_20180822.npy\n",
      "⏭️  Déjà présent sur S3 : 56_20180623.npy\n",
      "⏭️  Déjà présent sur S3 : 52_20180911.npy\n",
      "⏭️  Déjà présent sur S3 : 55_20180703.npy\n",
      "⏭️  Déjà présent sur S3 : 53_20180901.npy\n",
      "⏭️  Déjà présent sur S3 : 56_20180628.npy\n",
      "⏭️  Déjà présent sur S3 : 54_20180708.npy\n",
      "⏭️  Déjà présent sur S3 : 52_20180926.npy\n",
      "⏭️  Déjà présent sur S3 : 55_20180708.npy\n",
      "⏭️  Déjà présent sur S3 : 54_20180723.npy\n",
      "⏭️  Déjà présent sur S3 : 55_20180723.npy\n",
      "⏭️  Déjà présent sur S3 : 54_20180802.npy\n",
      "⏭️  Déjà présent sur S3 : 56_20180703.npy\n",
      "⏭️  Déjà présent sur S3 : 52_20181021.npy\n",
      "⏭️  Déjà présent sur S3 : 55_20180802.npy\n",
      "⏭️  Déjà présent sur S3 : 53_20180911.npy\n",
      "⏭️  Déjà présent sur S3 : 54_20180822.npy\n",
      "⏭️  Déjà présent sur S3 : 54_20180901.npy\n",
      "⏭️  Déjà présent sur S3 : 54_20180911.npy\n",
      "⏭️  Déjà présent sur S3 : 56_20180708.npy\n",
      "⏭️  Déjà présent sur S3 : 56_20180723.npy\n",
      "⏭️  Déjà présent sur S3 : 55_20180822.npy\n",
      "⏭️  Déjà présent sur S3 : 53_20180926.npy\n",
      "⏭️  Déjà présent sur S3 : 52_20181130.npy\n",
      "⏭️  Déjà présent sur S3 : 54_20180926.npy\n",
      "⏭️  Déjà présent sur S3 : 56_20180802.npy\n",
      "⏭️  Déjà présent sur S3 : 55_20180901.npy\n",
      "⏭️  Déjà présent sur S3 : 53_20181021.npy\n",
      "⏭️  Déjà présent sur S3 : 52_20181210.npy\n",
      "⏭️  Déjà présent sur S3 : 54_20181021.npy\n",
      "⏭️  Déjà présent sur S3 : 56_20180822.npy\n",
      "⏭️  Déjà présent sur S3 : 57_20180208.npy\n",
      "⏭️  Déjà présent sur S3 : 56_20180901.npy\n",
      "⏭️  Déjà présent sur S3 : 55_20180911.npy\n",
      "⏭️  Déjà présent sur S3 : 54_20181130.npy\n",
      "⏭️  Déjà présent sur S3 : 52_20181220.npy\n",
      "⏭️  Déjà présent sur S3 : 57_20180320.npy\n",
      "⏭️  Déjà présent sur S3 : 53_20181130.npy\n",
      "⏭️  Déjà présent sur S3 : 56_20180911.npy\n",
      "⏭️  Déjà présent sur S3 : 55_20180926.npy\n",
      "⏭️  Déjà présent sur S3 : 54_20181210.npy\n",
      "⏭️  Déjà présent sur S3 : 57_20180419.npy\n",
      "⏭️  Déjà présent sur S3 : 52_20181225.npy\n",
      "✅ Tuile 52 terminée.\n"
     ]
    },
    {
     "name": "stderr",
     "output_type": "stream",
     "text": [
      "Tuiles traitées:   5%|▌         | 56/1038 [00:13<02:43,  6.02it/s]"
     ]
    },
    {
     "name": "stdout",
     "output_type": "stream",
     "text": [
      "⏭️  Déjà présent sur S3 : 53_20181210.npy\n",
      "⏭️  Déjà présent sur S3 : 56_20180926.npy\n",
      "⏭️  Déjà présent sur S3 : 57_20180424.npy\n",
      "⏭️  Déjà présent sur S3 : 55_20181021.npy\n",
      "⏭️  Déjà présent sur S3 : 54_20181220.npy\n",
      "⏭️  Déjà présent sur S3 : 53_20181220.npy\n",
      "⏭️  Déjà présent sur S3 : 57_20180504.npy\n",
      "⏭️  Déjà présent sur S3 : 55_20181130.npy\n",
      "⏭️  Déjà présent sur S3 : 56_20181021.npy\n",
      "⏭️  Déjà présent sur S3 : 53_20181225.npy\n",
      "✅ Tuile 53 terminée.\n",
      "⏭️  Déjà présent sur S3 : 54_20181225.npy\n",
      "✅ Tuile 54 terminée.\n",
      "⏭️  Déjà présent sur S3 : 55_20181210.npy\n",
      "⏭️  Déjà présent sur S3 : 57_20180519.npy\n",
      "⏭️  Déjà présent sur S3 : 56_20181130.npy\n",
      "⏭️  Déjà présent sur S3 : 57_20180623.npy\n",
      "⏭️  Déjà présent sur S3 : 56_20181210.npy\n",
      "⏭️  Déjà présent sur S3 : 56_20181220.npy\n",
      "⏭️  Déjà présent sur S3 : 57_20180628.npy\n",
      "⏭️  Déjà présent sur S3 : 55_20181220.npy\n",
      "⏭️  Déjà présent sur S3 : 56_20181225.npy\n",
      "✅ Tuile 56 terminée.\n",
      "⏭️  Déjà présent sur S3 : 57_20180703.npy\n",
      "⏭️  Déjà présent sur S3 : 55_20181225.npy\n",
      "✅ Tuile 55 terminée.\n",
      "⏭️  Déjà présent sur S3 : 57_20180708.npy\n",
      "⏭️  Déjà présent sur S3 : 57_20180723.npy\n",
      "⏭️  Déjà présent sur S3 : 57_20180802.npy\n",
      "⏭️  Déjà présent sur S3 : 57_20180822.npy\n",
      "⏭️  Déjà présent sur S3 : 57_20180901.npy\n",
      "⏭️  Déjà présent sur S3 : 57_20180911.npy\n",
      "⏭️  Déjà présent sur S3 : 57_20180926.npy\n",
      "⏭️  Déjà présent sur S3 : 59_20180208.npy\n",
      "⏭️  Déjà présent sur S3 : 58_20180208.npy\n",
      "⏭️  Déjà présent sur S3 : 57_20181021.npy\n",
      "⏭️  Déjà présent sur S3 : 59_20180320.npy\n",
      "⏭️  Déjà présent sur S3 : 58_20180320.npy\n"
     ]
    },
    {
     "name": "stderr",
     "output_type": "stream",
     "text": [
      "Tuiles traitées:   6%|▌         | 58/1038 [00:13<02:54,  5.61it/s]"
     ]
    },
    {
     "name": "stdout",
     "output_type": "stream",
     "text": [
      "⏭️  Déjà présent sur S3 : 60_20180208.npy\n",
      "⏭️  Déjà présent sur S3 : 57_20181130.npy\n",
      "⏭️  Déjà présent sur S3 : 59_20180419.npy\n",
      "⏭️  Déjà présent sur S3 : 58_20180419.npy\n",
      "⏭️  Déjà présent sur S3 : 59_20180424.npy\n",
      "⏭️  Déjà présent sur S3 : 62_20180208.npy\n",
      "⏭️  Déjà présent sur S3 : 57_20181210.npy\n",
      "⏭️  Déjà présent sur S3 : 60_20180320.npy\n",
      "⏭️  Déjà présent sur S3 : 61_20180208.npy\n",
      "⏭️  Déjà présent sur S3 : 59_20180504.npy\n",
      "⏭️  Déjà présent sur S3 : 58_20180424.npy\n",
      "⏭️  Déjà présent sur S3 : 62_20180320.npy\n",
      "⏭️  Déjà présent sur S3 : 57_20181220.npy\n",
      "⏭️  Déjà présent sur S3 : 62_20180419.npy\n",
      "⏭️  Déjà présent sur S3 : 59_20180519.npy\n",
      "⏭️  Déjà présent sur S3 : 57_20181225.npy\n",
      "✅ Tuile 57 terminée.\n",
      "⏭️  Déjà présent sur S3 : 58_20180504.npy\n",
      "⏭️  Déjà présent sur S3 : 61_20180320.npy\n",
      "⏭️  Déjà présent sur S3 : 60_20180419.npy\n",
      "⏭️  Déjà présent sur S3 : 58_20180519.npy\n",
      "⏭️  Déjà présent sur S3 : 59_20180623.npy\n",
      "⏭️  Déjà présent sur S3 : 62_20180424.npy\n",
      "⏭️  Déjà présent sur S3 : 61_20180419.npy\n",
      "⏭️  Déjà présent sur S3 : 58_20180623.npy\n",
      "⏭️  Déjà présent sur S3 : 60_20180424.npy\n",
      "⏭️  Déjà présent sur S3 : 59_20180628.npy\n",
      "⏭️  Déjà présent sur S3 : 62_20180504.npy\n",
      "⏭️  Déjà présent sur S3 : 58_20180628.npy\n",
      "⏭️  Déjà présent sur S3 : 61_20180424.npy\n",
      "⏭️  Déjà présent sur S3 : 60_20180504.npy\n",
      "⏭️  Déjà présent sur S3 : 59_20180703.npy\n",
      "⏭️  Déjà présent sur S3 : 60_20180519.npy\n",
      "⏭️  Déjà présent sur S3 : 58_20180703.npy\n",
      "⏭️  Déjà présent sur S3 : 61_20180504.npy\n",
      "⏭️  Déjà présent sur S3 : 62_20180519.npy\n",
      "⏭️  Déjà présent sur S3 : 59_20180708.npy\n",
      "⏭️  Déjà présent sur S3 : 58_20180708.npy\n",
      "⏭️  Déjà présent sur S3 : 62_20180623.npy\n",
      "⏭️  Déjà présent sur S3 : 60_20180623.npy\n",
      "⏭️  Déjà présent sur S3 : 61_20180519.npy\n",
      "⏭️  Déjà présent sur S3 : 58_20180723.npy\n",
      "⏭️  Déjà présent sur S3 : 59_20180723.npy\n",
      "⏭️  Déjà présent sur S3 : 62_20180628.npy\n",
      "⏭️  Déjà présent sur S3 : 60_20180628.npy\n",
      "⏭️  Déjà présent sur S3 : 61_20180623.npy\n",
      "⏭️  Déjà présent sur S3 : 59_20180802.npy\n",
      "⏭️  Déjà présent sur S3 : 58_20180802.npy\n",
      "⏭️  Déjà présent sur S3 : 60_20180703.npy\n",
      "⏭️  Déjà présent sur S3 : 61_20180628.npy\n",
      "⏭️  Déjà présent sur S3 : 59_20180822.npy\n",
      "⏭️  Déjà présent sur S3 : 62_20180703.npy\n",
      "⏭️  Déjà présent sur S3 : 62_20180708.npy\n",
      "⏭️  Déjà présent sur S3 : 60_20180708.npy\n",
      "⏭️  Déjà présent sur S3 : 61_20180703.npy\n",
      "⏭️  Déjà présent sur S3 : 59_20180901.npy\n",
      "⏭️  Déjà présent sur S3 : 58_20180822.npy\n",
      "⏭️  Déjà présent sur S3 : 62_20180723.npy\n",
      "⏭️  Déjà présent sur S3 : 60_20180723.npy\n",
      "⏭️  Déjà présent sur S3 : 61_20180708.npy\n",
      "⏭️  Déjà présent sur S3 : 58_20180901.npy\n",
      "⏭️  Déjà présent sur S3 : 59_20180911.npy\n",
      "⏭️  Déjà présent sur S3 : 62_20180802.npy\n",
      "⏭️  Déjà présent sur S3 : 58_20180911.npy\n",
      "⏭️  Déjà présent sur S3 : 60_20180802.npy\n",
      "⏭️  Déjà présent sur S3 : 61_20180723.npy\n",
      "⏭️  Déjà présent sur S3 : 59_20180926.npy\n",
      "⏭️  Déjà présent sur S3 : 60_20180822.npy\n",
      "⏭️  Déjà présent sur S3 : 62_20180822.npy\n",
      "⏭️  Déjà présent sur S3 : 61_20180802.npy\n",
      "⏭️  Déjà présent sur S3 : 63_20180208.npy\n",
      "⏭️  Déjà présent sur S3 : 59_20181021.npy\n",
      "⏭️  Déjà présent sur S3 : 58_20180926.npy\n",
      "⏭️  Déjà présent sur S3 : 60_20180901.npy\n",
      "⏭️  Déjà présent sur S3 : 61_20180822.npy\n",
      "⏭️  Déjà présent sur S3 : 59_20181130.npy\n",
      "⏭️  Déjà présent sur S3 : 58_20181021.npy\n",
      "⏭️  Déjà présent sur S3 : 62_20180901.npy\n",
      "⏭️  Déjà présent sur S3 : 58_20181130.npy\n",
      "⏭️  Déjà présent sur S3 : 62_20180911.npy\n",
      "⏭️  Déjà présent sur S3 : 63_20180320.npy\n"
     ]
    },
    {
     "name": "stderr",
     "output_type": "stream",
     "text": [
      "Tuiles traitées:   6%|▌         | 59/1038 [00:14<04:13,  3.87it/s]"
     ]
    },
    {
     "name": "stdout",
     "output_type": "stream",
     "text": [
      "⏭️  Déjà présent sur S3 : 58_20181210.npy\n",
      "⏭️  Déjà présent sur S3 : 60_20180911.npy\n",
      "⏭️  Déjà présent sur S3 : 61_20180901.npy\n",
      "⏭️  Déjà présent sur S3 : 62_20180926.npy\n",
      "⏭️  Déjà présent sur S3 : 59_20181210.npy\n",
      "⏭️  Déjà présent sur S3 : 63_20180419.npy\n",
      "⏭️  Déjà présent sur S3 : 58_20181220.npy\n",
      "⏭️  Déjà présent sur S3 : 61_20180911.npy\n",
      "⏭️  Déjà présent sur S3 : 60_20180926.npy\n",
      "⏭️  Déjà présent sur S3 : 62_20181021.npy\n",
      "⏭️  Déjà présent sur S3 : 59_20181220.npy\n",
      "⏭️  Déjà présent sur S3 : 63_20180424.npy\n",
      "⏭️  Déjà présent sur S3 : 58_20181225.npy\n",
      "✅ Tuile 58 terminée.\n",
      "⏭️  Déjà présent sur S3 : 60_20181021.npy\n",
      "⏭️  Déjà présent sur S3 : 61_20180926.npy\n",
      "⏭️  Déjà présent sur S3 : 59_20181225.npy\n",
      "✅ Tuile 59 terminée.\n",
      "⏭️  Déjà présent sur S3 : 62_20181130.npy\n",
      "⏭️  Déjà présent sur S3 : 63_20180504.npy\n",
      "⏭️  Déjà présent sur S3 : 61_20181021.npy\n",
      "⏭️  Déjà présent sur S3 : 60_20181130.npy\n",
      "⏭️  Déjà présent sur S3 : 62_20181210.npy\n",
      "⏭️  Déjà présent sur S3 : 61_20181130.npy\n",
      "⏭️  Déjà présent sur S3 : 62_20181220.npy\n",
      "⏭️  Déjà présent sur S3 : 60_20181210.npy\n",
      "⏭️  Déjà présent sur S3 : 63_20180519.npy\n",
      "⏭️  Déjà présent sur S3 : 62_20181225.npy\n",
      "✅ Tuile 62 terminée.\n",
      "⏭️  Déjà présent sur S3 : 61_20181210.npy\n",
      "⏭️  Déjà présent sur S3 : 63_20180623.npy\n"
     ]
    },
    {
     "name": "stderr",
     "output_type": "stream",
     "text": [
      "Tuiles traitées:   6%|▌         | 62/1038 [00:14<02:43,  5.97it/s]"
     ]
    },
    {
     "name": "stdout",
     "output_type": "stream",
     "text": [
      "⏭️  Déjà présent sur S3 : 60_20181220.npy\n",
      "⏭️  Déjà présent sur S3 : 61_20181220.npy\n",
      "⏭️  Déjà présent sur S3 : 63_20180628.npy\n",
      "⏭️  Déjà présent sur S3 : 60_20181225.npy\n",
      "✅ Tuile 60 terminée.\n",
      "⏭️  Déjà présent sur S3 : 63_20180703.npy\n",
      "⏭️  Déjà présent sur S3 : 61_20181225.npy\n",
      "✅ Tuile 61 terminée.\n",
      "⏭️  Déjà présent sur S3 : 64_20180208.npy\n",
      "⏭️  Déjà présent sur S3 : 65_20180208.npy\n",
      "⏭️  Déjà présent sur S3 : 64_20180320.npy\n",
      "⏭️  Déjà présent sur S3 : 65_20180320.npy\n",
      "⏭️  Déjà présent sur S3 : 64_20180419.npy\n",
      "⏭️  Déjà présent sur S3 : 66_20180208.npy\n",
      "⏭️  Déjà présent sur S3 : 64_20180424.npy\n",
      "⏭️  Déjà présent sur S3 : 65_20180419.npy\n",
      "⏭️  Déjà présent sur S3 : 66_20180320.npy\n",
      "⏭️  Déjà présent sur S3 : 67_20180208.npy\n",
      "⏭️  Déjà présent sur S3 : 65_20180424.npy\n",
      "⏭️  Déjà présent sur S3 : 64_20180504.npy\n",
      "⏭️  Déjà présent sur S3 : 67_20180320.npy\n",
      "⏭️  Déjà présent sur S3 : 65_20180504.npy\n",
      "⏭️  Déjà présent sur S3 : 66_20180419.npy\n",
      "⏭️  Déjà présent sur S3 : 68_20180208.npy\n",
      "⏭️  Déjà présent sur S3 : 64_20180519.npy\n",
      "⏭️  Déjà présent sur S3 : 66_20180424.npy\n",
      "⏭️  Déjà présent sur S3 : 67_20180419.npy\n",
      "⏭️  Déjà présent sur S3 : 64_20180623.npy\n",
      "⏭️  Déjà présent sur S3 : 66_20180504.npy\n",
      "⏭️  Déjà présent sur S3 : 65_20180519.npy\n",
      "⏭️  Déjà présent sur S3 : 67_20180421.npy\n",
      "⏭️  Déjà présent sur S3 : 65_20180623.npy\n",
      "⏭️  Déjà présent sur S3 : 68_20180320.npy\n",
      "⏭️  Déjà présent sur S3 : 64_20180628.npy\n",
      "⏭️  Déjà présent sur S3 : 66_20180519.npy\n",
      "⏭️  Déjà présent sur S3 : 67_20180424.npy\n",
      "⏭️  Déjà présent sur S3 : 65_20180628.npy\n",
      "⏭️  Déjà présent sur S3 : 68_20180419.npy\n",
      "⏭️  Déjà présent sur S3 : 67_20180504.npy\n",
      "⏭️  Déjà présent sur S3 : 64_20180703.npy\n",
      "⛔ Patch vide pour tile 67, date 20180511\n"
     ]
    },
    {
     "name": "stderr",
     "output_type": "stream",
     "text": [
      "Tuiles traitées:   6%|▌         | 64/1038 [00:57<1:45:23,  6.49s/it]"
     ]
    },
    {
     "name": "stdout",
     "output_type": "stream",
     "text": [
      "✅ Tuile 64 terminée.\n"
     ]
    },
    {
     "name": "stderr",
     "output_type": "stream",
     "text": [
      "Tuiles traitées:   6%|▋         | 65/1038 [00:58<1:29:46,  5.54s/it]"
     ]
    },
    {
     "name": "stdout",
     "output_type": "stream",
     "text": [
      "✅ Tuile 63 terminée.\n"
     ]
    },
    {
     "name": "stderr",
     "output_type": "stream",
     "text": [
      "Tuiles traitées:   6%|▋         | 66/1038 [01:01<1:20:08,  4.95s/it]"
     ]
    },
    {
     "name": "stdout",
     "output_type": "stream",
     "text": [
      "✅ Tuile 65 terminée.\n"
     ]
    },
    {
     "name": "stderr",
     "output_type": "stream",
     "text": [
      "Tuiles traitées:   6%|▋         | 67/1038 [01:05<1:17:13,  4.77s/it]"
     ]
    },
    {
     "name": "stdout",
     "output_type": "stream",
     "text": [
      "✅ Tuile 66 terminée.\n"
     ]
    },
    {
     "name": "stderr",
     "output_type": "stream",
     "text": [
      "Tuiles traitées:   7%|▋         | 68/1038 [01:17<1:44:07,  6.44s/it]"
     ]
    },
    {
     "name": "stdout",
     "output_type": "stream",
     "text": [
      "✅ Tuile 68 terminée.\n"
     ]
    },
    {
     "name": "stderr",
     "output_type": "stream",
     "text": [
      "Tuiles traitées:   7%|▋         | 69/1038 [01:28<2:04:38,  7.72s/it]"
     ]
    },
    {
     "name": "stdout",
     "output_type": "stream",
     "text": [
      "✅ Tuile 67 terminée.\n"
     ]
    },
    {
     "name": "stderr",
     "output_type": "stream",
     "text": [
      "Tuiles traitées:   7%|▋         | 70/1038 [02:09<4:27:04, 16.55s/it]"
     ]
    },
    {
     "name": "stdout",
     "output_type": "stream",
     "text": [
      "✅ Tuile 69 terminée.\n"
     ]
    },
    {
     "name": "stderr",
     "output_type": "stream",
     "text": [
      "Tuiles traitées:   7%|▋         | 71/1038 [02:12<3:23:52, 12.65s/it]"
     ]
    },
    {
     "name": "stdout",
     "output_type": "stream",
     "text": [
      "✅ Tuile 71 terminée.\n"
     ]
    },
    {
     "name": "stderr",
     "output_type": "stream",
     "text": [
      "Tuiles traitées:   7%|▋         | 72/1038 [02:17<2:49:15, 10.51s/it]"
     ]
    },
    {
     "name": "stdout",
     "output_type": "stream",
     "text": [
      "✅ Tuile 70 terminée.\n"
     ]
    },
    {
     "name": "stderr",
     "output_type": "stream",
     "text": [
      "Tuiles traitées:   7%|▋         | 73/1038 [02:20<2:17:53,  8.57s/it]"
     ]
    },
    {
     "name": "stdout",
     "output_type": "stream",
     "text": [
      "✅ Tuile 72 terminée.\n"
     ]
    },
    {
     "name": "stderr",
     "output_type": "stream",
     "text": [
      "Tuiles traitées:   7%|▋         | 74/1038 [02:28<2:12:42,  8.26s/it]"
     ]
    },
    {
     "name": "stdout",
     "output_type": "stream",
     "text": [
      "✅ Tuile 73 terminée.\n"
     ]
    },
    {
     "name": "stderr",
     "output_type": "stream",
     "text": [
      "Tuiles traitées:   7%|▋         | 75/1038 [02:41<2:34:01,  9.60s/it]"
     ]
    },
    {
     "name": "stdout",
     "output_type": "stream",
     "text": [
      "✅ Tuile 74 terminée.\n"
     ]
    },
    {
     "name": "stderr",
     "output_type": "stream",
     "text": [
      "Tuiles traitées:   7%|▋         | 76/1038 [03:24<5:13:55, 19.58s/it]"
     ]
    },
    {
     "name": "stdout",
     "output_type": "stream",
     "text": [
      "✅ Tuile 75 terminée.\n"
     ]
    },
    {
     "name": "stderr",
     "output_type": "stream",
     "text": [
      "Tuiles traitées:   7%|▋         | 77/1038 [03:29<4:02:19, 15.13s/it]"
     ]
    },
    {
     "name": "stdout",
     "output_type": "stream",
     "text": [
      "✅ Tuile 76 terminée.\n"
     ]
    },
    {
     "name": "stderr",
     "output_type": "stream",
     "text": [
      "Tuiles traitées:   8%|▊         | 78/1038 [03:33<3:08:42, 11.79s/it]"
     ]
    },
    {
     "name": "stdout",
     "output_type": "stream",
     "text": [
      "✅ Tuile 78 terminée.\n"
     ]
    },
    {
     "name": "stderr",
     "output_type": "stream",
     "text": [
      "Tuiles traitées:   8%|▊         | 79/1038 [03:33<2:15:46,  8.50s/it]"
     ]
    },
    {
     "name": "stdout",
     "output_type": "stream",
     "text": [
      "✅ Tuile 77 terminée.\n"
     ]
    },
    {
     "name": "stderr",
     "output_type": "stream",
     "text": [
      "Tuiles traitées:   8%|▊         | 80/1038 [03:45<2:29:21,  9.35s/it]"
     ]
    },
    {
     "name": "stdout",
     "output_type": "stream",
     "text": [
      "✅ Tuile 79 terminée.\n"
     ]
    },
    {
     "name": "stderr",
     "output_type": "stream",
     "text": [
      "Tuiles traitées:   8%|▊         | 81/1038 [03:58<2:47:10, 10.48s/it]"
     ]
    },
    {
     "name": "stdout",
     "output_type": "stream",
     "text": [
      "✅ Tuile 80 terminée.\n"
     ]
    },
    {
     "name": "stderr",
     "output_type": "stream",
     "text": [
      "Tuiles traitées:   8%|▊         | 82/1038 [04:38<5:06:31, 19.24s/it]"
     ]
    },
    {
     "name": "stdout",
     "output_type": "stream",
     "text": [
      "✅ Tuile 81 terminée.\n"
     ]
    },
    {
     "name": "stderr",
     "output_type": "stream",
     "text": [
      "Tuiles traitées:   8%|▊         | 83/1038 [04:42<3:56:16, 14.84s/it]"
     ]
    },
    {
     "name": "stdout",
     "output_type": "stream",
     "text": [
      "✅ Tuile 82 terminée.\n"
     ]
    },
    {
     "name": "stderr",
     "output_type": "stream",
     "text": [
      "Tuiles traitées:   8%|▊         | 84/1038 [04:45<2:56:42, 11.11s/it]"
     ]
    },
    {
     "name": "stdout",
     "output_type": "stream",
     "text": [
      "✅ Tuile 83 terminée.\n"
     ]
    },
    {
     "name": "stderr",
     "output_type": "stream",
     "text": [
      "Tuiles traitées:   8%|▊         | 85/1038 [04:46<2:10:48,  8.24s/it]"
     ]
    },
    {
     "name": "stdout",
     "output_type": "stream",
     "text": [
      "✅ Tuile 84 terminée.\n"
     ]
    },
    {
     "name": "stderr",
     "output_type": "stream",
     "text": [
      "Tuiles traitées:   8%|▊         | 86/1038 [04:56<2:17:52,  8.69s/it]"
     ]
    },
    {
     "name": "stdout",
     "output_type": "stream",
     "text": [
      "✅ Tuile 85 terminée.\n"
     ]
    },
    {
     "name": "stderr",
     "output_type": "stream",
     "text": [
      "Tuiles traitées:   8%|▊         | 87/1038 [05:17<3:15:27, 12.33s/it]"
     ]
    },
    {
     "name": "stdout",
     "output_type": "stream",
     "text": [
      "✅ Tuile 86 terminée.\n"
     ]
    },
    {
     "name": "stderr",
     "output_type": "stream",
     "text": [
      "Tuiles traitées:   8%|▊         | 88/1038 [05:55<5:17:56, 20.08s/it]"
     ]
    },
    {
     "name": "stdout",
     "output_type": "stream",
     "text": [
      "✅ Tuile 88 terminée.\n"
     ]
    },
    {
     "name": "stderr",
     "output_type": "stream",
     "text": [
      "Tuiles traitées:   9%|▊         | 89/1038 [05:55<3:44:09, 14.17s/it]"
     ]
    },
    {
     "name": "stdout",
     "output_type": "stream",
     "text": [
      "✅ Tuile 87 terminée.\n"
     ]
    },
    {
     "name": "stderr",
     "output_type": "stream",
     "text": [
      "Tuiles traitées:   9%|▊         | 90/1038 [05:57<2:45:12, 10.46s/it]"
     ]
    },
    {
     "name": "stdout",
     "output_type": "stream",
     "text": [
      "✅ Tuile 90 terminée.\n"
     ]
    },
    {
     "name": "stderr",
     "output_type": "stream",
     "text": [
      "Tuiles traitées:   9%|▉         | 91/1038 [06:00<2:10:41,  8.28s/it]"
     ]
    },
    {
     "name": "stdout",
     "output_type": "stream",
     "text": [
      "✅ Tuile 89 terminée.\n"
     ]
    },
    {
     "name": "stderr",
     "output_type": "stream",
     "text": [
      "Tuiles traitées:   9%|▉         | 92/1038 [06:08<2:09:37,  8.22s/it]"
     ]
    },
    {
     "name": "stdout",
     "output_type": "stream",
     "text": [
      "✅ Tuile 91 terminée.\n"
     ]
    },
    {
     "name": "stderr",
     "output_type": "stream",
     "text": [
      "Tuiles traitées:   9%|▉         | 93/1038 [07:52<9:39:33, 36.80s/it]"
     ]
    },
    {
     "name": "stdout",
     "output_type": "stream",
     "text": [
      "✅ Tuile 92 terminée.\n"
     ]
    },
    {
     "name": "stderr",
     "output_type": "stream",
     "text": [
      "Tuiles traitées:   9%|▉         | 94/1038 [08:23<9:15:01, 35.28s/it]"
     ]
    },
    {
     "name": "stdout",
     "output_type": "stream",
     "text": [
      "✅ Tuile 93 terminée.\n"
     ]
    },
    {
     "name": "stderr",
     "output_type": "stream",
     "text": [
      "Tuiles traitées:   9%|▉         | 95/1038 [08:29<6:54:12, 26.35s/it]"
     ]
    },
    {
     "name": "stdout",
     "output_type": "stream",
     "text": [
      "✅ Tuile 96 terminée.\n"
     ]
    },
    {
     "name": "stderr",
     "output_type": "stream",
     "text": [
      "Tuiles traitées:   9%|▉         | 96/1038 [08:29<4:51:24, 18.56s/it]"
     ]
    },
    {
     "name": "stdout",
     "output_type": "stream",
     "text": [
      "✅ Tuile 94 terminée.\n",
      "⛔ Patch vide pour tile 98, date 20180516\n"
     ]
    },
    {
     "name": "stderr",
     "output_type": "stream",
     "text": [
      "Tuiles traitées:   9%|▉         | 97/1038 [08:34<3:45:15, 14.36s/it]"
     ]
    },
    {
     "name": "stdout",
     "output_type": "stream",
     "text": [
      "✅ Tuile 95 terminée.\n"
     ]
    },
    {
     "name": "stderr",
     "output_type": "stream",
     "text": [
      "Tuiles traitées:   9%|▉         | 98/1038 [08:36<2:47:18, 10.68s/it]"
     ]
    },
    {
     "name": "stdout",
     "output_type": "stream",
     "text": [
      "✅ Tuile 97 terminée.\n",
      "⛔ Patch vide pour tile 99, date 20180819\n"
     ]
    },
    {
     "name": "stderr",
     "output_type": "stream",
     "text": [
      "Tuiles traitées:  10%|▉         | 99/1038 [09:47<7:28:59, 28.69s/it]"
     ]
    },
    {
     "name": "stdout",
     "output_type": "stream",
     "text": [
      "✅ Tuile 99 terminée.\n"
     ]
    },
    {
     "name": "stderr",
     "output_type": "stream",
     "text": [
      "Tuiles traitées:  10%|▉         | 100/1038 [09:48<5:18:04, 20.35s/it]"
     ]
    },
    {
     "name": "stdout",
     "output_type": "stream",
     "text": [
      "✅ Tuile 100 terminée.\n",
      "✅ Tuile 101 terminée.\n"
     ]
    },
    {
     "name": "stderr",
     "output_type": "stream",
     "text": [
      "Tuiles traitées:  10%|▉         | 102/1038 [09:55<3:17:46, 12.68s/it]"
     ]
    },
    {
     "name": "stdout",
     "output_type": "stream",
     "text": [
      "✅ Tuile 103 terminée.\n"
     ]
    },
    {
     "name": "stderr",
     "output_type": "stream",
     "text": [
      "Tuiles traitées:  10%|▉         | 103/1038 [10:00<2:47:06, 10.72s/it]"
     ]
    },
    {
     "name": "stdout",
     "output_type": "stream",
     "text": [
      "✅ Tuile 102 terminée.\n"
     ]
    },
    {
     "name": "stderr",
     "output_type": "stream",
     "text": [
      "Tuiles traitées:  10%|█         | 104/1038 [10:10<2:46:21, 10.69s/it]"
     ]
    },
    {
     "name": "stdout",
     "output_type": "stream",
     "text": [
      "✅ Tuile 98 terminée.\n"
     ]
    },
    {
     "name": "stderr",
     "output_type": "stream",
     "text": [
      "Tuiles traitées:  10%|█         | 105/1038 [10:58<5:22:04, 20.71s/it]"
     ]
    },
    {
     "name": "stdout",
     "output_type": "stream",
     "text": [
      "✅ Tuile 104 terminée.\n"
     ]
    },
    {
     "name": "stderr",
     "output_type": "stream",
     "text": [
      "Tuiles traitées:  10%|█         | 106/1038 [11:02<4:09:00, 16.03s/it]"
     ]
    },
    {
     "name": "stdout",
     "output_type": "stream",
     "text": [
      "✅ Tuile 106 terminée.\n"
     ]
    },
    {
     "name": "stderr",
     "output_type": "stream",
     "text": [
      "Tuiles traitées:  10%|█         | 107/1038 [11:04<3:04:54, 11.92s/it]"
     ]
    },
    {
     "name": "stdout",
     "output_type": "stream",
     "text": [
      "✅ Tuile 105 terminée.\n"
     ]
    },
    {
     "name": "stderr",
     "output_type": "stream",
     "text": [
      "Tuiles traitées:  10%|█         | 108/1038 [11:11<2:43:11, 10.53s/it]"
     ]
    },
    {
     "name": "stdout",
     "output_type": "stream",
     "text": [
      "✅ Tuile 107 terminée.\n"
     ]
    },
    {
     "name": "stderr",
     "output_type": "stream",
     "text": [
      "Tuiles traitées:  11%|█         | 109/1038 [11:15<2:13:26,  8.62s/it]"
     ]
    },
    {
     "name": "stdout",
     "output_type": "stream",
     "text": [
      "✅ Tuile 108 terminée.\n"
     ]
    },
    {
     "name": "stderr",
     "output_type": "stream",
     "text": [
      "Tuiles traitées:  11%|█         | 110/1038 [11:26<2:26:41,  9.48s/it]"
     ]
    },
    {
     "name": "stdout",
     "output_type": "stream",
     "text": [
      "✅ Tuile 109 terminée.\n"
     ]
    },
    {
     "name": "stderr",
     "output_type": "stream",
     "text": [
      "Tuiles traitées:  11%|█         | 111/1038 [12:15<5:24:29, 21.00s/it]"
     ]
    },
    {
     "name": "stdout",
     "output_type": "stream",
     "text": [
      "✅ Tuile 110 terminée.\n"
     ]
    },
    {
     "name": "stderr",
     "output_type": "stream",
     "text": [
      "Tuiles traitées:  11%|█         | 112/1038 [12:19<4:09:44, 16.18s/it]"
     ]
    },
    {
     "name": "stdout",
     "output_type": "stream",
     "text": [
      "✅ Tuile 111 terminée.\n"
     ]
    },
    {
     "name": "stderr",
     "output_type": "stream",
     "text": [
      "Tuiles traitées:  11%|█         | 113/1038 [12:20<2:59:43, 11.66s/it]"
     ]
    },
    {
     "name": "stdout",
     "output_type": "stream",
     "text": [
      "✅ Tuile 112 terminée.\n"
     ]
    },
    {
     "name": "stderr",
     "output_type": "stream",
     "text": [
      "Tuiles traitées:  11%|█         | 114/1038 [12:27<2:37:22, 10.22s/it]"
     ]
    },
    {
     "name": "stdout",
     "output_type": "stream",
     "text": [
      "✅ Tuile 113 terminée.\n"
     ]
    },
    {
     "name": "stderr",
     "output_type": "stream",
     "text": [
      "Tuiles traitées:  11%|█         | 115/1038 [12:30<2:00:52,  7.86s/it]"
     ]
    },
    {
     "name": "stdout",
     "output_type": "stream",
     "text": [
      "✅ Tuile 114 terminée.\n"
     ]
    },
    {
     "name": "stderr",
     "output_type": "stream",
     "text": [
      "Tuiles traitées:  11%|█         | 116/1038 [12:54<3:15:42, 12.74s/it]"
     ]
    },
    {
     "name": "stdout",
     "output_type": "stream",
     "text": [
      "✅ Tuile 115 terminée.\n"
     ]
    },
    {
     "name": "stderr",
     "output_type": "stream",
     "text": [
      "Tuiles traitées:  11%|█▏        | 117/1038 [13:28<4:52:52, 19.08s/it]"
     ]
    },
    {
     "name": "stdout",
     "output_type": "stream",
     "text": [
      "✅ Tuile 116 terminée.\n"
     ]
    },
    {
     "name": "stderr",
     "output_type": "stream",
     "text": [
      "Tuiles traitées:  11%|█▏        | 118/1038 [13:40<4:22:02, 17.09s/it]"
     ]
    },
    {
     "name": "stdout",
     "output_type": "stream",
     "text": [
      "✅ Tuile 118 terminée.\n"
     ]
    },
    {
     "name": "stderr",
     "output_type": "stream",
     "text": [
      "Tuiles traitées:  11%|█▏        | 119/1038 [13:41<3:06:54, 12.20s/it]"
     ]
    },
    {
     "name": "stdout",
     "output_type": "stream",
     "text": [
      "✅ Tuile 119 terminée.\n"
     ]
    },
    {
     "name": "stderr",
     "output_type": "stream",
     "text": [
      "Tuiles traitées:  12%|█▏        | 120/1038 [13:42<2:14:13,  8.77s/it]"
     ]
    },
    {
     "name": "stdout",
     "output_type": "stream",
     "text": [
      "✅ Tuile 117 terminée.\n"
     ]
    },
    {
     "name": "stderr",
     "output_type": "stream",
     "text": [
      "Tuiles traitées:  12%|█▏        | 121/1038 [14:59<7:30:11, 29.46s/it]"
     ]
    },
    {
     "name": "stdout",
     "output_type": "stream",
     "text": [
      "✅ Tuile 120 terminée.\n"
     ]
    },
    {
     "name": "stderr",
     "output_type": "stream",
     "text": [
      "Tuiles traitées:  12%|█▏        | 122/1038 [15:25<7:13:12, 28.38s/it]"
     ]
    },
    {
     "name": "stdout",
     "output_type": "stream",
     "text": [
      "✅ Tuile 121 terminée.\n"
     ]
    },
    {
     "name": "stderr",
     "output_type": "stream",
     "text": [
      "Tuiles traitées:  12%|█▏        | 123/1038 [15:52<7:07:25, 28.03s/it]"
     ]
    },
    {
     "name": "stdout",
     "output_type": "stream",
     "text": [
      "✅ Tuile 122 terminée.\n"
     ]
    },
    {
     "name": "stderr",
     "output_type": "stream",
     "text": [
      "Tuiles traitées:  12%|█▏        | 124/1038 [16:03<5:46:45, 22.76s/it]"
     ]
    },
    {
     "name": "stdout",
     "output_type": "stream",
     "text": [
      "✅ Tuile 124 terminée.\n"
     ]
    },
    {
     "name": "stderr",
     "output_type": "stream",
     "text": [
      "Tuiles traitées:  12%|█▏        | 125/1038 [16:04<4:07:46, 16.28s/it]"
     ]
    },
    {
     "name": "stdout",
     "output_type": "stream",
     "text": [
      "✅ Tuile 123 terminée.\n"
     ]
    },
    {
     "name": "stderr",
     "output_type": "stream",
     "text": [
      "Tuiles traitées:  12%|█▏        | 126/1038 [16:19<3:59:49, 15.78s/it]"
     ]
    },
    {
     "name": "stdout",
     "output_type": "stream",
     "text": [
      "✅ Tuile 125 terminée.\n",
      "⛔ Patch vide pour tile 131, date 20180526\n",
      "⛔ Patch vide pour tile 131, date 20180620\n"
     ]
    },
    {
     "name": "stderr",
     "output_type": "stream",
     "text": [
      "Tuiles traitées:  12%|█▏        | 127/1038 [17:55<10:06:13, 39.93s/it]"
     ]
    },
    {
     "name": "stdout",
     "output_type": "stream",
     "text": [
      "✅ Tuile 126 terminée.\n",
      "⛔ Patch vide pour tile 132, date 20180126\n"
     ]
    },
    {
     "name": "stderr",
     "output_type": "stream",
     "text": [
      "Tuiles traitées:  12%|█▏        | 128/1038 [18:22<9:07:04, 36.07s/it] "
     ]
    },
    {
     "name": "stdout",
     "output_type": "stream",
     "text": [
      "✅ Tuile 127 terminée.\n"
     ]
    },
    {
     "name": "stderr",
     "output_type": "stream",
     "text": [
      "Tuiles traitées:  12%|█▏        | 129/1038 [18:53<8:42:36, 34.50s/it]"
     ]
    },
    {
     "name": "stdout",
     "output_type": "stream",
     "text": [
      "✅ Tuile 130 terminée.\n"
     ]
    },
    {
     "name": "stderr",
     "output_type": "stream",
     "text": [
      "Tuiles traitées:  13%|█▎        | 130/1038 [18:54<6:09:28, 24.41s/it]"
     ]
    },
    {
     "name": "stdout",
     "output_type": "stream",
     "text": [
      "✅ Tuile 128 terminée.\n"
     ]
    },
    {
     "name": "stderr",
     "output_type": "stream",
     "text": [
      "Tuiles traitées:  13%|█▎        | 131/1038 [18:55<4:25:50, 17.59s/it]"
     ]
    },
    {
     "name": "stdout",
     "output_type": "stream",
     "text": [
      "✅ Tuile 129 terminée.\n"
     ]
    },
    {
     "name": "stderr",
     "output_type": "stream",
     "text": [
      "Tuiles traitées:  13%|█▎        | 132/1038 [18:59<3:22:16, 13.40s/it]"
     ]
    },
    {
     "name": "stdout",
     "output_type": "stream",
     "text": [
      "✅ Tuile 131 terminée.\n",
      "⛔ Patch vide pour tile 132, date 20181008\n"
     ]
    },
    {
     "name": "stderr",
     "output_type": "stream",
     "text": [
      "Tuiles traitées:  13%|█▎        | 133/1038 [19:45<5:49:40, 23.18s/it]"
     ]
    },
    {
     "name": "stdout",
     "output_type": "stream",
     "text": [
      "✅ Tuile 133 terminée.\n"
     ]
    },
    {
     "name": "stderr",
     "output_type": "stream",
     "text": [
      "Tuiles traitées:  13%|█▎        | 134/1038 [19:51<4:33:14, 18.14s/it]"
     ]
    },
    {
     "name": "stdout",
     "output_type": "stream",
     "text": [
      "✅ Tuile 132 terminée.\n"
     ]
    },
    {
     "name": "stderr",
     "output_type": "stream",
     "text": [
      "Tuiles traitées:  13%|█▎        | 135/1038 [20:08<4:24:13, 17.56s/it]"
     ]
    },
    {
     "name": "stdout",
     "output_type": "stream",
     "text": [
      "✅ Tuile 135 terminée.\n"
     ]
    },
    {
     "name": "stderr",
     "output_type": "stream",
     "text": [
      "Tuiles traitées:  13%|█▎        | 136/1038 [20:08<3:08:12, 12.52s/it]"
     ]
    },
    {
     "name": "stdout",
     "output_type": "stream",
     "text": [
      "✅ Tuile 134 terminée.\n"
     ]
    },
    {
     "name": "stderr",
     "output_type": "stream",
     "text": [
      "Tuiles traitées:  13%|█▎        | 137/1038 [20:14<2:36:08, 10.40s/it]"
     ]
    },
    {
     "name": "stdout",
     "output_type": "stream",
     "text": [
      "✅ Tuile 136 terminée.\n"
     ]
    },
    {
     "name": "stderr",
     "output_type": "stream",
     "text": [
      "Tuiles traitées:  13%|█▎        | 138/1038 [20:15<1:55:28,  7.70s/it]"
     ]
    },
    {
     "name": "stdout",
     "output_type": "stream",
     "text": [
      "✅ Tuile 137 terminée.\n"
     ]
    },
    {
     "name": "stderr",
     "output_type": "stream",
     "text": [
      "Tuiles traitées:  13%|█▎        | 139/1038 [21:00<4:39:53, 18.68s/it]"
     ]
    },
    {
     "name": "stdout",
     "output_type": "stream",
     "text": [
      "✅ Tuile 138 terminée.\n"
     ]
    },
    {
     "name": "stderr",
     "output_type": "stream",
     "text": [
      "Tuiles traitées:  13%|█▎        | 140/1038 [21:09<3:58:22, 15.93s/it]"
     ]
    },
    {
     "name": "stdout",
     "output_type": "stream",
     "text": [
      "✅ Tuile 139 terminée.\n"
     ]
    },
    {
     "name": "stderr",
     "output_type": "stream",
     "text": [
      "Tuiles traitées:  14%|█▎        | 141/1038 [21:22<3:44:25, 15.01s/it]"
     ]
    },
    {
     "name": "stdout",
     "output_type": "stream",
     "text": [
      "✅ Tuile 140 terminée.\n"
     ]
    },
    {
     "name": "stderr",
     "output_type": "stream",
     "text": [
      "Tuiles traitées:  14%|█▎        | 142/1038 [21:24<2:48:02, 11.25s/it]"
     ]
    },
    {
     "name": "stdout",
     "output_type": "stream",
     "text": [
      "✅ Tuile 141 terminée.\n"
     ]
    },
    {
     "name": "stderr",
     "output_type": "stream",
     "text": [
      "Tuiles traitées:  14%|█▍        | 144/1038 [21:32<1:47:30,  7.22s/it]"
     ]
    },
    {
     "name": "stdout",
     "output_type": "stream",
     "text": [
      "✅ Tuile 143 terminée.\n",
      "✅ Tuile 142 terminée.\n"
     ]
    },
    {
     "name": "stderr",
     "output_type": "stream",
     "text": [
      "Tuiles traitées:  14%|█▍        | 145/1038 [22:16<4:31:39, 18.25s/it]"
     ]
    },
    {
     "name": "stdout",
     "output_type": "stream",
     "text": [
      "✅ Tuile 144 terminée.\n"
     ]
    },
    {
     "name": "stderr",
     "output_type": "stream",
     "text": [
      "Tuiles traitées:  14%|█▍        | 146/1038 [22:25<3:48:21, 15.36s/it]"
     ]
    },
    {
     "name": "stdout",
     "output_type": "stream",
     "text": [
      "✅ Tuile 145 terminée.\n"
     ]
    },
    {
     "name": "stderr",
     "output_type": "stream",
     "text": [
      "Tuiles traitées:  14%|█▍        | 147/1038 [22:38<3:36:50, 14.60s/it]"
     ]
    },
    {
     "name": "stdout",
     "output_type": "stream",
     "text": [
      "✅ Tuile 146 terminée.\n"
     ]
    },
    {
     "name": "stderr",
     "output_type": "stream",
     "text": [
      "Tuiles traitées:  14%|█▍        | 148/1038 [22:41<2:45:17, 11.14s/it]"
     ]
    },
    {
     "name": "stdout",
     "output_type": "stream",
     "text": [
      "✅ Tuile 147 terminée.\n"
     ]
    },
    {
     "name": "stderr",
     "output_type": "stream",
     "text": [
      "Tuiles traitées:  14%|█▍        | 149/1038 [22:44<2:08:28,  8.67s/it]"
     ]
    },
    {
     "name": "stdout",
     "output_type": "stream",
     "text": [
      "✅ Tuile 148 terminée.\n"
     ]
    },
    {
     "name": "stderr",
     "output_type": "stream",
     "text": [
      "Tuiles traitées:  14%|█▍        | 150/1038 [22:46<1:40:40,  6.80s/it]"
     ]
    },
    {
     "name": "stdout",
     "output_type": "stream",
     "text": [
      "✅ Tuile 149 terminée.\n"
     ]
    },
    {
     "name": "stderr",
     "output_type": "stream",
     "text": [
      "Tuiles traitées:  15%|█▍        | 151/1038 [24:43<9:49:00, 39.84s/it]"
     ]
    },
    {
     "name": "stdout",
     "output_type": "stream",
     "text": [
      "✅ Tuile 150 terminée.\n"
     ]
    },
    {
     "name": "stderr",
     "output_type": "stream",
     "text": [
      "Tuiles traitées:  15%|█▍        | 152/1038 [24:47<7:10:00, 29.12s/it]"
     ]
    },
    {
     "name": "stdout",
     "output_type": "stream",
     "text": [
      "✅ Tuile 151 terminée.\n"
     ]
    },
    {
     "name": "stderr",
     "output_type": "stream",
     "text": [
      "Tuiles traitées:  15%|█▍        | 153/1038 [25:04<6:14:52, 25.41s/it]"
     ]
    },
    {
     "name": "stdout",
     "output_type": "stream",
     "text": [
      "✅ Tuile 152 terminée.\n"
     ]
    },
    {
     "name": "stderr",
     "output_type": "stream",
     "text": [
      "Tuiles traitées:  15%|█▍        | 154/1038 [25:08<4:38:33, 18.91s/it]"
     ]
    },
    {
     "name": "stdout",
     "output_type": "stream",
     "text": [
      "✅ Tuile 153 terminée.\n"
     ]
    },
    {
     "name": "stderr",
     "output_type": "stream",
     "text": [
      "Tuiles traitées:  15%|█▍        | 155/1038 [25:09<3:20:57, 13.66s/it]"
     ]
    },
    {
     "name": "stdout",
     "output_type": "stream",
     "text": [
      "✅ Tuile 154 terminée.\n"
     ]
    },
    {
     "name": "stderr",
     "output_type": "stream",
     "text": [
      "Tuiles traitées:  15%|█▌        | 156/1038 [25:18<3:00:37, 12.29s/it]"
     ]
    },
    {
     "name": "stdout",
     "output_type": "stream",
     "text": [
      "✅ Tuile 155 terminée.\n"
     ]
    },
    {
     "name": "stderr",
     "output_type": "stream",
     "text": [
      "Tuiles traitées:  15%|█▌        | 157/1038 [28:49<17:32:06, 71.65s/it]"
     ]
    },
    {
     "name": "stdout",
     "output_type": "stream",
     "text": [
      "✅ Tuile 157 terminée.\n"
     ]
    },
    {
     "name": "stderr",
     "output_type": "stream",
     "text": [
      "Tuiles traitées:  15%|█▌        | 158/1038 [29:14<14:07:55, 57.81s/it]"
     ]
    },
    {
     "name": "stdout",
     "output_type": "stream",
     "text": [
      "✅ Tuile 161 terminée.\n"
     ]
    },
    {
     "name": "stderr",
     "output_type": "stream",
     "text": [
      "Tuiles traitées:  15%|█▌        | 159/1038 [29:24<10:37:32, 43.52s/it]"
     ]
    },
    {
     "name": "stdout",
     "output_type": "stream",
     "text": [
      "✅ Tuile 156 terminée.\n"
     ]
    },
    {
     "name": "stderr",
     "output_type": "stream",
     "text": [
      "Tuiles traitées:  15%|█▌        | 160/1038 [29:29<7:47:54, 31.98s/it] "
     ]
    },
    {
     "name": "stdout",
     "output_type": "stream",
     "text": [
      "✅ Tuile 160 terminée.\n"
     ]
    },
    {
     "name": "stderr",
     "output_type": "stream",
     "text": [
      "Tuiles traitées:  16%|█▌        | 161/1038 [29:43<6:25:53, 26.40s/it]"
     ]
    },
    {
     "name": "stdout",
     "output_type": "stream",
     "text": [
      "✅ Tuile 158 terminée.\n"
     ]
    },
    {
     "name": "stderr",
     "output_type": "stream",
     "text": [
      "Tuiles traitées:  16%|█▌        | 162/1038 [29:52<5:10:11, 21.25s/it]"
     ]
    },
    {
     "name": "stdout",
     "output_type": "stream",
     "text": [
      "✅ Tuile 159 terminée.\n",
      "⛔ Patch vide pour tile 165, date 20180516\n",
      "⛔ Patch vide pour tile 166, date 20180819\n"
     ]
    },
    {
     "name": "stderr",
     "output_type": "stream",
     "text": [
      "Tuiles traitées:  16%|█▌        | 163/1038 [31:12<9:28:19, 38.97s/it]"
     ]
    },
    {
     "name": "stdout",
     "output_type": "stream",
     "text": [
      "✅ Tuile 167 terminée.\n"
     ]
    },
    {
     "name": "stderr",
     "output_type": "stream",
     "text": [
      "Tuiles traitées:  16%|█▌        | 164/1038 [31:22<7:19:22, 30.16s/it]"
     ]
    },
    {
     "name": "stdout",
     "output_type": "stream",
     "text": [
      "✅ Tuile 166 terminée.\n"
     ]
    },
    {
     "name": "stderr",
     "output_type": "stream",
     "text": [
      "Tuiles traitées:  16%|█▌        | 165/1038 [31:22<5:08:19, 21.19s/it]"
     ]
    },
    {
     "name": "stdout",
     "output_type": "stream",
     "text": [
      "✅ Tuile 162 terminée.\n"
     ]
    },
    {
     "name": "stderr",
     "output_type": "stream",
     "text": [
      "Tuiles traitées:  16%|█▌        | 166/1038 [32:00<6:23:07, 26.36s/it]"
     ]
    },
    {
     "name": "stdout",
     "output_type": "stream",
     "text": [
      "✅ Tuile 163 terminée.\n"
     ]
    },
    {
     "name": "stderr",
     "output_type": "stream",
     "text": [
      "Tuiles traitées:  16%|█▌        | 167/1038 [32:04<4:43:04, 19.50s/it]"
     ]
    },
    {
     "name": "stdout",
     "output_type": "stream",
     "text": [
      "✅ Tuile 165 terminée.\n"
     ]
    },
    {
     "name": "stderr",
     "output_type": "stream",
     "text": [
      "Tuiles traitées:  16%|█▌        | 168/1038 [32:39<5:50:29, 24.17s/it]"
     ]
    },
    {
     "name": "stdout",
     "output_type": "stream",
     "text": [
      "✅ Tuile 164 terminée.\n"
     ]
    },
    {
     "name": "stderr",
     "output_type": "stream",
     "text": [
      "Tuiles traitées:  16%|█▋        | 169/1038 [32:58<5:28:23, 22.67s/it]"
     ]
    },
    {
     "name": "stdout",
     "output_type": "stream",
     "text": [
      "✅ Tuile 168 terminée.\n"
     ]
    },
    {
     "name": "stderr",
     "output_type": "stream",
     "text": [
      "Tuiles traitées:  16%|█▋        | 170/1038 [33:01<4:01:39, 16.70s/it]"
     ]
    },
    {
     "name": "stdout",
     "output_type": "stream",
     "text": [
      "✅ Tuile 169 terminée.\n"
     ]
    },
    {
     "name": "stderr",
     "output_type": "stream",
     "text": [
      "Tuiles traitées:  16%|█▋        | 171/1038 [33:03<2:58:15, 12.34s/it]"
     ]
    },
    {
     "name": "stdout",
     "output_type": "stream",
     "text": [
      "✅ Tuile 170 terminée.\n"
     ]
    },
    {
     "name": "stderr",
     "output_type": "stream",
     "text": [
      "Tuiles traitées:  17%|█▋        | 172/1038 [33:26<3:44:17, 15.54s/it]"
     ]
    },
    {
     "name": "stdout",
     "output_type": "stream",
     "text": [
      "✅ Tuile 171 terminée.\n"
     ]
    },
    {
     "name": "stderr",
     "output_type": "stream",
     "text": [
      "Tuiles traitées:  17%|█▋        | 173/1038 [33:33<3:08:23, 13.07s/it]"
     ]
    },
    {
     "name": "stdout",
     "output_type": "stream",
     "text": [
      "✅ Tuile 172 terminée.\n"
     ]
    },
    {
     "name": "stderr",
     "output_type": "stream",
     "text": [
      "Tuiles traitées:  17%|█▋        | 174/1038 [33:54<3:38:41, 15.19s/it]"
     ]
    },
    {
     "name": "stdout",
     "output_type": "stream",
     "text": [
      "✅ Tuile 173 terminée.\n"
     ]
    },
    {
     "name": "stderr",
     "output_type": "stream",
     "text": [
      "Tuiles traitées:  17%|█▋        | 175/1038 [34:09<3:40:54, 15.36s/it]"
     ]
    },
    {
     "name": "stdout",
     "output_type": "stream",
     "text": [
      "✅ Tuile 174 terminée.\n"
     ]
    },
    {
     "name": "stderr",
     "output_type": "stream",
     "text": [
      "Tuiles traitées:  17%|█▋        | 176/1038 [34:16<3:02:24, 12.70s/it]"
     ]
    },
    {
     "name": "stdout",
     "output_type": "stream",
     "text": [
      "✅ Tuile 175 terminée.\n"
     ]
    },
    {
     "name": "stderr",
     "output_type": "stream",
     "text": [
      "Tuiles traitées:  17%|█▋        | 177/1038 [34:20<2:24:36, 10.08s/it]"
     ]
    },
    {
     "name": "stdout",
     "output_type": "stream",
     "text": [
      "✅ Tuile 176 terminée.\n"
     ]
    },
    {
     "name": "stderr",
     "output_type": "stream",
     "text": [
      "Tuiles traitées:  17%|█▋        | 178/1038 [34:43<3:19:45, 13.94s/it]"
     ]
    },
    {
     "name": "stdout",
     "output_type": "stream",
     "text": [
      "✅ Tuile 177 terminée.\n"
     ]
    },
    {
     "name": "stderr",
     "output_type": "stream",
     "text": [
      "Tuiles traitées:  17%|█▋        | 179/1038 [34:50<2:49:41, 11.85s/it]"
     ]
    },
    {
     "name": "stdout",
     "output_type": "stream",
     "text": [
      "✅ Tuile 178 terminée.\n"
     ]
    },
    {
     "name": "stderr",
     "output_type": "stream",
     "text": [
      "Tuiles traitées:  17%|█▋        | 180/1038 [36:39<9:45:18, 40.93s/it]"
     ]
    },
    {
     "name": "stdout",
     "output_type": "stream",
     "text": [
      "✅ Tuile 179 terminée.\n"
     ]
    },
    {
     "name": "stderr",
     "output_type": "stream",
     "text": [
      "Tuiles traitées:  17%|█▋        | 181/1038 [36:56<8:05:36, 34.00s/it]"
     ]
    },
    {
     "name": "stdout",
     "output_type": "stream",
     "text": [
      "✅ Tuile 180 terminée.\n"
     ]
    },
    {
     "name": "stderr",
     "output_type": "stream",
     "text": [
      "Tuiles traitées:  18%|█▊        | 182/1038 [37:04<6:13:05, 26.15s/it]"
     ]
    },
    {
     "name": "stdout",
     "output_type": "stream",
     "text": [
      "✅ Tuile 181 terminée.\n"
     ]
    },
    {
     "name": "stderr",
     "output_type": "stream",
     "text": [
      "Tuiles traitées:  18%|█▊        | 183/1038 [37:05<4:22:35, 18.43s/it]"
     ]
    },
    {
     "name": "stdout",
     "output_type": "stream",
     "text": [
      "✅ Tuile 182 terminée.\n"
     ]
    },
    {
     "name": "stderr",
     "output_type": "stream",
     "text": [
      "Tuiles traitées:  18%|█▊        | 184/1038 [37:27<4:37:56, 19.53s/it]"
     ]
    },
    {
     "name": "stdout",
     "output_type": "stream",
     "text": [
      "✅ Tuile 183 terminée.\n"
     ]
    },
    {
     "name": "stderr",
     "output_type": "stream",
     "text": [
      "Tuiles traitées:  18%|█▊        | 185/1038 [37:33<3:42:32, 15.65s/it]"
     ]
    },
    {
     "name": "stdout",
     "output_type": "stream",
     "text": [
      "✅ Tuile 184 terminée.\n"
     ]
    },
    {
     "name": "stderr",
     "output_type": "stream",
     "text": [
      "Tuiles traitées:  18%|█▊        | 186/1038 [39:22<10:16:51, 43.44s/it]"
     ]
    },
    {
     "name": "stdout",
     "output_type": "stream",
     "text": [
      "✅ Tuile 185 terminée.\n"
     ]
    },
    {
     "name": "stderr",
     "output_type": "stream",
     "text": [
      "Tuiles traitées:  18%|█▊        | 187/1038 [39:34<8:05:50, 34.25s/it] "
     ]
    },
    {
     "name": "stdout",
     "output_type": "stream",
     "text": [
      "✅ Tuile 186 terminée.\n"
     ]
    },
    {
     "name": "stderr",
     "output_type": "stream",
     "text": [
      "Tuiles traitées:  18%|█▊        | 188/1038 [39:47<6:34:04, 27.82s/it]"
     ]
    },
    {
     "name": "stdout",
     "output_type": "stream",
     "text": [
      "✅ Tuile 187 terminée.\n"
     ]
    },
    {
     "name": "stderr",
     "output_type": "stream",
     "text": [
      "Tuiles traitées:  18%|█▊        | 189/1038 [39:48<4:40:58, 19.86s/it]"
     ]
    },
    {
     "name": "stdout",
     "output_type": "stream",
     "text": [
      "✅ Tuile 188 terminée.\n"
     ]
    },
    {
     "name": "stderr",
     "output_type": "stream",
     "text": [
      "Tuiles traitées:  18%|█▊        | 190/1038 [40:22<5:39:10, 24.00s/it]"
     ]
    },
    {
     "name": "stdout",
     "output_type": "stream",
     "text": [
      "✅ Tuile 189 terminée.\n"
     ]
    },
    {
     "name": "stderr",
     "output_type": "stream",
     "text": [
      "Tuiles traitées:  18%|█▊        | 191/1038 [40:24<4:07:01, 17.50s/it]"
     ]
    },
    {
     "name": "stdout",
     "output_type": "stream",
     "text": [
      "✅ Tuile 190 terminée.\n"
     ]
    },
    {
     "name": "stderr",
     "output_type": "stream",
     "text": [
      "Tuiles traitées:  18%|█▊        | 192/1038 [42:08<10:12:45, 43.46s/it]"
     ]
    },
    {
     "name": "stdout",
     "output_type": "stream",
     "text": [
      "✅ Tuile 191 terminée.\n"
     ]
    },
    {
     "name": "stderr",
     "output_type": "stream",
     "text": [
      "Tuiles traitées:  19%|█▊        | 193/1038 [42:23<8:08:37, 34.70s/it] "
     ]
    },
    {
     "name": "stdout",
     "output_type": "stream",
     "text": [
      "✅ Tuile 192 terminée.\n",
      "⛔ Patch vide pour tile 198, date 20180126\n"
     ]
    },
    {
     "name": "stderr",
     "output_type": "stream",
     "text": [
      "Tuiles traitées:  19%|█▊        | 194/1038 [42:28<6:05:22, 25.97s/it]"
     ]
    },
    {
     "name": "stdout",
     "output_type": "stream",
     "text": [
      "✅ Tuile 194 terminée.\n"
     ]
    },
    {
     "name": "stderr",
     "output_type": "stream",
     "text": [
      "Tuiles traitées:  19%|█▉        | 195/1038 [42:35<4:43:15, 20.16s/it]"
     ]
    },
    {
     "name": "stdout",
     "output_type": "stream",
     "text": [
      "✅ Tuile 193 terminée.\n"
     ]
    },
    {
     "name": "stderr",
     "output_type": "stream",
     "text": [
      "Tuiles traitées:  19%|█▉        | 196/1038 [43:00<5:03:33, 21.63s/it]"
     ]
    },
    {
     "name": "stdout",
     "output_type": "stream",
     "text": [
      "✅ Tuile 195 terminée.\n"
     ]
    },
    {
     "name": "stderr",
     "output_type": "stream",
     "text": [
      "Tuiles traitées:  19%|█▉        | 197/1038 [43:05<3:51:58, 16.55s/it]"
     ]
    },
    {
     "name": "stdout",
     "output_type": "stream",
     "text": [
      "✅ Tuile 196 terminée.\n",
      "⛔ Patch vide pour tile 198, date 20180620\n",
      "⛔ Patch vide pour tile 200, date 20180715\n",
      "⛔ Patch vide pour tile 199, date 20180715\n",
      "⛔ Patch vide pour tile 198, date 20180715\n",
      "⛔ Patch vide pour tile 200, date 20180819\n",
      "⛔ Patch vide pour tile 199, date 20180819\n",
      "⛔ Patch vide pour tile 200, date 20180908\n",
      "⛔ Patch vide pour tile 199, date 20180908\n",
      "⛔ Patch vide pour tile 200, date 20181102\n",
      "⛔ Patch vide pour tile 201, date 20180908\n",
      "⛔ Patch vide pour tile 199, date 20181018\n",
      "⛔ Patch vide pour tile 199, date 20181102\n"
     ]
    },
    {
     "name": "stderr",
     "output_type": "stream",
     "text": [
      "Tuiles traitées:  19%|█▉        | 198/1038 [44:11<7:21:49, 31.56s/it]"
     ]
    },
    {
     "name": "stdout",
     "output_type": "stream",
     "text": [
      "✅ Tuile 200 terminée.\n"
     ]
    },
    {
     "name": "stderr",
     "output_type": "stream",
     "text": [
      "Tuiles traitées:  19%|█▉        | 199/1038 [44:20<5:44:36, 24.64s/it]"
     ]
    },
    {
     "name": "stdout",
     "output_type": "stream",
     "text": [
      "✅ Tuile 199 terminée.\n"
     ]
    },
    {
     "name": "stderr",
     "output_type": "stream",
     "text": [
      "Tuiles traitées:  19%|█▉        | 200/1038 [44:26<4:26:32, 19.08s/it]"
     ]
    },
    {
     "name": "stdout",
     "output_type": "stream",
     "text": [
      "✅ Tuile 201 terminée.\n"
     ]
    },
    {
     "name": "stderr",
     "output_type": "stream",
     "text": [
      "Tuiles traitées:  19%|█▉        | 201/1038 [44:35<3:43:32, 16.02s/it]"
     ]
    },
    {
     "name": "stdout",
     "output_type": "stream",
     "text": [
      "✅ Tuile 202 terminée.\n"
     ]
    },
    {
     "name": "stderr",
     "output_type": "stream",
     "text": [
      "Tuiles traitées:  19%|█▉        | 202/1038 [44:38<2:48:39, 12.10s/it]"
     ]
    },
    {
     "name": "stdout",
     "output_type": "stream",
     "text": [
      "✅ Tuile 198 terminée.\n"
     ]
    },
    {
     "name": "stderr",
     "output_type": "stream",
     "text": [
      "Tuiles traitées:  20%|█▉        | 203/1038 [44:45<2:28:15, 10.65s/it]"
     ]
    },
    {
     "name": "stdout",
     "output_type": "stream",
     "text": [
      "✅ Tuile 197 terminée.\n"
     ]
    },
    {
     "name": "stderr",
     "output_type": "stream",
     "text": [
      "Tuiles traitées:  20%|█▉        | 204/1038 [45:36<5:15:32, 22.70s/it]"
     ]
    },
    {
     "name": "stdout",
     "output_type": "stream",
     "text": [
      "✅ Tuile 203 terminée.\n"
     ]
    },
    {
     "name": "stderr",
     "output_type": "stream",
     "text": [
      "Tuiles traitées:  20%|█▉        | 205/1038 [45:44<4:13:29, 18.26s/it]"
     ]
    },
    {
     "name": "stdout",
     "output_type": "stream",
     "text": [
      "✅ Tuile 204 terminée.\n"
     ]
    },
    {
     "name": "stderr",
     "output_type": "stream",
     "text": [
      "Tuiles traitées:  20%|█▉        | 206/1038 [45:52<3:33:21, 15.39s/it]"
     ]
    },
    {
     "name": "stdout",
     "output_type": "stream",
     "text": [
      "✅ Tuile 205 terminée.\n"
     ]
    },
    {
     "name": "stderr",
     "output_type": "stream",
     "text": [
      "Tuiles traitées:  20%|█▉        | 207/1038 [45:59<2:57:29, 12.82s/it]"
     ]
    },
    {
     "name": "stdout",
     "output_type": "stream",
     "text": [
      "✅ Tuile 207 terminée.\n"
     ]
    },
    {
     "name": "stderr",
     "output_type": "stream",
     "text": [
      "Tuiles traitées:  20%|██        | 208/1038 [46:01<2:12:34,  9.58s/it]"
     ]
    },
    {
     "name": "stdout",
     "output_type": "stream",
     "text": [
      "✅ Tuile 206 terminée.\n"
     ]
    },
    {
     "name": "stderr",
     "output_type": "stream",
     "text": [
      "Tuiles traitées:  20%|██        | 209/1038 [46:08<2:00:47,  8.74s/it]"
     ]
    },
    {
     "name": "stdout",
     "output_type": "stream",
     "text": [
      "✅ Tuile 208 terminée.\n"
     ]
    },
    {
     "name": "stderr",
     "output_type": "stream",
     "text": [
      "Tuiles traitées:  20%|██        | 210/1038 [47:06<5:25:26, 23.58s/it]"
     ]
    },
    {
     "name": "stdout",
     "output_type": "stream",
     "text": [
      "✅ Tuile 209 terminée.\n"
     ]
    },
    {
     "name": "stderr",
     "output_type": "stream",
     "text": [
      "Tuiles traitées:  20%|██        | 211/1038 [48:39<10:12:37, 44.45s/it]"
     ]
    },
    {
     "name": "stdout",
     "output_type": "stream",
     "text": [
      "✅ Tuile 211 terminée.\n"
     ]
    },
    {
     "name": "stderr",
     "output_type": "stream",
     "text": [
      "Tuiles traitées:  20%|██        | 212/1038 [48:45<7:32:14, 32.85s/it] "
     ]
    },
    {
     "name": "stdout",
     "output_type": "stream",
     "text": [
      "✅ Tuile 212 terminée.\n"
     ]
    },
    {
     "name": "stderr",
     "output_type": "stream",
     "text": [
      "Tuiles traitées:  21%|██        | 213/1038 [48:47<5:23:09, 23.50s/it]"
     ]
    },
    {
     "name": "stdout",
     "output_type": "stream",
     "text": [
      "✅ Tuile 213 terminée.\n"
     ]
    },
    {
     "name": "stderr",
     "output_type": "stream",
     "text": [
      "Tuiles traitées:  21%|██        | 214/1038 [48:51<4:04:22, 17.79s/it]"
     ]
    },
    {
     "name": "stdout",
     "output_type": "stream",
     "text": [
      "✅ Tuile 214 terminée.\n"
     ]
    },
    {
     "name": "stderr",
     "output_type": "stream",
     "text": [
      "Tuiles traitées:  21%|██        | 215/1038 [48:53<2:55:58, 12.83s/it]"
     ]
    },
    {
     "name": "stdout",
     "output_type": "stream",
     "text": [
      "✅ Tuile 210 terminée.\n"
     ]
    },
    {
     "name": "stderr",
     "output_type": "stream",
     "text": [
      "Tuiles traitées:  21%|██        | 216/1038 [49:52<6:07:35, 26.83s/it]"
     ]
    },
    {
     "name": "stdout",
     "output_type": "stream",
     "text": [
      "✅ Tuile 215 terminée.\n"
     ]
    },
    {
     "name": "stderr",
     "output_type": "stream",
     "text": [
      "Tuiles traitées:  21%|██        | 217/1038 [51:31<11:03:05, 48.46s/it]"
     ]
    },
    {
     "name": "stdout",
     "output_type": "stream",
     "text": [
      "✅ Tuile 216 terminée.\n"
     ]
    },
    {
     "name": "stderr",
     "output_type": "stream",
     "text": [
      "Tuiles traitées:  21%|██        | 218/1038 [51:35<8:00:29, 35.16s/it] "
     ]
    },
    {
     "name": "stdout",
     "output_type": "stream",
     "text": [
      "✅ Tuile 217 terminée.\n"
     ]
    },
    {
     "name": "stderr",
     "output_type": "stream",
     "text": [
      "Tuiles traitées:  21%|██        | 219/1038 [51:41<6:01:02, 26.45s/it]"
     ]
    },
    {
     "name": "stdout",
     "output_type": "stream",
     "text": [
      "✅ Tuile 218 terminée.\n"
     ]
    },
    {
     "name": "stderr",
     "output_type": "stream",
     "text": [
      "Tuiles traitées:  21%|██        | 220/1038 [51:43<4:18:24, 18.95s/it]"
     ]
    },
    {
     "name": "stdout",
     "output_type": "stream",
     "text": [
      "✅ Tuile 219 terminée.\n"
     ]
    },
    {
     "name": "stderr",
     "output_type": "stream",
     "text": [
      "Tuiles traitées:  21%|██▏       | 221/1038 [51:50<3:31:26, 15.53s/it]"
     ]
    },
    {
     "name": "stdout",
     "output_type": "stream",
     "text": [
      "✅ Tuile 220 terminée.\n"
     ]
    },
    {
     "name": "stderr",
     "output_type": "stream",
     "text": [
      "Tuiles traitées:  21%|██▏       | 222/1038 [52:51<6:36:49, 29.18s/it]"
     ]
    },
    {
     "name": "stdout",
     "output_type": "stream",
     "text": [
      "✅ Tuile 221 terminée.\n"
     ]
    },
    {
     "name": "stderr",
     "output_type": "stream",
     "text": [
      "Tuiles traitées:  21%|██▏       | 223/1038 [54:25<11:00:06, 48.60s/it]"
     ]
    },
    {
     "name": "stdout",
     "output_type": "stream",
     "text": [
      "✅ Tuile 222 terminée.\n"
     ]
    },
    {
     "name": "stderr",
     "output_type": "stream",
     "text": [
      "Tuiles traitées:  22%|██▏       | 224/1038 [54:29<7:56:20, 35.11s/it] "
     ]
    },
    {
     "name": "stdout",
     "output_type": "stream",
     "text": [
      "✅ Tuile 223 terminée.\n"
     ]
    },
    {
     "name": "stderr",
     "output_type": "stream",
     "text": [
      "Tuiles traitées:  22%|██▏       | 225/1038 [54:37<6:05:54, 27.00s/it]"
     ]
    },
    {
     "name": "stdout",
     "output_type": "stream",
     "text": [
      "✅ Tuile 224 terminée.\n"
     ]
    },
    {
     "name": "stderr",
     "output_type": "stream",
     "text": [
      "Tuiles traitées:  22%|██▏       | 226/1038 [54:38<4:21:29, 19.32s/it]"
     ]
    },
    {
     "name": "stdout",
     "output_type": "stream",
     "text": [
      "✅ Tuile 225 terminée.\n"
     ]
    },
    {
     "name": "stderr",
     "output_type": "stream",
     "text": [
      "Tuiles traitées:  22%|██▏       | 227/1038 [54:50<3:50:04, 17.02s/it]"
     ]
    },
    {
     "name": "stdout",
     "output_type": "stream",
     "text": [
      "✅ Tuile 226 terminée.\n"
     ]
    },
    {
     "name": "stderr",
     "output_type": "stream",
     "text": [
      "Tuiles traitées:  22%|██▏       | 228/1038 [55:50<6:44:15, 29.95s/it]"
     ]
    },
    {
     "name": "stdout",
     "output_type": "stream",
     "text": [
      "✅ Tuile 227 terminée.\n",
      "⛔ Patch vide pour tile 233, date 20180516\n",
      "⛔ Patch vide pour tile 233, date 20180620\n"
     ]
    },
    {
     "name": "stderr",
     "output_type": "stream",
     "text": [
      "Tuiles traitées:  22%|██▏       | 229/1038 [57:14<10:22:57, 46.20s/it]"
     ]
    },
    {
     "name": "stdout",
     "output_type": "stream",
     "text": [
      "✅ Tuile 228 terminée.\n"
     ]
    },
    {
     "name": "stderr",
     "output_type": "stream",
     "text": [
      "Tuiles traitées:  22%|██▏       | 230/1038 [57:20<7:38:09, 34.02s/it] "
     ]
    },
    {
     "name": "stdout",
     "output_type": "stream",
     "text": [
      "✅ Tuile 229 terminée.\n"
     ]
    },
    {
     "name": "stderr",
     "output_type": "stream",
     "text": [
      "Tuiles traitées:  22%|██▏       | 231/1038 [57:34<6:18:31, 28.14s/it]"
     ]
    },
    {
     "name": "stdout",
     "output_type": "stream",
     "text": [
      "✅ Tuile 231 terminée.\n"
     ]
    },
    {
     "name": "stderr",
     "output_type": "stream",
     "text": [
      "Tuiles traitées:  22%|██▏       | 232/1038 [57:36<4:32:56, 20.32s/it]"
     ]
    },
    {
     "name": "stdout",
     "output_type": "stream",
     "text": [
      "✅ Tuile 230 terminée.\n",
      "⛔ Patch vide pour tile 234, date 20180620\n"
     ]
    },
    {
     "name": "stderr",
     "output_type": "stream",
     "text": [
      "Tuiles traitées:  22%|██▏       | 233/1038 [57:46<3:47:46, 16.98s/it]"
     ]
    },
    {
     "name": "stdout",
     "output_type": "stream",
     "text": [
      "✅ Tuile 232 terminée.\n",
      "⛔ Patch vide pour tile 235, date 20180715\n",
      "⛔ Patch vide pour tile 234, date 20180715\n",
      "⛔ Patch vide pour tile 236, date 20180715\n",
      "⛔ Patch vide pour tile 235, date 20180819\n",
      "⛔ Patch vide pour tile 236, date 20180819\n",
      "⛔ Patch vide pour tile 235, date 20180908\n"
     ]
    },
    {
     "name": "stderr",
     "output_type": "stream",
     "text": [
      "Tuiles traitées:  23%|██▎       | 234/1038 [58:35<5:59:04, 26.80s/it]"
     ]
    },
    {
     "name": "stdout",
     "output_type": "stream",
     "text": [
      "✅ Tuile 233 terminée.\n",
      "⛔ Patch vide pour tile 236, date 20180908\n",
      "⛔ Patch vide pour tile 235, date 20181018\n",
      "⛔ Patch vide pour tile 234, date 20181018\n",
      "⛔ Patch vide pour tile 235, date 20181102\n",
      "⛔ Patch vide pour tile 236, date 20181102\n"
     ]
    },
    {
     "name": "stderr",
     "output_type": "stream",
     "text": [
      "Tuiles traitées:  23%|██▎       | 235/1038 [59:08<6:22:13, 28.56s/it]"
     ]
    },
    {
     "name": "stdout",
     "output_type": "stream",
     "text": [
      "✅ Tuile 237 terminée.\n"
     ]
    },
    {
     "name": "stderr",
     "output_type": "stream",
     "text": [
      "Tuiles traitées:  23%|██▎       | 236/1038 [59:14<4:50:39, 21.74s/it]"
     ]
    },
    {
     "name": "stdout",
     "output_type": "stream",
     "text": [
      "✅ Tuile 235 terminée.\n"
     ]
    },
    {
     "name": "stderr",
     "output_type": "stream",
     "text": [
      "Tuiles traitées:  23%|██▎       | 237/1038 [59:18<3:41:39, 16.60s/it]"
     ]
    },
    {
     "name": "stdout",
     "output_type": "stream",
     "text": [
      "✅ Tuile 236 terminée.\n"
     ]
    },
    {
     "name": "stderr",
     "output_type": "stream",
     "text": [
      "Tuiles traitées:  23%|██▎       | 238/1038 [59:20<2:42:21, 12.18s/it]"
     ]
    },
    {
     "name": "stdout",
     "output_type": "stream",
     "text": [
      "✅ Tuile 238 terminée.\n"
     ]
    },
    {
     "name": "stderr",
     "output_type": "stream",
     "text": [
      "Tuiles traitées:  23%|██▎       | 239/1038 [59:21<1:55:53,  8.70s/it]"
     ]
    },
    {
     "name": "stdout",
     "output_type": "stream",
     "text": [
      "✅ Tuile 234 terminée.\n"
     ]
    },
    {
     "name": "stderr",
     "output_type": "stream",
     "text": [
      "Tuiles traitées:  23%|██▎       | 240/1038 [1:00:06<4:21:20, 19.65s/it]"
     ]
    },
    {
     "name": "stdout",
     "output_type": "stream",
     "text": [
      "✅ Tuile 239 terminée.\n"
     ]
    },
    {
     "name": "stderr",
     "output_type": "stream",
     "text": [
      "Tuiles traitées:  23%|██▎       | 241/1038 [1:00:40<5:19:43, 24.07s/it]"
     ]
    },
    {
     "name": "stdout",
     "output_type": "stream",
     "text": [
      "✅ Tuile 240 terminée.\n"
     ]
    },
    {
     "name": "stderr",
     "output_type": "stream",
     "text": [
      "Tuiles traitées:  23%|██▎       | 242/1038 [1:00:45<4:01:06, 18.17s/it]"
     ]
    },
    {
     "name": "stdout",
     "output_type": "stream",
     "text": [
      "✅ Tuile 241 terminée.\n"
     ]
    },
    {
     "name": "stderr",
     "output_type": "stream",
     "text": [
      "Tuiles traitées:  23%|██▎       | 243/1038 [1:02:05<8:08:26, 36.86s/it]"
     ]
    },
    {
     "name": "stdout",
     "output_type": "stream",
     "text": [
      "✅ Tuile 243 terminée.\n"
     ]
    },
    {
     "name": "stderr",
     "output_type": "stream",
     "text": [
      "Tuiles traitées:  24%|██▎       | 244/1038 [1:02:06<5:44:39, 26.05s/it]"
     ]
    },
    {
     "name": "stdout",
     "output_type": "stream",
     "text": [
      "✅ Tuile 244 terminée.\n"
     ]
    },
    {
     "name": "stderr",
     "output_type": "stream",
     "text": [
      "Tuiles traitées:  24%|██▎       | 245/1038 [1:02:25<5:17:51, 24.05s/it]"
     ]
    },
    {
     "name": "stdout",
     "output_type": "stream",
     "text": [
      "✅ Tuile 242 terminée.\n"
     ]
    },
    {
     "name": "stderr",
     "output_type": "stream",
     "text": [
      "Tuiles traitées:  24%|██▎       | 246/1038 [1:02:50<5:19:49, 24.23s/it]"
     ]
    },
    {
     "name": "stdout",
     "output_type": "stream",
     "text": [
      "✅ Tuile 245 terminée.\n"
     ]
    },
    {
     "name": "stderr",
     "output_type": "stream",
     "text": [
      "Tuiles traitées:  24%|██▍       | 247/1038 [1:03:21<5:45:35, 26.21s/it]"
     ]
    },
    {
     "name": "stdout",
     "output_type": "stream",
     "text": [
      "✅ Tuile 246 terminée.\n"
     ]
    },
    {
     "name": "stderr",
     "output_type": "stream",
     "text": [
      "Tuiles traitées:  24%|██▍       | 248/1038 [1:03:28<4:28:17, 20.38s/it]"
     ]
    },
    {
     "name": "stdout",
     "output_type": "stream",
     "text": [
      "✅ Tuile 247 terminée.\n"
     ]
    },
    {
     "name": "stderr",
     "output_type": "stream",
     "text": [
      "Tuiles traitées:  24%|██▍       | 249/1038 [1:04:58<9:03:54, 41.36s/it]"
     ]
    },
    {
     "name": "stdout",
     "output_type": "stream",
     "text": [
      "✅ Tuile 248 terminée.\n"
     ]
    },
    {
     "name": "stderr",
     "output_type": "stream",
     "text": [
      "Tuiles traitées:  24%|██▍       | 250/1038 [1:05:09<7:04:38, 32.33s/it]"
     ]
    },
    {
     "name": "stdout",
     "output_type": "stream",
     "text": [
      "✅ Tuile 249 terminée.\n"
     ]
    },
    {
     "name": "stderr",
     "output_type": "stream",
     "text": [
      "Tuiles traitées:  24%|██▍       | 251/1038 [1:05:28<6:08:42, 28.11s/it]"
     ]
    },
    {
     "name": "stdout",
     "output_type": "stream",
     "text": [
      "✅ Tuile 250 terminée.\n"
     ]
    },
    {
     "name": "stderr",
     "output_type": "stream",
     "text": [
      "Tuiles traitées:  24%|██▍       | 252/1038 [1:05:46<5:29:13, 25.13s/it]"
     ]
    },
    {
     "name": "stdout",
     "output_type": "stream",
     "text": [
      "✅ Tuile 251 terminée.\n"
     ]
    },
    {
     "name": "stderr",
     "output_type": "stream",
     "text": [
      "Tuiles traitées:  24%|██▍       | 253/1038 [1:06:18<5:55:48, 27.20s/it]"
     ]
    },
    {
     "name": "stdout",
     "output_type": "stream",
     "text": [
      "✅ Tuile 252 terminée.\n"
     ]
    },
    {
     "name": "stderr",
     "output_type": "stream",
     "text": [
      "Tuiles traitées:  24%|██▍       | 254/1038 [1:06:28<4:47:57, 22.04s/it]"
     ]
    },
    {
     "name": "stdout",
     "output_type": "stream",
     "text": [
      "✅ Tuile 253 terminée.\n"
     ]
    },
    {
     "name": "stderr",
     "output_type": "stream",
     "text": [
      "Tuiles traitées:  25%|██▍       | 255/1038 [1:07:39<7:58:49, 36.69s/it]"
     ]
    },
    {
     "name": "stdout",
     "output_type": "stream",
     "text": [
      "✅ Tuile 254 terminée.\n"
     ]
    },
    {
     "name": "stderr",
     "output_type": "stream",
     "text": [
      "Tuiles traitées:  25%|██▍       | 256/1038 [1:07:52<6:27:26, 29.73s/it]"
     ]
    },
    {
     "name": "stdout",
     "output_type": "stream",
     "text": [
      "✅ Tuile 255 terminée.\n"
     ]
    },
    {
     "name": "stderr",
     "output_type": "stream",
     "text": [
      "Tuiles traitées:  25%|██▍       | 257/1038 [1:08:04<5:18:11, 24.45s/it]"
     ]
    },
    {
     "name": "stdout",
     "output_type": "stream",
     "text": [
      "✅ Tuile 256 terminée.\n"
     ]
    },
    {
     "name": "stderr",
     "output_type": "stream",
     "text": [
      "Tuiles traitées:  25%|██▍       | 258/1038 [1:08:40<6:03:35, 27.97s/it]"
     ]
    },
    {
     "name": "stdout",
     "output_type": "stream",
     "text": [
      "✅ Tuile 257 terminée.\n"
     ]
    },
    {
     "name": "stderr",
     "output_type": "stream",
     "text": [
      "Tuiles traitées:  25%|██▍       | 259/1038 [1:09:16<6:31:42, 30.17s/it]"
     ]
    },
    {
     "name": "stdout",
     "output_type": "stream",
     "text": [
      "✅ Tuile 258 terminée.\n"
     ]
    },
    {
     "name": "stderr",
     "output_type": "stream",
     "text": [
      "Tuiles traitées:  25%|██▌       | 260/1038 [1:09:24<5:06:03, 23.60s/it]"
     ]
    },
    {
     "name": "stdout",
     "output_type": "stream",
     "text": [
      "✅ Tuile 259 terminée.\n"
     ]
    },
    {
     "name": "stderr",
     "output_type": "stream",
     "text": [
      "Tuiles traitées:  25%|██▌       | 261/1038 [1:10:43<8:41:09, 40.24s/it]"
     ]
    },
    {
     "name": "stdout",
     "output_type": "stream",
     "text": [
      "✅ Tuile 260 terminée.\n"
     ]
    },
    {
     "name": "stderr",
     "output_type": "stream",
     "text": [
      "Tuiles traitées:  25%|██▌       | 262/1038 [1:10:46<6:15:21, 29.02s/it]"
     ]
    },
    {
     "name": "stdout",
     "output_type": "stream",
     "text": [
      "✅ Tuile 261 terminée.\n"
     ]
    },
    {
     "name": "stderr",
     "output_type": "stream",
     "text": [
      "Tuiles traitées:  25%|██▌       | 263/1038 [1:10:57<5:05:07, 23.62s/it]"
     ]
    },
    {
     "name": "stdout",
     "output_type": "stream",
     "text": [
      "✅ Tuile 262 terminée.\n"
     ]
    },
    {
     "name": "stderr",
     "output_type": "stream",
     "text": [
      "Tuiles traitées:  25%|██▌       | 264/1038 [1:11:22<5:11:49, 24.17s/it]"
     ]
    },
    {
     "name": "stdout",
     "output_type": "stream",
     "text": [
      "✅ Tuile 263 terminée.\n",
      "⛔ Patch vide pour tile 269, date 20180126\n",
      "⛔ Patch vide pour tile 269, date 20180225\n"
     ]
    },
    {
     "name": "stderr",
     "output_type": "stream",
     "text": [
      "Tuiles traitées:  26%|██▌       | 265/1038 [1:11:58<5:55:30, 27.59s/it]"
     ]
    },
    {
     "name": "stdout",
     "output_type": "stream",
     "text": [
      "✅ Tuile 264 terminée.\n"
     ]
    },
    {
     "name": "stderr",
     "output_type": "stream",
     "text": [
      "Tuiles traitées:  26%|██▌       | 266/1038 [1:12:05<4:35:03, 21.38s/it]"
     ]
    },
    {
     "name": "stdout",
     "output_type": "stream",
     "text": [
      "✅ Tuile 265 terminée.\n",
      "⛔ Patch vide pour tile 269, date 20180620\n",
      "⛔ Patch vide pour tile 270, date 20180620\n",
      "⛔ Patch vide pour tile 271, date 20180715\n",
      "⛔ Patch vide pour tile 270, date 20180715\n",
      "⛔ Patch vide pour tile 271, date 20180819\n",
      "⛔ Patch vide pour tile 271, date 20180908\n",
      "⛔ Patch vide pour tile 270, date 20180819\n"
     ]
    },
    {
     "name": "stderr",
     "output_type": "stream",
     "text": [
      "Tuiles traitées:  26%|██▌       | 267/1038 [1:13:24<8:17:39, 38.73s/it]"
     ]
    },
    {
     "name": "stdout",
     "output_type": "stream",
     "text": [
      "✅ Tuile 266 terminée.\n"
     ]
    },
    {
     "name": "stderr",
     "output_type": "stream",
     "text": [
      "Tuiles traitées:  26%|██▌       | 268/1038 [1:13:26<5:54:04, 27.59s/it]"
     ]
    },
    {
     "name": "stdout",
     "output_type": "stream",
     "text": [
      "✅ Tuile 267 terminée.\n",
      "⛔ Patch vide pour tile 271, date 20181018\n",
      "⛔ Patch vide pour tile 271, date 20181102\n"
     ]
    },
    {
     "name": "stderr",
     "output_type": "stream",
     "text": [
      "Tuiles traitées:  26%|██▌       | 269/1038 [1:13:35<4:43:02, 22.08s/it]"
     ]
    },
    {
     "name": "stdout",
     "output_type": "stream",
     "text": [
      "✅ Tuile 268 terminée.\n",
      "⛔ Patch vide pour tile 270, date 20181018\n",
      "⛔ Patch vide pour tile 270, date 20181102\n"
     ]
    },
    {
     "name": "stderr",
     "output_type": "stream",
     "text": [
      "Tuiles traitées:  26%|██▌       | 270/1038 [1:13:47<4:02:33, 18.95s/it]"
     ]
    },
    {
     "name": "stdout",
     "output_type": "stream",
     "text": [
      "✅ Tuile 271 terminée.\n"
     ]
    },
    {
     "name": "stderr",
     "output_type": "stream",
     "text": [
      "Tuiles traitées:  26%|██▌       | 271/1038 [1:13:50<3:04:28, 14.43s/it]"
     ]
    },
    {
     "name": "stdout",
     "output_type": "stream",
     "text": [
      "✅ Tuile 269 terminée.\n"
     ]
    },
    {
     "name": "stderr",
     "output_type": "stream",
     "text": [
      "Tuiles traitées:  26%|██▌       | 272/1038 [1:14:00<2:44:25, 12.88s/it]"
     ]
    },
    {
     "name": "stdout",
     "output_type": "stream",
     "text": [
      "✅ Tuile 270 terminée.\n",
      "⛔ Patch vide pour tile 272, date 20180819\n",
      "⛔ Patch vide pour tile 272, date 20180908\n",
      "⛔ Patch vide pour tile 272, date 20181102\n"
     ]
    },
    {
     "name": "stderr",
     "output_type": "stream",
     "text": [
      "Tuiles traitées:  26%|██▋       | 273/1038 [1:14:50<5:09:04, 24.24s/it]"
     ]
    },
    {
     "name": "stdout",
     "output_type": "stream",
     "text": [
      "✅ Tuile 272 terminée.\n"
     ]
    },
    {
     "name": "stderr",
     "output_type": "stream",
     "text": [
      "Tuiles traitées:  26%|██▋       | 274/1038 [1:14:53<3:44:42, 17.65s/it]"
     ]
    },
    {
     "name": "stdout",
     "output_type": "stream",
     "text": [
      "✅ Tuile 273 terminée.\n"
     ]
    },
    {
     "name": "stderr",
     "output_type": "stream",
     "text": [
      "Tuiles traitées:  26%|██▋       | 275/1038 [1:16:20<8:10:10, 38.55s/it]"
     ]
    },
    {
     "name": "stdout",
     "output_type": "stream",
     "text": [
      "✅ Tuile 274 terminée.\n"
     ]
    },
    {
     "name": "stderr",
     "output_type": "stream",
     "text": [
      "Tuiles traitées:  27%|██▋       | 276/1038 [1:16:25<6:02:22, 28.53s/it]"
     ]
    },
    {
     "name": "stdout",
     "output_type": "stream",
     "text": [
      "✅ Tuile 275 terminée.\n"
     ]
    },
    {
     "name": "stderr",
     "output_type": "stream",
     "text": [
      "Tuiles traitées:  27%|██▋       | 277/1038 [1:16:37<4:58:49, 23.56s/it]"
     ]
    },
    {
     "name": "stdout",
     "output_type": "stream",
     "text": [
      "✅ Tuile 276 terminée.\n"
     ]
    },
    {
     "name": "stderr",
     "output_type": "stream",
     "text": [
      "Tuiles traitées:  27%|██▋       | 278/1038 [1:16:45<3:58:32, 18.83s/it]"
     ]
    },
    {
     "name": "stdout",
     "output_type": "stream",
     "text": [
      "✅ Tuile 277 terminée.\n"
     ]
    },
    {
     "name": "stderr",
     "output_type": "stream",
     "text": [
      "Tuiles traitées:  27%|██▋       | 279/1038 [1:17:36<6:01:33, 28.58s/it]"
     ]
    },
    {
     "name": "stdout",
     "output_type": "stream",
     "text": [
      "✅ Tuile 278 terminée.\n"
     ]
    },
    {
     "name": "stderr",
     "output_type": "stream",
     "text": [
      "Tuiles traitées:  27%|██▋       | 280/1038 [1:17:43<4:39:42, 22.14s/it]"
     ]
    },
    {
     "name": "stdout",
     "output_type": "stream",
     "text": [
      "✅ Tuile 279 terminée.\n"
     ]
    },
    {
     "name": "stderr",
     "output_type": "stream",
     "text": [
      "Tuiles traitées:  27%|██▋       | 281/1038 [1:19:08<8:36:51, 40.97s/it]"
     ]
    },
    {
     "name": "stdout",
     "output_type": "stream",
     "text": [
      "✅ Tuile 281 terminée.\n"
     ]
    },
    {
     "name": "stderr",
     "output_type": "stream",
     "text": [
      "Tuiles traitées:  27%|██▋       | 282/1038 [1:19:11<6:10:51, 29.43s/it]"
     ]
    },
    {
     "name": "stdout",
     "output_type": "stream",
     "text": [
      "✅ Tuile 280 terminée.\n"
     ]
    },
    {
     "name": "stderr",
     "output_type": "stream",
     "text": [
      "Tuiles traitées:  27%|██▋       | 283/1038 [1:19:19<4:52:08, 23.22s/it]"
     ]
    },
    {
     "name": "stdout",
     "output_type": "stream",
     "text": [
      "✅ Tuile 282 terminée.\n"
     ]
    },
    {
     "name": "stderr",
     "output_type": "stream",
     "text": [
      "Tuiles traitées:  27%|██▋       | 284/1038 [1:19:37<4:30:11, 21.50s/it]"
     ]
    },
    {
     "name": "stdout",
     "output_type": "stream",
     "text": [
      "✅ Tuile 283 terminée.\n"
     ]
    },
    {
     "name": "stderr",
     "output_type": "stream",
     "text": [
      "Tuiles traitées:  27%|██▋       | 285/1038 [1:20:24<6:05:20, 29.11s/it]"
     ]
    },
    {
     "name": "stdout",
     "output_type": "stream",
     "text": [
      "✅ Tuile 284 terminée.\n"
     ]
    },
    {
     "name": "stderr",
     "output_type": "stream",
     "text": [
      "Tuiles traitées:  28%|██▊       | 286/1038 [1:20:34<4:54:06, 23.47s/it]"
     ]
    },
    {
     "name": "stdout",
     "output_type": "stream",
     "text": [
      "✅ Tuile 285 terminée.\n"
     ]
    },
    {
     "name": "stderr",
     "output_type": "stream",
     "text": [
      "Tuiles traitées:  28%|██▊       | 288/1038 [1:21:56<5:58:52, 28.71s/it]"
     ]
    },
    {
     "name": "stdout",
     "output_type": "stream",
     "text": [
      "✅ Tuile 286 terminée.\n",
      "✅ Tuile 287 terminée.\n"
     ]
    },
    {
     "name": "stderr",
     "output_type": "stream",
     "text": [
      "Tuiles traitées:  28%|██▊       | 289/1038 [1:22:04<4:39:33, 22.39s/it]"
     ]
    },
    {
     "name": "stdout",
     "output_type": "stream",
     "text": [
      "✅ Tuile 288 terminée.\n"
     ]
    },
    {
     "name": "stderr",
     "output_type": "stream",
     "text": [
      "Tuiles traitées:  28%|██▊       | 290/1038 [1:22:21<4:20:37, 20.91s/it]"
     ]
    },
    {
     "name": "stdout",
     "output_type": "stream",
     "text": [
      "✅ Tuile 289 terminée.\n"
     ]
    },
    {
     "name": "stderr",
     "output_type": "stream",
     "text": [
      "Tuiles traitées:  28%|██▊       | 291/1038 [1:23:18<6:34:41, 31.70s/it]"
     ]
    },
    {
     "name": "stdout",
     "output_type": "stream",
     "text": [
      "✅ Tuile 290 terminée.\n"
     ]
    },
    {
     "name": "stderr",
     "output_type": "stream",
     "text": [
      "Tuiles traitées:  28%|██▊       | 292/1038 [1:23:19<4:38:03, 22.36s/it]"
     ]
    },
    {
     "name": "stdout",
     "output_type": "stream",
     "text": [
      "✅ Tuile 291 terminée.\n"
     ]
    },
    {
     "name": "stderr",
     "output_type": "stream",
     "text": [
      "Tuiles traitées:  28%|██▊       | 293/1038 [1:24:48<8:47:00, 42.44s/it]"
     ]
    },
    {
     "name": "stdout",
     "output_type": "stream",
     "text": [
      "✅ Tuile 293 terminée.\n"
     ]
    },
    {
     "name": "stderr",
     "output_type": "stream",
     "text": [
      "Tuiles traitées:  28%|██▊       | 295/1038 [1:24:50<4:23:22, 21.27s/it]"
     ]
    },
    {
     "name": "stdout",
     "output_type": "stream",
     "text": [
      "✅ Tuile 294 terminée.\n",
      "✅ Tuile 292 terminée.\n"
     ]
    },
    {
     "name": "stderr",
     "output_type": "stream",
     "text": [
      "Tuiles traitées:  29%|██▊       | 296/1038 [1:25:10<4:16:22, 20.73s/it]"
     ]
    },
    {
     "name": "stdout",
     "output_type": "stream",
     "text": [
      "✅ Tuile 295 terminée.\n"
     ]
    },
    {
     "name": "stderr",
     "output_type": "stream",
     "text": [
      "Tuiles traitées:  29%|██▊       | 297/1038 [1:26:07<6:32:27, 31.78s/it]"
     ]
    },
    {
     "name": "stdout",
     "output_type": "stream",
     "text": [
      "✅ Tuile 296 terminée.\n"
     ]
    },
    {
     "name": "stderr",
     "output_type": "stream",
     "text": [
      "Tuiles traitées:  29%|██▊       | 298/1038 [1:26:19<5:19:28, 25.90s/it]"
     ]
    },
    {
     "name": "stdout",
     "output_type": "stream",
     "text": [
      "✅ Tuile 297 terminée.\n",
      "⛔ Patch vide pour tile 303, date 20180620\n"
     ]
    },
    {
     "name": "stderr",
     "output_type": "stream",
     "text": [
      "Tuiles traitées:  29%|██▉       | 299/1038 [1:27:41<8:43:53, 42.54s/it]"
     ]
    },
    {
     "name": "stdout",
     "output_type": "stream",
     "text": [
      "✅ Tuile 298 terminée.\n"
     ]
    },
    {
     "name": "stderr",
     "output_type": "stream",
     "text": [
      "Tuiles traitées:  29%|██▉       | 300/1038 [1:27:52<6:46:43, 33.07s/it]"
     ]
    },
    {
     "name": "stdout",
     "output_type": "stream",
     "text": [
      "✅ Tuile 300 terminée.\n"
     ]
    },
    {
     "name": "stderr",
     "output_type": "stream",
     "text": [
      "Tuiles traitées:  29%|██▉       | 301/1038 [1:27:53<4:47:41, 23.42s/it]"
     ]
    },
    {
     "name": "stdout",
     "output_type": "stream",
     "text": [
      "✅ Tuile 299 terminée.\n"
     ]
    },
    {
     "name": "stderr",
     "output_type": "stream",
     "text": [
      "Tuiles traitées:  29%|██▉       | 302/1038 [1:27:58<3:42:08, 18.11s/it]"
     ]
    },
    {
     "name": "stdout",
     "output_type": "stream",
     "text": [
      "✅ Tuile 301 terminée.\n",
      "⛔ Patch vide pour tile 304, date 20180620\n",
      "⛔ Patch vide pour tile 304, date 20180715\n"
     ]
    },
    {
     "name": "stderr",
     "output_type": "stream",
     "text": [
      "Tuiles traitées:  29%|██▉       | 303/1038 [1:28:51<5:47:30, 28.37s/it]"
     ]
    },
    {
     "name": "stdout",
     "output_type": "stream",
     "text": [
      "✅ Tuile 302 terminée.\n"
     ]
    },
    {
     "name": "stderr",
     "output_type": "stream",
     "text": [
      "Tuiles traitées:  29%|██▉       | 304/1038 [1:29:01<4:42:47, 23.12s/it]"
     ]
    },
    {
     "name": "stdout",
     "output_type": "stream",
     "text": [
      "✅ Tuile 303 terminée.\n"
     ]
    }
   ],
   "source": [
    "import ee\n",
    "import numpy as np\n",
    "import os\n",
    "import requests\n",
    "from concurrent.futures import ThreadPoolExecutor, as_completed\n",
    "from tqdm import tqdm\n",
    "from datetime import datetime, timedelta, timezone\n",
    "import geopandas as gpd\n",
    "from shapely.geometry import mapping\n",
    "import boto3\n",
    "import io\n",
    "\n",
    "# 📦 Connexion au bucket S3\n",
    "s3 = boto3.client(\"s3\",endpoint_url = 'https://'+'minio.lab.sspcloud.fr',\n",
    "                  aws_access_key_id= 'NFL60EFJUDDV2NNHLZ8A', \n",
    "                  aws_secret_access_key= 'SEfeM+G3Ng0HJi6vb6CnW67wLzUu48wRpPho63Gb', \n",
    "                  aws_session_token = 'eyJhbGciOiJIUzUxMiIsInR5cCI6IkpXVCJ9.eyJhY2Nlc3NLZXkiOiJORkw2MEVGSlVERFYyTk5ITFo4QSIsImFsbG93ZWQtb3JpZ2lucyI6WyIqIl0sImF1ZCI6WyJtaW5pby1kYXRhbm9kZSIsIm9ueXhpYSIsImFjY291bnQiXSwiYXV0aF90aW1lIjoxNzUzMDgyMzE3LCJhenAiOiJvbnl4aWEiLCJlbWFpbCI6ImFudG9pbmUubGVzYXV2YWdlQGFncmljdWx0dXJlLmdvdXYuZnIiLCJlbWFpbF92ZXJpZmllZCI6dHJ1ZSwiZXhwIjoxNzUzNjkzOTAxLCJmYW1pbHlfbmFtZSI6IkxFU0FVVkFHRSIsImdpdmVuX25hbWUiOiJBbnRvaW5lIiwiZ3JvdXBzIjpbIlVTRVJfT05ZWElBIl0sImlhdCI6MTc1MzA4OTEwMCwiaXNzIjoiaHR0cHM6Ly9hdXRoLmxhYi5zc3BjbG91ZC5mci9hdXRoL3JlYWxtcy9zc3BjbG91ZCIsImp0aSI6Im9ucnRydDoyMjIwMzkxOC0wNDc5LTQxNDMtYjZjNC02MzI2NTI4ODYwMTAiLCJsb2NhbGUiOiJmciIsIm5hbWUiOiJBbnRvaW5lIExFU0FVVkFHRSIsInBvbGljeSI6InN0c29ubHkiLCJwcmVmZXJyZWRfdXNlcm5hbWUiOiJhbnRvaW5lbGVzYXV2YWdlIiwicmVhbG1fYWNjZXNzIjp7InJvbGVzIjpbIm9mZmxpbmVfYWNjZXNzIiwidW1hX2F1dGhvcml6YXRpb24iLCJkZWZhdWx0LXJvbGVzLXNzcGNsb3VkIl19LCJyZXNvdXJjZV9hY2Nlc3MiOnsiYWNjb3VudCI6eyJyb2xlcyI6WyJtYW5hZ2UtYWNjb3VudCIsIm1hbmFnZS1hY2NvdW50LWxpbmtzIiwidmlldy1wcm9maWxlIl19fSwicm9sZXMiOlsib2ZmbGluZV9hY2Nlc3MiLCJ1bWFfYXV0aG9yaXphdGlvbiIsImRlZmF1bHQtcm9sZXMtc3NwY2xvdWQiXSwic2NvcGUiOiJvcGVuaWQgcHJvZmlsZSBncm91cHMgZW1haWwiLCJzaWQiOiIyNmMwNWExOC1lZTYyLTRlYTgtYjU4NC1jODMxZjFiOWU3NDciLCJzdWIiOiJlOWY4NjIyYy01MzQ2LTRjOGUtOWZmYi1jY2MwMzZjY2ZjZjciLCJ0eXAiOiJCZWFyZXIifQ.x-blmyoysU-BHK_dyWyBwWlB3_I27wtyO-vdEyPSLKVibm_lF6BwunlvzRzhod1mD9LUFht538xnyrr1Nyi0KQ')\n",
    "BUCKET_NAME = \"antoinelesauvage\"  # change ici\n",
    "S3_PREFIX = \"vergers-france/data_2018\"\n",
    " \n",
    "def s3_file_exists(bucket, key):\n",
    "    try:\n",
    "        s3.head_object(Bucket=bucket, Key=key)\n",
    "        return True\n",
    "    except s3.exceptions.ClientError as e:\n",
    "        if e.response['Error']['Code'] == \"404\":\n",
    "            return False\n",
    "        else:\n",
    "            raise\n",
    "# Paramètres\n",
    "BANDS = ['B2', 'B3', 'B4', 'B5', 'B6', 'B7', 'B8', 'B8A', 'B11', 'B12']  # Limiter le nombre de bandes\n",
    "START_DATE = '2018-01-01'\n",
    "END_DATE = '2018-12-31'\n",
    "SCALE = 10  # Ajuster l'échelle pour réduire la résolution\n",
    "#EXPORT_DIR = \"/home/onyxia/work/data/patches_2018\"\n",
    "MAX_WORKERS = 6\n",
    "\n",
    "# Initialiser Earth Engine\n",
    "ee.Initialize()\n",
    "\n",
    "# Charger la grille\n",
    "grid = gpd.read_file(\"grid_indre_loire.geojson\")\n",
    "tiles = [ee.Geometry(mapping[\"geometry\"]) for mapping in grid.iterfeatures()]\n",
    "def download_tile(tile_id):\n",
    "    tile = tiles[tile_id]  # ✅ défini ici\n",
    "    collection = ee.ImageCollection(\"COPERNICUS/S2_SR_HARMONIZED\") \\\n",
    "        .filterDate(START_DATE, END_DATE) \\\n",
    "        .filterBounds(tile) \\\n",
    "        .filter(ee.Filter.lt('CLOUDY_PIXEL_PERCENTAGE', 20)) \\\n",
    "        .select(BANDS)\n",
    "\n",
    "    try:\n",
    "        dates = collection.aggregate_array(\"system:time_start\").getInfo()\n",
    "        dates = sorted(set(datetime.fromtimestamp(t / 1000, tz=timezone.utc).strftime('%Y%m%d') for t in dates))\n",
    "    except Exception as e:\n",
    "        print(f\"❌ Erreur d'accès à la collection pour tile {tile_id} : {e}\")\n",
    "        return\n",
    "\n",
    "\n",
    "    for date in dates:\n",
    "        filename_s3 = f\"{tile_id}_{date}.npy\"\n",
    "        key = f\"{S3_PREFIX}/{filename_s3}\"\n",
    "        if s3_file_exists(BUCKET_NAME, key):\n",
    "            print(f\"⏭️  Déjà présent sur S3 : {filename_s3}\")\n",
    "            continue\n",
    "\n",
    "        try:\n",
    "            date_obj = datetime.strptime(date, \"%Y%m%d\")\n",
    "            start = (date_obj - timedelta(days=2)).strftime(\"%Y-%m-%d\")\n",
    "            end = (date_obj + timedelta(days=2)).strftime(\"%Y-%m-%d\")\n",
    "            image = collection.filterDate(start, end).median()\n",
    "\n",
    "            size_info = image.reduceRegion(\n",
    "                reducer=ee.Reducer.mean(),\n",
    "                geometry=tile,  # ✅ pas \"region\"\n",
    "                scale=10,\n",
    "                maxPixels=1e8\n",
    "            ).getInfo()\n",
    "            #print(f\"Informations de réduction pour tile {tile_id} et date {date}: {size_info}\")\n",
    "            # ✅ Vérification que les bandes ne sont pas toutes vides\n",
    "            if not size_info or all(v is None or v == 0 for v in size_info.values()):\n",
    "                print(f\"⛔ Patch vide pour tile {tile_id}, date {date}\")\n",
    "                continue\n",
    "            patch = image.clip(tile)\n",
    "            #patch = image.clip(tile).resample('bicubic').reproject(crs='EPSG:4326', scale=SCALE)\n",
    "            url = patch.getDownloadURL({\n",
    "                'scale': SCALE,\n",
    "                'region': tile,  # ✅ cohérent avec le reste\n",
    "                'format': 'NPY'\n",
    "            })\n",
    "\n",
    "            r = requests.get(url)\n",
    "            if r.status_code == 200:\n",
    "                    s3.upload_fileobj(\n",
    "                    io.BytesIO(r.content),\n",
    "                    BUCKET_NAME,\n",
    "                    f\"{S3_PREFIX}/{filename_s3}\"\n",
    "                    )\n",
    "            else:\n",
    "                print(f\"Requête échouée pour {tile_id} {date} avec le code: {r.status_code}\")\n",
    "\n",
    "        except Exception as e:\n",
    "            print(f\"⚠️ {date} failed for tile {tile_id}: {e}\")\n",
    "\n",
    "    print(f\"✅ Tuile {tile_id} terminée.\")\n",
    "\n",
    "# Téléchargement parallèle\n",
    "with ThreadPool\n",
    "Executor(max_workers=MAX_WORKERS) as executor:\n",
    "    futures = [executor.submit(download_tile, i) for i in range(len(tiles))] #len(tiles)\n",
    "    for future in tqdm(as_completed(futures), total=len(futures), desc=\"Tuiles traitées\"):\n",
    "        pass"
   ]
  },
  {
   "cell_type": "code",
   "execution_count": null,
   "id": "d115c865",
   "metadata": {},
   "outputs": [],
   "source": [
    "import os\n",
    "import re\n",
    "import numpy as np\n",
    "import s3fs\n",
    "from tqdm import tqdm\n",
    "from concurrent.futures import ThreadPoolExecutor\n",
    "\n",
    "# Configuration S3\n",
    "INPUT_DIR = \"s3://antoinelesauvage/vergers-france/data_2018\"\n",
    "OUTPUT_DIR = \"s3://mon-bucket/antoinelesauvage/vergers-france/patches_2018\"\n",
    "fs = s3fs.S3FileSystem(anon=False)\n",
    "\n",
    "def structured_to_array(arr_struct):\n",
    "    \"\"\"Convertit un tableau structuré [H, W] avec bandes → tableau [C, H, W]\"\"\"\n",
    "    bands = arr_struct.dtype.names\n",
    "    return np.stack([arr_struct[band] for band in bands], axis=0)\n",
    "\n",
    "# 🧩 Grouper les fichiers par tile_id (ex : \"0\", \"123\", etc.)\n",
    "def group_by_tile(npy_files):\n",
    "    pattern = re.compile(r\"^(\\d+)_\\d{8}\\.npy$\")\n",
    "    tile_groups = {}\n",
    "    for file_path in npy_files:\n",
    "        file_name = os.path.basename(file_path)\n",
    "        match = pattern.match(file_name)\n",
    "        if match:\n",
    "            tile_id = match.group(1)\n",
    "            tile_groups.setdefault(tile_id, []).append(file_path)\n",
    "    return tile_groups\n",
    "\n",
    "# 🔄 Traitement d'une seule tile\n",
    "def process_tile(tile_id, files):\n",
    "    images = []\n",
    "    for file_path in sorted(files):\n",
    "        try:\n",
    "            with fs.open(file_path, 'rb') as f:\n",
    "                array = np.load(f)\n",
    "                if array.ndim == 3:\n",
    "                    images.append(array)\n",
    "                elif array.ndim == 2 and array.dtype.names is not None:\n",
    "                    images.append(structured_to_array(array))\n",
    "                else:\n",
    "                    print(f\"❌ Format inattendu : {file_path}, shape={array.shape}, dtype={array.dtype}\")\n",
    "        except Exception as e:\n",
    "            print(f\"⚠️ Erreur chargement {file_path} : {e}\")\n",
    "\n",
    "    if not images:\n",
    "        print(f\"⚠️ Aucune image valide pour tile {tile_id}\")\n",
    "        return\n",
    "\n",
    "    try:\n",
    "        images_array = np.stack(images, axis=0)\n",
    "    except Exception as e:\n",
    "        print(f\"❌ Erreur empilement tile {tile_id} : {e}\")\n",
    "        return\n",
    "\n",
    "    output_path = f\"{OUTPUT_DIR}/{tile_id}.npy\"\n",
    "    try:\n",
    "        with fs.open(output_path, 'wb') as f:\n",
    "            np.save(f, images_array)\n",
    "        print(f\"✅ Sauvegardé {tile_id} → shape={images_array.shape}\")\n",
    "    except Exception as e:\n",
    "        print(f\"❌ Erreur sauvegarde {tile_id} : {e}\")\n",
    "\n",
    "# 🚀 Script principal\n",
    "if __name__ == \"__main__\":\n",
    "    print(\"🔍 Listing S3...\")\n",
    "    all_files = fs.ls(INPUT_DIR)\n",
    "    npy_files = [f for f in all_files if f.endswith(\".npy\")]\n",
    "\n",
    "    tile_groups = group_by_tile(npy_files)\n",
    "    print(f\"📦 {len(tile_groups)} tuiles détectées\")\n",
    "\n",
    "    with ThreadPoolExecutor(max_workers=8) as executor:\n",
    "        futures = [\n",
    "            executor.submit(process_tile, tile_id, tile_groups[tile_id])\n",
    "            for tile_id in tile_groups\n",
    "        ]\n",
    "        for f in tqdm(futures, desc=\"Traitement tuiles\"):\n",
    "            f.result()"
   ]
  },
  {
   "cell_type": "code",
   "execution_count": null,
   "id": "52c7d167",
   "metadata": {},
   "outputs": [],
   "source": [
    "import boto3\n",
    "import io\n",
    "import numpy as np\n",
    "from tqdm import tqdm\n",
    "\n",
    "# ⚙️ Paramètres S3\n",
    "S3_BUCKET = \"antoinelesauvage\"\n",
    "S3_INPUT_PREFIX = \"vergers-france/data_2018\"           # où sont les fichiers .npy individuels\n",
    "S3_OUTPUT_PREFIX = \"vergers-france/patches_2018\"     # où stocker les fichiers empilés\n",
    "s3 = boto3.client(\"s3\")\n",
    "\n",
    "def structured_to_array(arr_struct):\n",
    "    \"\"\"Convertit un tableau structuré [H, W] avec bandes → tableau [C, H, W]\"\"\"\n",
    "    bands = arr_struct.dtype.names\n",
    "    if bands is None:\n",
    "        raise ValueError(\"Tableau non structuré (pas de noms de bandes)\")\n",
    "    return np.stack([arr_struct[band] for band in bands], axis=0)\n",
    "\n",
    "def list_tiles():\n",
    "    \"\"\"Liste les tuiles disponibles dans S3_INPUT_PREFIX\"\"\"\n",
    "    result = s3.list_objects_v2(Bucket=S3_BUCKET, Prefix=S3_INPUT_PREFIX + \"/\")\n",
    "    tile_names = set()\n",
    "    if \"Contents\" in result:\n",
    "        for obj in result[\"Contents\"]:\n",
    "            parts = obj[\"Key\"].split(\"/\")\n",
    "            if len(parts) > 3:\n",
    "                tile_names.add(parts[2])  # ex: gee/patches_2018/tile_42/20180511.npy → tile_42\n",
    "    return sorted(tile_names)\n",
    "\n",
    "def list_npy_files(tile):\n",
    "    \"\"\"Liste les fichiers NPY dans une tuile\"\"\"\n",
    "    prefix = f\"{S3_INPUT_PREFIX}/{tile}/\"\n",
    "    result = s3.list_objects_v2(Bucket=S3_BUCKET, Prefix=prefix)\n",
    "    if \"Contents\" not in result:\n",
    "        return []\n",
    "    return sorted([\n",
    "        obj[\"Key\"] for obj in result[\"Contents\"]\n",
    "        if obj[\"Key\"].endswith(\".npy\")\n",
    "    ])\n",
    "\n",
    "def load_npy_from_s3(key):\n",
    "    \"\"\"Charge un fichier .npy depuis S3\"\"\"\n",
    "    response = s3.get_object(Bucket=S3_BUCKET, Key=key)\n",
    "    content = response[\"Body\"].read()\n",
    "    array = np.load(io.BytesIO(content))\n",
    "    if array.ndim == 3:\n",
    "        return array\n",
    "    elif array.ndim == 2 and array.dtype.names is not None:\n",
    "        return structured_to_array(array)\n",
    "    else:\n",
    "        print(f\"❌ Format inattendu : {key}, shape={array.shape}, dtype={array.dtype}\")\n",
    "        return None\n",
    "\n",
    "def save_array_to_s3(array, key):\n",
    "    \"\"\"Sauvegarde un tableau numpy sur S3\"\"\"\n",
    "    with io.BytesIO() as buffer:\n",
    "        np.save(buffer, array)\n",
    "        buffer.seek(0)\n",
    "        s3.upload_fileobj(buffer, Bucket=S3_BUCKET, Key=key)\n",
    "\n",
    "# 🔁 Traitement de chaque tuile\n",
    "for tile in tqdm(list_tiles()):\n",
    "    npy_keys = list_npy_files(tile)\n",
    "    if not npy_keys:\n",
    "        print(f\"⚠️ Pas de fichiers pour {tile}\")\n",
    "        continue"
   ]
  },
  {
   "cell_type": "code",
   "execution_count": 1,
   "id": "5c6d202e",
   "metadata": {},
   "outputs": [
    {
     "name": "stdout",
     "output_type": "stream",
     "text": [
      "Shape : (43, 10, 128, 128)\n"
     ]
    },
    {
     "data": {
      "image/png": "[encoded data removed]",
      "text/plain": [
       "<Figure size 1200x400 with 3 Axes>"
      ]
     },
     "metadata": {},
     "output_type": "display_data"
    }
   ],
   "source": [
    "import numpy as np\n",
    "import matplotlib.pyplot as plt\n",
    "\n",
    "# 📂 Charger un fichier .npy (ex. tile_01.npy)\n",
    "path = \"/home/onyxia/work/utae-paps/S2_10001.npy\"\n",
    "data = np.load(path)  # shape = (T, C, H, W)\n",
    "\n",
    "print(f\"Shape : {data.shape}\")  # Ex: (T, 10, H, W)\n",
    "\n",
    "# 🔎 Vérifier le nombre de dates disponibles\n",
    "T, C, H, W = data.shape\n",
    "\n",
    "# 🖼️ Afficher quelques dates en RGB (bandes B4, B3, B2)\n",
    "# Indices des bandes Sentinel-2 : B2=0, B3=1, B4=2, etc.\n",
    "band_B4 = 2\n",
    "band_B3 = 1\n",
    "band_B2 = 0\n",
    "\n",
    "# 🔄 Afficher par exemple les 3 premières dates\n",
    "n_samples = min(3, T)\n",
    "plt.figure(figsize=(12, 4))\n",
    "\n",
    "for i in range(n_samples):\n",
    "    rgb = np.stack([\n",
    "        data[i, band_B4],  # Red\n",
    "        data[i, band_B3],  # Green\n",
    "        data[i, band_B2],  # Blue\n",
    "    ], axis=-1)\n",
    "\n",
    "    # 🔧 Normalisation pour l'affichage (entre 0 et 1)\n",
    "    rgb = (rgb - rgb.min()) / (rgb.max() - rgb.min() + 1e-6)\n",
    "\n",
    "    plt.subplot(1, n_samples, i + 1)\n",
    "    plt.imshow(rgb)\n",
    "    plt.title(f\"Date {i}\")\n",
    "    plt.axis(\"off\")\n",
    "\n",
    "plt.tight_layout()\n",
    "plt.show()"
   ]
  }
 ],
 "metadata": {
  "kernelspec": {
   "display_name": "Python 3",
   "language": "python",
   "name": "python3"
  },
  "language_info": {
   "codemirror_mode": {
    "name": "ipython",
    "version": 3
   },
   "file_extension": ".py",
   "mimetype": "text/x-python",
   "name": "python",
   "nbconvert_exporter": "python",
   "pygments_lexer": "ipython3",
   "version": "3.13.5"
  }
 },
 "nbformat": 4,
 "nbformat_minor": 5
}
